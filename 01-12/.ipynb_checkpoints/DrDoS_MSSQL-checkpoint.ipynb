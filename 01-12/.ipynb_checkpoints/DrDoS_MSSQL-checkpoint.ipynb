{
 "cells": [
  {
   "cell_type": "code",
   "execution_count": 1,
   "metadata": {
    "colab": {
     "base_uri": "https://localhost:8080/",
     "height": 413
    },
    "executionInfo": {
     "elapsed": 5761,
     "status": "ok",
     "timestamp": 1699952396036,
     "user": {
      "displayName": "Farog Fayz",
      "userId": "10363686322394617612"
     },
     "user_tz": -120
    },
    "id": "LNyyzTo2bpi7",
    "outputId": "30ed1713-c0fa-4e2e-938e-a59274e24b37",
    "tags": []
   },
   "outputs": [
    {
     "name": "stderr",
     "output_type": "stream",
     "text": [
      "/tmp/ipykernel_20441/606950252.py:4: DtypeWarning: Columns (85) have mixed types. Specify dtype option on import or set low_memory=False.\n",
      "  data = pd.read_csv('https://1stdataset.s3.us-east-2.amazonaws.com/CSVs/CSV-01-12/01-12/DrDoS_MSSQL.csv')\n"
     ]
    },
    {
     "data": {
      "text/html": [
       "<div>\n",
       "<style scoped>\n",
       "    .dataframe tbody tr th:only-of-type {\n",
       "        vertical-align: middle;\n",
       "    }\n",
       "\n",
       "    .dataframe tbody tr th {\n",
       "        vertical-align: top;\n",
       "    }\n",
       "\n",
       "    .dataframe thead th {\n",
       "        text-align: right;\n",
       "    }\n",
       "</style>\n",
       "<table border=\"1\" class=\"dataframe\">\n",
       "  <thead>\n",
       "    <tr style=\"text-align: right;\">\n",
       "      <th></th>\n",
       "      <th>Unnamed: 0</th>\n",
       "      <th>Flow ID</th>\n",
       "      <th>Source IP</th>\n",
       "      <th>Source Port</th>\n",
       "      <th>Destination IP</th>\n",
       "      <th>Destination Port</th>\n",
       "      <th>Protocol</th>\n",
       "      <th>Timestamp</th>\n",
       "      <th>Flow Duration</th>\n",
       "      <th>Total Fwd Packets</th>\n",
       "      <th>...</th>\n",
       "      <th>Active Std</th>\n",
       "      <th>Active Max</th>\n",
       "      <th>Active Min</th>\n",
       "      <th>Idle Mean</th>\n",
       "      <th>Idle Std</th>\n",
       "      <th>Idle Max</th>\n",
       "      <th>Idle Min</th>\n",
       "      <th>SimillarHTTP</th>\n",
       "      <th>Inbound</th>\n",
       "      <th>Label</th>\n",
       "    </tr>\n",
       "  </thead>\n",
       "  <tbody>\n",
       "    <tr>\n",
       "      <th>0</th>\n",
       "      <td>139</td>\n",
       "      <td>172.16.0.5-192.168.50.1-0-0-0</td>\n",
       "      <td>172.16.0.5</td>\n",
       "      <td>0</td>\n",
       "      <td>192.168.50.1</td>\n",
       "      <td>0</td>\n",
       "      <td>0</td>\n",
       "      <td>2018-12-01 11:32:32.915441</td>\n",
       "      <td>119151083</td>\n",
       "      <td>60959</td>\n",
       "      <td>...</td>\n",
       "      <td>2.853681e+07</td>\n",
       "      <td>67834732.0</td>\n",
       "      <td>4024278.0</td>\n",
       "      <td>5975510.0</td>\n",
       "      <td>98.183502</td>\n",
       "      <td>5975622.0</td>\n",
       "      <td>5975358.0</td>\n",
       "      <td>0</td>\n",
       "      <td>1</td>\n",
       "      <td>DrDoS_MSSQL</td>\n",
       "    </tr>\n",
       "    <tr>\n",
       "      <th>1</th>\n",
       "      <td>38385</td>\n",
       "      <td>172.16.0.5-192.168.50.1-850-20345-17</td>\n",
       "      <td>172.16.0.5</td>\n",
       "      <td>850</td>\n",
       "      <td>192.168.50.1</td>\n",
       "      <td>20345</td>\n",
       "      <td>17</td>\n",
       "      <td>2018-12-01 11:32:32.915442</td>\n",
       "      <td>1</td>\n",
       "      <td>2</td>\n",
       "      <td>...</td>\n",
       "      <td>0.000000e+00</td>\n",
       "      <td>0.0</td>\n",
       "      <td>0.0</td>\n",
       "      <td>0.0</td>\n",
       "      <td>0.000000</td>\n",
       "      <td>0.0</td>\n",
       "      <td>0.0</td>\n",
       "      <td>0</td>\n",
       "      <td>1</td>\n",
       "      <td>DrDoS_MSSQL</td>\n",
       "    </tr>\n",
       "    <tr>\n",
       "      <th>2</th>\n",
       "      <td>27033</td>\n",
       "      <td>172.16.0.5-192.168.50.1-851-21631-17</td>\n",
       "      <td>172.16.0.5</td>\n",
       "      <td>851</td>\n",
       "      <td>192.168.50.1</td>\n",
       "      <td>21631</td>\n",
       "      <td>17</td>\n",
       "      <td>2018-12-01 11:32:32.915578</td>\n",
       "      <td>1</td>\n",
       "      <td>2</td>\n",
       "      <td>...</td>\n",
       "      <td>0.000000e+00</td>\n",
       "      <td>0.0</td>\n",
       "      <td>0.0</td>\n",
       "      <td>0.0</td>\n",
       "      <td>0.000000</td>\n",
       "      <td>0.0</td>\n",
       "      <td>0.0</td>\n",
       "      <td>0</td>\n",
       "      <td>1</td>\n",
       "      <td>DrDoS_MSSQL</td>\n",
       "    </tr>\n",
       "    <tr>\n",
       "      <th>3</th>\n",
       "      <td>34348</td>\n",
       "      <td>172.16.0.5-192.168.50.1-852-15332-17</td>\n",
       "      <td>172.16.0.5</td>\n",
       "      <td>852</td>\n",
       "      <td>192.168.50.1</td>\n",
       "      <td>15332</td>\n",
       "      <td>17</td>\n",
       "      <td>2018-12-01 11:32:32.915773</td>\n",
       "      <td>2</td>\n",
       "      <td>2</td>\n",
       "      <td>...</td>\n",
       "      <td>0.000000e+00</td>\n",
       "      <td>0.0</td>\n",
       "      <td>0.0</td>\n",
       "      <td>0.0</td>\n",
       "      <td>0.000000</td>\n",
       "      <td>0.0</td>\n",
       "      <td>0.0</td>\n",
       "      <td>0</td>\n",
       "      <td>1</td>\n",
       "      <td>DrDoS_MSSQL</td>\n",
       "    </tr>\n",
       "    <tr>\n",
       "      <th>4</th>\n",
       "      <td>19225</td>\n",
       "      <td>172.16.0.5-192.168.50.1-853-41853-17</td>\n",
       "      <td>172.16.0.5</td>\n",
       "      <td>853</td>\n",
       "      <td>192.168.50.1</td>\n",
       "      <td>41853</td>\n",
       "      <td>17</td>\n",
       "      <td>2018-12-01 11:32:32.916114</td>\n",
       "      <td>2</td>\n",
       "      <td>2</td>\n",
       "      <td>...</td>\n",
       "      <td>0.000000e+00</td>\n",
       "      <td>0.0</td>\n",
       "      <td>0.0</td>\n",
       "      <td>0.0</td>\n",
       "      <td>0.000000</td>\n",
       "      <td>0.0</td>\n",
       "      <td>0.0</td>\n",
       "      <td>0</td>\n",
       "      <td>1</td>\n",
       "      <td>DrDoS_MSSQL</td>\n",
       "    </tr>\n",
       "  </tbody>\n",
       "</table>\n",
       "<p>5 rows × 88 columns</p>\n",
       "</div>"
      ],
      "text/plain": [
       "   Unnamed: 0                               Flow ID   Source IP   Source Port  \\\n",
       "0         139         172.16.0.5-192.168.50.1-0-0-0  172.16.0.5             0   \n",
       "1       38385  172.16.0.5-192.168.50.1-850-20345-17  172.16.0.5           850   \n",
       "2       27033  172.16.0.5-192.168.50.1-851-21631-17  172.16.0.5           851   \n",
       "3       34348  172.16.0.5-192.168.50.1-852-15332-17  172.16.0.5           852   \n",
       "4       19225  172.16.0.5-192.168.50.1-853-41853-17  172.16.0.5           853   \n",
       "\n",
       "   Destination IP   Destination Port   Protocol                   Timestamp  \\\n",
       "0    192.168.50.1                  0          0  2018-12-01 11:32:32.915441   \n",
       "1    192.168.50.1              20345         17  2018-12-01 11:32:32.915442   \n",
       "2    192.168.50.1              21631         17  2018-12-01 11:32:32.915578   \n",
       "3    192.168.50.1              15332         17  2018-12-01 11:32:32.915773   \n",
       "4    192.168.50.1              41853         17  2018-12-01 11:32:32.916114   \n",
       "\n",
       "    Flow Duration   Total Fwd Packets  ...    Active Std   Active Max  \\\n",
       "0       119151083               60959  ...  2.853681e+07   67834732.0   \n",
       "1               1                   2  ...  0.000000e+00          0.0   \n",
       "2               1                   2  ...  0.000000e+00          0.0   \n",
       "3               2                   2  ...  0.000000e+00          0.0   \n",
       "4               2                   2  ...  0.000000e+00          0.0   \n",
       "\n",
       "    Active Min  Idle Mean   Idle Std   Idle Max   Idle Min  SimillarHTTP  \\\n",
       "0    4024278.0  5975510.0  98.183502  5975622.0  5975358.0             0   \n",
       "1          0.0        0.0   0.000000        0.0        0.0             0   \n",
       "2          0.0        0.0   0.000000        0.0        0.0             0   \n",
       "3          0.0        0.0   0.000000        0.0        0.0             0   \n",
       "4          0.0        0.0   0.000000        0.0        0.0             0   \n",
       "\n",
       "    Inbound        Label  \n",
       "0         1  DrDoS_MSSQL  \n",
       "1         1  DrDoS_MSSQL  \n",
       "2         1  DrDoS_MSSQL  \n",
       "3         1  DrDoS_MSSQL  \n",
       "4         1  DrDoS_MSSQL  \n",
       "\n",
       "[5 rows x 88 columns]"
      ]
     },
     "execution_count": 1,
     "metadata": {},
     "output_type": "execute_result"
    }
   ],
   "source": [
    "# @title\n",
    "import pandas as pd\n",
    "\n",
    "data = pd.read_csv('https://1stdataset.s3.us-east-2.amazonaws.com/CSVs/CSV-01-12/01-12/DrDoS_MSSQL.csv')\n",
    "data.head()"
   ]
  },
  {
   "cell_type": "code",
   "execution_count": 2,
   "metadata": {
    "colab": {
     "base_uri": "https://localhost:8080/"
    },
    "executionInfo": {
     "elapsed": 791,
     "status": "ok",
     "timestamp": 1699952396816,
     "user": {
      "displayName": "Farog Fayz",
      "userId": "10363686322394617612"
     },
     "user_tz": -120
    },
    "id": "ePTb3VxodcUB",
    "outputId": "268eaa3e-e351-4aa3-a10c-b9c24eb434d5"
   },
   "outputs": [
    {
     "name": "stdout",
     "output_type": "stream",
     "text": [
      "<class 'pandas.core.frame.DataFrame'>\n",
      "RangeIndex: 4524498 entries, 0 to 4524497\n",
      "Data columns (total 88 columns):\n",
      " #   Column                        Dtype  \n",
      "---  ------                        -----  \n",
      " 0   Unnamed: 0                    int64  \n",
      " 1   Flow ID                       object \n",
      " 2    Source IP                    object \n",
      " 3    Source Port                  int64  \n",
      " 4    Destination IP               object \n",
      " 5    Destination Port             int64  \n",
      " 6    Protocol                     int64  \n",
      " 7    Timestamp                    object \n",
      " 8    Flow Duration                int64  \n",
      " 9    Total Fwd Packets            int64  \n",
      " 10   Total Backward Packets       int64  \n",
      " 11  Total Length of Fwd Packets   float64\n",
      " 12   Total Length of Bwd Packets  float64\n",
      " 13   Fwd Packet Length Max        float64\n",
      " 14   Fwd Packet Length Min        float64\n",
      " 15   Fwd Packet Length Mean       float64\n",
      " 16   Fwd Packet Length Std        float64\n",
      " 17  Bwd Packet Length Max         float64\n",
      " 18   Bwd Packet Length Min        float64\n",
      " 19   Bwd Packet Length Mean       float64\n",
      " 20   Bwd Packet Length Std        float64\n",
      " 21  Flow Bytes/s                  float64\n",
      " 22   Flow Packets/s               float64\n",
      " 23   Flow IAT Mean                float64\n",
      " 24   Flow IAT Std                 float64\n",
      " 25   Flow IAT Max                 float64\n",
      " 26   Flow IAT Min                 float64\n",
      " 27  Fwd IAT Total                 float64\n",
      " 28   Fwd IAT Mean                 float64\n",
      " 29   Fwd IAT Std                  float64\n",
      " 30   Fwd IAT Max                  float64\n",
      " 31   Fwd IAT Min                  float64\n",
      " 32  Bwd IAT Total                 float64\n",
      " 33   Bwd IAT Mean                 float64\n",
      " 34   Bwd IAT Std                  float64\n",
      " 35   Bwd IAT Max                  float64\n",
      " 36   Bwd IAT Min                  float64\n",
      " 37  Fwd PSH Flags                 int64  \n",
      " 38   Bwd PSH Flags                int64  \n",
      " 39   Fwd URG Flags                int64  \n",
      " 40   Bwd URG Flags                int64  \n",
      " 41   Fwd Header Length            int64  \n",
      " 42   Bwd Header Length            int64  \n",
      " 43  Fwd Packets/s                 float64\n",
      " 44   Bwd Packets/s                float64\n",
      " 45   Min Packet Length            float64\n",
      " 46   Max Packet Length            float64\n",
      " 47   Packet Length Mean           float64\n",
      " 48   Packet Length Std            float64\n",
      " 49   Packet Length Variance       float64\n",
      " 50  FIN Flag Count                int64  \n",
      " 51   SYN Flag Count               int64  \n",
      " 52   RST Flag Count               int64  \n",
      " 53   PSH Flag Count               int64  \n",
      " 54   ACK Flag Count               int64  \n",
      " 55   URG Flag Count               int64  \n",
      " 56   CWE Flag Count               int64  \n",
      " 57   ECE Flag Count               int64  \n",
      " 58   Down/Up Ratio                float64\n",
      " 59   Average Packet Size          float64\n",
      " 60   Avg Fwd Segment Size         float64\n",
      " 61   Avg Bwd Segment Size         float64\n",
      " 62   Fwd Header Length.1          int64  \n",
      " 63  Fwd Avg Bytes/Bulk            int64  \n",
      " 64   Fwd Avg Packets/Bulk         int64  \n",
      " 65   Fwd Avg Bulk Rate            int64  \n",
      " 66   Bwd Avg Bytes/Bulk           int64  \n",
      " 67   Bwd Avg Packets/Bulk         int64  \n",
      " 68  Bwd Avg Bulk Rate             int64  \n",
      " 69  Subflow Fwd Packets           int64  \n",
      " 70   Subflow Fwd Bytes            int64  \n",
      " 71   Subflow Bwd Packets          int64  \n",
      " 72   Subflow Bwd Bytes            int64  \n",
      " 73  Init_Win_bytes_forward        int64  \n",
      " 74   Init_Win_bytes_backward      int64  \n",
      " 75   act_data_pkt_fwd             int64  \n",
      " 76   min_seg_size_forward         int64  \n",
      " 77  Active Mean                   float64\n",
      " 78   Active Std                   float64\n",
      " 79   Active Max                   float64\n",
      " 80   Active Min                   float64\n",
      " 81  Idle Mean                     float64\n",
      " 82   Idle Std                     float64\n",
      " 83   Idle Max                     float64\n",
      " 84   Idle Min                     float64\n",
      " 85  SimillarHTTP                  object \n",
      " 86   Inbound                      int64  \n",
      " 87   Label                        object \n",
      "dtypes: float64(45), int64(37), object(6)\n",
      "memory usage: 3.0+ GB\n"
     ]
    }
   ],
   "source": [
    "data.info()"
   ]
  },
  {
   "cell_type": "code",
   "execution_count": 3,
   "metadata": {
    "colab": {
     "base_uri": "https://localhost:8080/",
     "height": 290
    },
    "executionInfo": {
     "elapsed": 2858,
     "status": "ok",
     "timestamp": 1699952399668,
     "user": {
      "displayName": "Farog Fayz",
      "userId": "10363686322394617612"
     },
     "user_tz": -120
    },
    "id": "Z-GfV_NTdvRu",
    "outputId": "47175fbf-66a9-412b-c97a-165948efb106"
   },
   "outputs": [
    {
     "data": {
      "text/html": [
       "<div>\n",
       "<style scoped>\n",
       "    .dataframe tbody tr th:only-of-type {\n",
       "        vertical-align: middle;\n",
       "    }\n",
       "\n",
       "    .dataframe tbody tr th {\n",
       "        vertical-align: top;\n",
       "    }\n",
       "\n",
       "    .dataframe thead th {\n",
       "        text-align: right;\n",
       "    }\n",
       "</style>\n",
       "<table border=\"1\" class=\"dataframe\">\n",
       "  <thead>\n",
       "    <tr style=\"text-align: right;\">\n",
       "      <th></th>\n",
       "      <th>Unnamed: 0</th>\n",
       "      <th>Flow ID</th>\n",
       "      <th>Source IP</th>\n",
       "      <th>Source Port</th>\n",
       "      <th>Destination IP</th>\n",
       "      <th>Destination Port</th>\n",
       "      <th>Protocol</th>\n",
       "      <th>Timestamp</th>\n",
       "      <th>Flow Duration</th>\n",
       "      <th>Total Fwd Packets</th>\n",
       "      <th>...</th>\n",
       "      <th>Active Std</th>\n",
       "      <th>Active Max</th>\n",
       "      <th>Active Min</th>\n",
       "      <th>Idle Mean</th>\n",
       "      <th>Idle Std</th>\n",
       "      <th>Idle Max</th>\n",
       "      <th>Idle Min</th>\n",
       "      <th>SimillarHTTP</th>\n",
       "      <th>Inbound</th>\n",
       "      <th>Label</th>\n",
       "    </tr>\n",
       "  </thead>\n",
       "  <tbody>\n",
       "    <tr>\n",
       "      <th>0</th>\n",
       "      <td>139</td>\n",
       "      <td>172.16.0.5-192.168.50.1-0-0-0</td>\n",
       "      <td>6</td>\n",
       "      <td>0</td>\n",
       "      <td>44</td>\n",
       "      <td>0</td>\n",
       "      <td>0</td>\n",
       "      <td>1543663952915441000</td>\n",
       "      <td>119151083</td>\n",
       "      <td>60959</td>\n",
       "      <td>...</td>\n",
       "      <td>2.853681e+07</td>\n",
       "      <td>67834732.0</td>\n",
       "      <td>4024278.0</td>\n",
       "      <td>5975510.0</td>\n",
       "      <td>98.183502</td>\n",
       "      <td>5975622.0</td>\n",
       "      <td>5975358.0</td>\n",
       "      <td>0</td>\n",
       "      <td>1</td>\n",
       "      <td>1</td>\n",
       "    </tr>\n",
       "    <tr>\n",
       "      <th>1</th>\n",
       "      <td>38385</td>\n",
       "      <td>172.16.0.5-192.168.50.1-850-20345-17</td>\n",
       "      <td>6</td>\n",
       "      <td>850</td>\n",
       "      <td>44</td>\n",
       "      <td>20345</td>\n",
       "      <td>17</td>\n",
       "      <td>1543663952915442000</td>\n",
       "      <td>1</td>\n",
       "      <td>2</td>\n",
       "      <td>...</td>\n",
       "      <td>0.000000e+00</td>\n",
       "      <td>0.0</td>\n",
       "      <td>0.0</td>\n",
       "      <td>0.0</td>\n",
       "      <td>0.000000</td>\n",
       "      <td>0.0</td>\n",
       "      <td>0.0</td>\n",
       "      <td>0</td>\n",
       "      <td>1</td>\n",
       "      <td>1</td>\n",
       "    </tr>\n",
       "    <tr>\n",
       "      <th>2</th>\n",
       "      <td>27033</td>\n",
       "      <td>172.16.0.5-192.168.50.1-851-21631-17</td>\n",
       "      <td>6</td>\n",
       "      <td>851</td>\n",
       "      <td>44</td>\n",
       "      <td>21631</td>\n",
       "      <td>17</td>\n",
       "      <td>1543663952915578000</td>\n",
       "      <td>1</td>\n",
       "      <td>2</td>\n",
       "      <td>...</td>\n",
       "      <td>0.000000e+00</td>\n",
       "      <td>0.0</td>\n",
       "      <td>0.0</td>\n",
       "      <td>0.0</td>\n",
       "      <td>0.000000</td>\n",
       "      <td>0.0</td>\n",
       "      <td>0.0</td>\n",
       "      <td>0</td>\n",
       "      <td>1</td>\n",
       "      <td>1</td>\n",
       "    </tr>\n",
       "    <tr>\n",
       "      <th>3</th>\n",
       "      <td>34348</td>\n",
       "      <td>172.16.0.5-192.168.50.1-852-15332-17</td>\n",
       "      <td>6</td>\n",
       "      <td>852</td>\n",
       "      <td>44</td>\n",
       "      <td>15332</td>\n",
       "      <td>17</td>\n",
       "      <td>1543663952915773000</td>\n",
       "      <td>2</td>\n",
       "      <td>2</td>\n",
       "      <td>...</td>\n",
       "      <td>0.000000e+00</td>\n",
       "      <td>0.0</td>\n",
       "      <td>0.0</td>\n",
       "      <td>0.0</td>\n",
       "      <td>0.000000</td>\n",
       "      <td>0.0</td>\n",
       "      <td>0.0</td>\n",
       "      <td>0</td>\n",
       "      <td>1</td>\n",
       "      <td>1</td>\n",
       "    </tr>\n",
       "    <tr>\n",
       "      <th>4</th>\n",
       "      <td>19225</td>\n",
       "      <td>172.16.0.5-192.168.50.1-853-41853-17</td>\n",
       "      <td>6</td>\n",
       "      <td>853</td>\n",
       "      <td>44</td>\n",
       "      <td>41853</td>\n",
       "      <td>17</td>\n",
       "      <td>1543663952916114000</td>\n",
       "      <td>2</td>\n",
       "      <td>2</td>\n",
       "      <td>...</td>\n",
       "      <td>0.000000e+00</td>\n",
       "      <td>0.0</td>\n",
       "      <td>0.0</td>\n",
       "      <td>0.0</td>\n",
       "      <td>0.000000</td>\n",
       "      <td>0.0</td>\n",
       "      <td>0.0</td>\n",
       "      <td>0</td>\n",
       "      <td>1</td>\n",
       "      <td>1</td>\n",
       "    </tr>\n",
       "  </tbody>\n",
       "</table>\n",
       "<p>5 rows × 88 columns</p>\n",
       "</div>"
      ],
      "text/plain": [
       "   Unnamed: 0                               Flow ID   Source IP   Source Port  \\\n",
       "0         139         172.16.0.5-192.168.50.1-0-0-0           6             0   \n",
       "1       38385  172.16.0.5-192.168.50.1-850-20345-17           6           850   \n",
       "2       27033  172.16.0.5-192.168.50.1-851-21631-17           6           851   \n",
       "3       34348  172.16.0.5-192.168.50.1-852-15332-17           6           852   \n",
       "4       19225  172.16.0.5-192.168.50.1-853-41853-17           6           853   \n",
       "\n",
       "    Destination IP   Destination Port   Protocol            Timestamp  \\\n",
       "0               44                  0          0  1543663952915441000   \n",
       "1               44              20345         17  1543663952915442000   \n",
       "2               44              21631         17  1543663952915578000   \n",
       "3               44              15332         17  1543663952915773000   \n",
       "4               44              41853         17  1543663952916114000   \n",
       "\n",
       "    Flow Duration   Total Fwd Packets  ...    Active Std   Active Max  \\\n",
       "0       119151083               60959  ...  2.853681e+07   67834732.0   \n",
       "1               1                   2  ...  0.000000e+00          0.0   \n",
       "2               1                   2  ...  0.000000e+00          0.0   \n",
       "3               2                   2  ...  0.000000e+00          0.0   \n",
       "4               2                   2  ...  0.000000e+00          0.0   \n",
       "\n",
       "    Active Min  Idle Mean   Idle Std   Idle Max   Idle Min  SimillarHTTP  \\\n",
       "0    4024278.0  5975510.0  98.183502  5975622.0  5975358.0             0   \n",
       "1          0.0        0.0   0.000000        0.0        0.0             0   \n",
       "2          0.0        0.0   0.000000        0.0        0.0             0   \n",
       "3          0.0        0.0   0.000000        0.0        0.0             0   \n",
       "4          0.0        0.0   0.000000        0.0        0.0             0   \n",
       "\n",
       "    Inbound   Label  \n",
       "0         1       1  \n",
       "1         1       1  \n",
       "2         1       1  \n",
       "3         1       1  \n",
       "4         1       1  \n",
       "\n",
       "[5 rows x 88 columns]"
      ]
     },
     "execution_count": 3,
     "metadata": {},
     "output_type": "execute_result"
    }
   ],
   "source": [
    "import pandas as pd\n",
    "import numpy as np\n",
    "from sklearn.model_selection import train_test_split\n",
    "from sklearn.preprocessing import StandardScaler, LabelEncoder\n",
    "from sklearn.metrics import classification_report, accuracy_score, f1_score\n",
    "from sklearn.linear_model import LogisticRegression\n",
    "from sklearn.ensemble import RandomForestClassifier\n",
    "from sklearn.svm import SVC\n",
    "#from imblearn.over_sampling import SMOTE\n",
    "\n",
    "\n",
    "# Pre-process the data\n",
    "# Encode categorical features (e.g., IP addresses)\n",
    "encoder = LabelEncoder()\n",
    "data[' Source IP'] = encoder.fit_transform(data[' Source IP'])\n",
    "data[' Destination IP'] = encoder.fit_transform(data[' Destination IP'])\n",
    "data[' Timestamp'] = pd.to_datetime(data[' Timestamp']).astype(np.int64)\n",
    "data[' Label'] = encoder.fit_transform(data[' Label'])\n",
    "data.head()"
   ]
  },
  {
   "cell_type": "code",
   "execution_count": 4,
   "metadata": {
    "colab": {
     "base_uri": "https://localhost:8080/",
     "height": 270
    },
    "executionInfo": {
     "elapsed": 1104,
     "status": "ok",
     "timestamp": 1699952400766,
     "user": {
      "displayName": "Farog Fayz",
      "userId": "10363686322394617612"
     },
     "user_tz": -120
    },
    "id": "wIIMf8inhO42",
    "outputId": "ae89cc88-b699-440e-fa20-aabf7c2220ed"
   },
   "outputs": [
    {
     "data": {
      "text/html": [
       "<div>\n",
       "<style scoped>\n",
       "    .dataframe tbody tr th:only-of-type {\n",
       "        vertical-align: middle;\n",
       "    }\n",
       "\n",
       "    .dataframe tbody tr th {\n",
       "        vertical-align: top;\n",
       "    }\n",
       "\n",
       "    .dataframe thead th {\n",
       "        text-align: right;\n",
       "    }\n",
       "</style>\n",
       "<table border=\"1\" class=\"dataframe\">\n",
       "  <thead>\n",
       "    <tr style=\"text-align: right;\">\n",
       "      <th></th>\n",
       "      <th>Source IP</th>\n",
       "      <th>Source Port</th>\n",
       "      <th>Destination IP</th>\n",
       "      <th>Destination Port</th>\n",
       "      <th>Protocol</th>\n",
       "      <th>Timestamp</th>\n",
       "      <th>Flow Duration</th>\n",
       "      <th>Total Fwd Packets</th>\n",
       "      <th>Total Backward Packets</th>\n",
       "      <th>Total Length of Fwd Packets</th>\n",
       "      <th>...</th>\n",
       "      <th>Active Mean</th>\n",
       "      <th>Active Std</th>\n",
       "      <th>Active Max</th>\n",
       "      <th>Active Min</th>\n",
       "      <th>Idle Mean</th>\n",
       "      <th>Idle Std</th>\n",
       "      <th>Idle Max</th>\n",
       "      <th>Idle Min</th>\n",
       "      <th>Inbound</th>\n",
       "      <th>Label</th>\n",
       "    </tr>\n",
       "  </thead>\n",
       "  <tbody>\n",
       "    <tr>\n",
       "      <th>0</th>\n",
       "      <td>6</td>\n",
       "      <td>29202</td>\n",
       "      <td>44</td>\n",
       "      <td>63628</td>\n",
       "      <td>17</td>\n",
       "      <td>1543664753515970000</td>\n",
       "      <td>1</td>\n",
       "      <td>2</td>\n",
       "      <td>0</td>\n",
       "      <td>820.0</td>\n",
       "      <td>...</td>\n",
       "      <td>0.0</td>\n",
       "      <td>0.0</td>\n",
       "      <td>0.0</td>\n",
       "      <td>0.0</td>\n",
       "      <td>0.0</td>\n",
       "      <td>0.0</td>\n",
       "      <td>0.0</td>\n",
       "      <td>0.0</td>\n",
       "      <td>1</td>\n",
       "      <td>1</td>\n",
       "    </tr>\n",
       "    <tr>\n",
       "      <th>1</th>\n",
       "      <td>6</td>\n",
       "      <td>38372</td>\n",
       "      <td>44</td>\n",
       "      <td>22719</td>\n",
       "      <td>17</td>\n",
       "      <td>1543664592871987000</td>\n",
       "      <td>1</td>\n",
       "      <td>2</td>\n",
       "      <td>0</td>\n",
       "      <td>910.0</td>\n",
       "      <td>...</td>\n",
       "      <td>0.0</td>\n",
       "      <td>0.0</td>\n",
       "      <td>0.0</td>\n",
       "      <td>0.0</td>\n",
       "      <td>0.0</td>\n",
       "      <td>0.0</td>\n",
       "      <td>0.0</td>\n",
       "      <td>0.0</td>\n",
       "      <td>1</td>\n",
       "      <td>1</td>\n",
       "    </tr>\n",
       "    <tr>\n",
       "      <th>2</th>\n",
       "      <td>6</td>\n",
       "      <td>34840</td>\n",
       "      <td>44</td>\n",
       "      <td>22795</td>\n",
       "      <td>17</td>\n",
       "      <td>1543664705684435000</td>\n",
       "      <td>2</td>\n",
       "      <td>2</td>\n",
       "      <td>0</td>\n",
       "      <td>1192.0</td>\n",
       "      <td>...</td>\n",
       "      <td>0.0</td>\n",
       "      <td>0.0</td>\n",
       "      <td>0.0</td>\n",
       "      <td>0.0</td>\n",
       "      <td>0.0</td>\n",
       "      <td>0.0</td>\n",
       "      <td>0.0</td>\n",
       "      <td>0.0</td>\n",
       "      <td>1</td>\n",
       "      <td>1</td>\n",
       "    </tr>\n",
       "    <tr>\n",
       "      <th>3</th>\n",
       "      <td>6</td>\n",
       "      <td>40546</td>\n",
       "      <td>44</td>\n",
       "      <td>52356</td>\n",
       "      <td>17</td>\n",
       "      <td>1543664304523961000</td>\n",
       "      <td>1</td>\n",
       "      <td>2</td>\n",
       "      <td>0</td>\n",
       "      <td>926.0</td>\n",
       "      <td>...</td>\n",
       "      <td>0.0</td>\n",
       "      <td>0.0</td>\n",
       "      <td>0.0</td>\n",
       "      <td>0.0</td>\n",
       "      <td>0.0</td>\n",
       "      <td>0.0</td>\n",
       "      <td>0.0</td>\n",
       "      <td>0.0</td>\n",
       "      <td>1</td>\n",
       "      <td>1</td>\n",
       "    </tr>\n",
       "    <tr>\n",
       "      <th>4</th>\n",
       "      <td>6</td>\n",
       "      <td>25559</td>\n",
       "      <td>44</td>\n",
       "      <td>56582</td>\n",
       "      <td>17</td>\n",
       "      <td>1543664661863159000</td>\n",
       "      <td>5</td>\n",
       "      <td>2</td>\n",
       "      <td>0</td>\n",
       "      <td>918.0</td>\n",
       "      <td>...</td>\n",
       "      <td>0.0</td>\n",
       "      <td>0.0</td>\n",
       "      <td>0.0</td>\n",
       "      <td>0.0</td>\n",
       "      <td>0.0</td>\n",
       "      <td>0.0</td>\n",
       "      <td>0.0</td>\n",
       "      <td>0.0</td>\n",
       "      <td>1</td>\n",
       "      <td>1</td>\n",
       "    </tr>\n",
       "  </tbody>\n",
       "</table>\n",
       "<p>5 rows × 85 columns</p>\n",
       "</div>"
      ],
      "text/plain": [
       "    Source IP   Source Port   Destination IP   Destination Port   Protocol  \\\n",
       "0           6         29202               44              63628         17   \n",
       "1           6         38372               44              22719         17   \n",
       "2           6         34840               44              22795         17   \n",
       "3           6         40546               44              52356         17   \n",
       "4           6         25559               44              56582         17   \n",
       "\n",
       "             Timestamp   Flow Duration   Total Fwd Packets  \\\n",
       "0  1543664753515970000               1                   2   \n",
       "1  1543664592871987000               1                   2   \n",
       "2  1543664705684435000               2                   2   \n",
       "3  1543664304523961000               1                   2   \n",
       "4  1543664661863159000               5                   2   \n",
       "\n",
       "    Total Backward Packets  Total Length of Fwd Packets  ...  Active Mean  \\\n",
       "0                        0                        820.0  ...          0.0   \n",
       "1                        0                        910.0  ...          0.0   \n",
       "2                        0                       1192.0  ...          0.0   \n",
       "3                        0                        926.0  ...          0.0   \n",
       "4                        0                        918.0  ...          0.0   \n",
       "\n",
       "    Active Std   Active Max   Active Min  Idle Mean   Idle Std   Idle Max  \\\n",
       "0          0.0          0.0          0.0        0.0        0.0        0.0   \n",
       "1          0.0          0.0          0.0        0.0        0.0        0.0   \n",
       "2          0.0          0.0          0.0        0.0        0.0        0.0   \n",
       "3          0.0          0.0          0.0        0.0        0.0        0.0   \n",
       "4          0.0          0.0          0.0        0.0        0.0        0.0   \n",
       "\n",
       "    Idle Min   Inbound   Label  \n",
       "0        0.0         1       1  \n",
       "1        0.0         1       1  \n",
       "2        0.0         1       1  \n",
       "3        0.0         1       1  \n",
       "4        0.0         1       1  \n",
       "\n",
       "[5 rows x 85 columns]"
      ]
     },
     "execution_count": 4,
     "metadata": {},
     "output_type": "execute_result"
    }
   ],
   "source": [
    "# Drop unnecessary columns in the CVs's\n",
    "try:\n",
    "  data = data.drop(['Unnamed: 0', 'Flow ID', 'SimillarHTTP'], axis=1)\n",
    "except:\n",
    "  print('Columns are dropped already')\n",
    "\n",
    "# Set the desired number of majority class samples\n",
    "num_majority_samples = 100000\n",
    "\n",
    "# Get the minority class label\n",
    "minority_class = data[' Label'].value_counts().idxmin()\n",
    "\n",
    "# Separate majority and minority class samples\n",
    "majority_samples = data[data[' Label'] != minority_class]\n",
    "minority_samples = data[data[' Label'] == minority_class]\n",
    "\n",
    "# Sample the majority class samples\n",
    "majority_samples_sampled = majority_samples.sample(num_majority_samples, random_state=42)\n",
    "\n",
    "# Combine the sampled majority class samples and minority class samples\n",
    "balanced_data = pd.concat([majority_samples_sampled, minority_samples], axis=0)\n",
    "\n",
    "# Shuffle the balanced dataset\n",
    "balanced_data = balanced_data.sample(frac=1, random_state=42).reset_index(drop=True)\n",
    "\n",
    "balanced_data.head()"
   ]
  },
  {
   "cell_type": "code",
   "execution_count": 5,
   "metadata": {
    "colab": {
     "base_uri": "https://localhost:8080/"
    },
    "executionInfo": {
     "elapsed": 28,
     "status": "ok",
     "timestamp": 1699952400767,
     "user": {
      "displayName": "Farog Fayz",
      "userId": "10363686322394617612"
     },
     "user_tz": -120
    },
    "id": "s2F2L7fRilJE",
    "outputId": "74fd2d4e-7dd2-478b-f30f-e115299fb700"
   },
   "outputs": [
    {
     "data": {
      "text/plain": [
       "1    100000\n",
       "0      2006\n",
       "Name:  Label, dtype: int64"
      ]
     },
     "execution_count": 5,
     "metadata": {},
     "output_type": "execute_result"
    }
   ],
   "source": [
    "balanced_data[' Label'].value_counts()"
   ]
  },
  {
   "cell_type": "code",
   "execution_count": 6,
   "metadata": {
    "colab": {
     "base_uri": "https://localhost:8080/"
    },
    "executionInfo": {
     "elapsed": 23,
     "status": "ok",
     "timestamp": 1699952400768,
     "user": {
      "displayName": "Farog Fayz",
      "userId": "10363686322394617612"
     },
     "user_tz": -120
    },
    "id": "Lf4wpJ_6isxO",
    "outputId": "5c5b720e-10eb-46ba-d20e-fc68e98676d5"
   },
   "outputs": [
    {
     "data": {
      "text/plain": [
       "1    4522492\n",
       "0       2006\n",
       "Name:  Label, dtype: int64"
      ]
     },
     "execution_count": 6,
     "metadata": {},
     "output_type": "execute_result"
    }
   ],
   "source": [
    "data[' Label'].value_counts()"
   ]
  },
  {
   "cell_type": "code",
   "execution_count": 7,
   "metadata": {
    "colab": {
     "base_uri": "https://localhost:8080/"
    },
    "executionInfo": {
     "elapsed": 22,
     "status": "ok",
     "timestamp": 1699952400770,
     "user": {
      "displayName": "Farog Fayz",
      "userId": "10363686322394617612"
     },
     "user_tz": -120
    },
    "id": "UHppj_hyn6XF",
    "outputId": "3731a4fb-47af-4365-85aa-d1ab847f215c"
   },
   "outputs": [
    {
     "name": "stdout",
     "output_type": "stream",
     "text": [
      "Correlation between 'Inbound' and 'Label': 0.9090001156983938\n"
     ]
    }
   ],
   "source": [
    "import pandas as pd\n",
    "\n",
    "# Assuming your dataset is named 'data'\n",
    "correlation = balanced_data[' Inbound'].corr(balanced_data[' Label'])\n",
    "print(\"Correlation between 'Inbound' and 'Label':\", correlation)\n"
   ]
  },
  {
   "cell_type": "code",
   "execution_count": 8,
   "metadata": {
    "colab": {
     "base_uri": "https://localhost:8080/"
    },
    "executionInfo": {
     "elapsed": 18,
     "status": "ok",
     "timestamp": 1699952400772,
     "user": {
      "displayName": "Farog Fayz",
      "userId": "10363686322394617612"
     },
     "user_tz": -120
    },
    "id": "jk5jvQ4MoOBs",
    "outputId": "87ee3d8f-92e1-4616-9bd3-630d34dc2824"
   },
   "outputs": [
    {
     "data": {
      "text/plain": [
       "1    100293\n",
       "0      1713\n",
       "Name:  Inbound, dtype: int64"
      ]
     },
     "execution_count": 8,
     "metadata": {},
     "output_type": "execute_result"
    }
   ],
   "source": [
    "balanced_data[' Inbound'].value_counts()"
   ]
  },
  {
   "cell_type": "code",
   "execution_count": 9,
   "metadata": {
    "colab": {
     "base_uri": "https://localhost:8080/",
     "height": 564
    },
    "executionInfo": {
     "elapsed": 1016,
     "status": "ok",
     "timestamp": 1699952401773,
     "user": {
      "displayName": "Farog Fayz",
      "userId": "10363686322394617612"
     },
     "user_tz": -120
    },
    "id": "9LWbKuBpp19B",
    "outputId": "596093dd-cf63-4f20-debc-1cc09b475ec8"
   },
   "outputs": [
    {
     "data": {
      "image/png": "[encoded data removed]",
      "text/plain": [
       "<Figure size 1000x600 with 1 Axes>"
      ]
     },
     "metadata": {},
     "output_type": "display_data"
    }
   ],
   "source": [
    "import seaborn as sns\n",
    "import matplotlib.pyplot as plt\n",
    "\n",
    "# Assuming your dataframe is named 'df'\n",
    "plt.figure(figsize=(10, 6))\n",
    "sns.countplot(data=balanced_data, x=' Inbound', hue=' Label')\n",
    "plt.title('Frequency of Inbound with Label as Hue')\n",
    "plt.xlabel('Inbound')\n",
    "plt.ylabel('Count')\n",
    "plt.show()\n"
   ]
  },
  {
   "cell_type": "code",
   "execution_count": 10,
   "metadata": {
    "colab": {
     "base_uri": "https://localhost:8080/",
     "height": 564
    },
    "executionInfo": {
     "elapsed": 550,
     "status": "ok",
     "timestamp": 1699952402310,
     "user": {
      "displayName": "Farog Fayz",
      "userId": "10363686322394617612"
     },
     "user_tz": -120
    },
    "id": "8KipWztuqCCu",
    "outputId": "8a476c3c-a088-4f97-9d49-0869631eb5d0"
   },
   "outputs": [
    {
     "data": {
      "image/png": "[encoded data removed]",
      "text/plain": [
       "<Figure size 1000x600 with 1 Axes>"
      ]
     },
     "metadata": {},
     "output_type": "display_data"
    }
   ],
   "source": [
    "import seaborn as sns\n",
    "import matplotlib.pyplot as plt\n",
    "\n",
    "# Assuming your dataframe is named 'df'\n",
    "plt.figure(figsize=(10, 6))\n",
    "sns.countplot(data=balanced_data, x=' Label', hue=' Inbound')\n",
    "plt.title('Frequency of Label with Inbound as Hue')\n",
    "plt.xlabel('Label')\n",
    "plt.ylabel('Count')\n",
    "plt.show()\n"
   ]
  },
  {
   "cell_type": "code",
   "execution_count": 11,
   "metadata": {
    "colab": {
     "base_uri": "https://localhost:8080/",
     "height": 564
    },
    "executionInfo": {
     "elapsed": 464,
     "status": "ok",
     "timestamp": 1699952402768,
     "user": {
      "displayName": "Farog Fayz",
      "userId": "10363686322394617612"
     },
     "user_tz": -120
    },
    "id": "yoxvG-3cqfCK",
    "outputId": "d54cd82a-a06a-4abd-e432-793197fb43ed"
   },
   "outputs": [
    {
     "data": {
      "image/png": "[encoded data removed]",
      "text/plain": [
       "<Figure size 1000x600 with 1 Axes>"
      ]
     },
     "metadata": {},
     "output_type": "display_data"
    }
   ],
   "source": [
    "import seaborn as sns\n",
    "import matplotlib.pyplot as plt\n",
    "import numpy as np\n",
    "\n",
    "# Assuming your dataframe is named 'df'\n",
    "inbound_label_counts = balanced_data.groupby([' Inbound', ' Label']).size().reset_index(name='Count')\n",
    "total_counts = balanced_data.groupby([' Inbound']).size().reset_index(name='Total_Count')\n",
    "\n",
    "inbound_label_counts = inbound_label_counts.merge(total_counts, on=' Inbound')\n",
    "inbound_label_counts['Percentage'] = (inbound_label_counts['Count'] / inbound_label_counts['Total_Count']) * 100\n",
    "\n",
    "plt.figure(figsize=(10, 6))\n",
    "sns.barplot(data=inbound_label_counts, x=' Inbound', y='Percentage', hue=' Label')\n",
    "plt.title('Frequency of Inbound with Label as Hue (Percentage)')\n",
    "plt.xlabel('Inbound')\n",
    "plt.ylabel('Percentage')\n",
    "plt.show()\n"
   ]
  },
  {
   "cell_type": "code",
   "execution_count": 12,
   "metadata": {
    "colab": {
     "base_uri": "https://localhost:8080/",
     "height": 175
    },
    "executionInfo": {
     "elapsed": 17,
     "status": "ok",
     "timestamp": 1699952402769,
     "user": {
      "displayName": "Farog Fayz",
      "userId": "10363686322394617612"
     },
     "user_tz": -120
    },
    "id": "rjkxk3cLq77X",
    "outputId": "e8367b2e-222e-406f-fe30-fcd4f2e50f5b"
   },
   "outputs": [
    {
     "data": {
      "text/html": [
       "<div>\n",
       "<style scoped>\n",
       "    .dataframe tbody tr th:only-of-type {\n",
       "        vertical-align: middle;\n",
       "    }\n",
       "\n",
       "    .dataframe tbody tr th {\n",
       "        vertical-align: top;\n",
       "    }\n",
       "\n",
       "    .dataframe thead th {\n",
       "        text-align: right;\n",
       "    }\n",
       "</style>\n",
       "<table border=\"1\" class=\"dataframe\">\n",
       "  <thead>\n",
       "    <tr style=\"text-align: right;\">\n",
       "      <th></th>\n",
       "      <th>Inbound</th>\n",
       "      <th>Label</th>\n",
       "      <th>Count</th>\n",
       "      <th>Total_Count</th>\n",
       "      <th>Percentage</th>\n",
       "    </tr>\n",
       "  </thead>\n",
       "  <tbody>\n",
       "    <tr>\n",
       "      <th>0</th>\n",
       "      <td>0</td>\n",
       "      <td>0</td>\n",
       "      <td>1688</td>\n",
       "      <td>1713</td>\n",
       "      <td>98.540572</td>\n",
       "    </tr>\n",
       "    <tr>\n",
       "      <th>1</th>\n",
       "      <td>0</td>\n",
       "      <td>1</td>\n",
       "      <td>25</td>\n",
       "      <td>1713</td>\n",
       "      <td>1.459428</td>\n",
       "    </tr>\n",
       "    <tr>\n",
       "      <th>2</th>\n",
       "      <td>1</td>\n",
       "      <td>0</td>\n",
       "      <td>318</td>\n",
       "      <td>100293</td>\n",
       "      <td>0.317071</td>\n",
       "    </tr>\n",
       "    <tr>\n",
       "      <th>3</th>\n",
       "      <td>1</td>\n",
       "      <td>1</td>\n",
       "      <td>99975</td>\n",
       "      <td>100293</td>\n",
       "      <td>99.682929</td>\n",
       "    </tr>\n",
       "  </tbody>\n",
       "</table>\n",
       "</div>"
      ],
      "text/plain": [
       "    Inbound   Label  Count  Total_Count  Percentage\n",
       "0         0       0   1688         1713   98.540572\n",
       "1         0       1     25         1713    1.459428\n",
       "2         1       0    318       100293    0.317071\n",
       "3         1       1  99975       100293   99.682929"
      ]
     },
     "execution_count": 12,
     "metadata": {},
     "output_type": "execute_result"
    }
   ],
   "source": [
    "inbound_label_counts"
   ]
  },
  {
   "cell_type": "code",
   "execution_count": 13,
   "metadata": {
    "id": "r02qZDIiffV0"
   },
   "outputs": [],
   "source": [
    "\n",
    "# Split the data into train and test sets\n",
    "X = balanced_data.drop([' Inbound',' Label'], axis=1)\n",
    "y = balanced_data[' Label']\n",
    "X_train, X_test, y_train, y_test = train_test_split(X, y, test_size=0.3,stratify = y, random_state=42)\n",
    "\n"
   ]
  },
  {
   "cell_type": "code",
   "execution_count": 14,
   "metadata": {
    "colab": {
     "base_uri": "https://localhost:8080/"
    },
    "executionInfo": {
     "elapsed": 7,
     "status": "ok",
     "timestamp": 1699952403084,
     "user": {
      "displayName": "Farog Fayz",
      "userId": "10363686322394617612"
     },
     "user_tz": -120
    },
    "id": "Y2vIbHbtgpxl",
    "outputId": "3dd9a303-95dc-4a91-a190-f3894b2728cf"
   },
   "outputs": [
    {
     "data": {
      "text/plain": [
       "9"
      ]
     },
     "execution_count": 14,
     "metadata": {},
     "output_type": "execute_result"
    }
   ],
   "source": [
    "X_train.isnull().sum().sum()"
   ]
  },
  {
   "cell_type": "code",
   "execution_count": 15,
   "metadata": {
    "colab": {
     "base_uri": "https://localhost:8080/"
    },
    "executionInfo": {
     "elapsed": 319,
     "status": "ok",
     "timestamp": 1699952403398,
     "user": {
      "displayName": "Farog Fayz",
      "userId": "10363686322394617612"
     },
     "user_tz": -120
    },
    "id": "ApWxjYU2j_49",
    "outputId": "a0639944-c3d9-47fd-f138-1261a930657e"
   },
   "outputs": [
    {
     "name": "stdout",
     "output_type": "stream",
     "text": [
      "There are NaN values in the dataset.\n",
      "There are infinite values in the dataset.\n",
      "There are values too large for dtype('float64') in the dataset. Max value: inf\n",
      "There are NaN values in the dataset.\n",
      "There are infinite values in the dataset.\n",
      "There are values too large for dtype('float64') in the dataset. Max value: inf\n"
     ]
    }
   ],
   "source": [
    "import numpy as np\n",
    "\n",
    "def check_data_issues(data):\n",
    "    # Check for NaN values\n",
    "    if data.isnull().values.any():\n",
    "        print(\"There are NaN values in the dataset.\")\n",
    "\n",
    "    # Check for infinite values\n",
    "    if np.isinf(data).values.any():\n",
    "        print(\"There are infinite values in the dataset.\")\n",
    "\n",
    "    # Check for extremely large values\n",
    "    max_value = data.max().max()\n",
    "    if max_value > np.finfo(np.float64).max:\n",
    "        print(f\"There are values too large for dtype('float64') in the dataset. Max value: {max_value}\")\n",
    "\n",
    "    # Check for extremely small values\n",
    "    min_value = data.min().min()\n",
    "    if min_value < np.finfo(np.float64).min:\n",
    "        print(f\"There are values too small for dtype('float64') in the dataset. Min value: {min_value}\")\n",
    "\n",
    "# Check the training and testing data for any issues\n",
    "check_data_issues(X_train)\n",
    "check_data_issues(X_test)\n"
   ]
  },
  {
   "cell_type": "code",
   "execution_count": 16,
   "metadata": {
    "id": "GMmPRzjckl35"
   },
   "outputs": [],
   "source": [
    "# Replace infinity values with NaN\n",
    "X_train.replace([np.inf, -np.inf], np.nan, inplace=True)\n",
    "X_test.replace([np.inf, -np.inf], np.nan, inplace=True)\n",
    "\n",
    "# Impute NaN values with the mean of the corresponding column\n",
    "from sklearn.impute import SimpleImputer\n",
    "\n",
    "imputer = SimpleImputer(missing_values=np.nan, strategy='mean')\n",
    "X_train = imputer.fit_transform(X_train)\n",
    "X_test = imputer.transform(X_test)\n",
    "\n",
    "# Now, standardize the data\n",
    "scaler = StandardScaler()\n",
    "X_train = scaler.fit_transform(X_train)\n",
    "X_test = scaler.transform(X_test)\n"
   ]
  },
  {
   "cell_type": "code",
   "execution_count": 17,
   "metadata": {
    "colab": {
     "base_uri": "https://localhost:8080/",
     "height": 1000
    },
    "executionInfo": {
     "elapsed": 32847,
     "status": "ok",
     "timestamp": 1699952436554,
     "user": {
      "displayName": "Farog Fayz",
      "userId": "10363686322394617612"
     },
     "user_tz": -120
    },
    "id": "OeH-ZlcZr0gX",
    "outputId": "7a6bb373-7cd7-4865-c43f-7dfd764ba288"
   },
   "outputs": [
    {
     "name": "stderr",
     "output_type": "stream",
     "text": [
      "/tmp/ipykernel_20441/3989400141.py:23: FutureWarning: The frame.append method is deprecated and will be removed from pandas in a future version. Use pandas.concat instead.\n",
      "  model_comparison = model_comparison.append({\"Model\": name, \"Accuracy\": accuracy, \"F1 Score\": f1}, ignore_index=True)\n"
     ]
    },
    {
     "name": "stdout",
     "output_type": "stream",
     "text": [
      "Logistic Regression:\n",
      "Accuracy: 0.9999019671916868\n",
      "F1 score: 0.9999020865710775\n",
      "              precision    recall  f1-score   support\n",
      "\n",
      "           0       1.00      1.00      1.00       602\n",
      "           1       1.00      1.00      1.00     30000\n",
      "\n",
      "    accuracy                           1.00     30602\n",
      "   macro avg       1.00      1.00      1.00     30602\n",
      "weighted avg       1.00      1.00      1.00     30602\n",
      "\n",
      "\n",
      "\n"
     ]
    },
    {
     "name": "stderr",
     "output_type": "stream",
     "text": [
      "/tmp/ipykernel_20441/3989400141.py:23: FutureWarning: The frame.append method is deprecated and will be removed from pandas in a future version. Use pandas.concat instead.\n",
      "  model_comparison = model_comparison.append({\"Model\": name, \"Accuracy\": accuracy, \"F1 Score\": f1}, ignore_index=True)\n"
     ]
    },
    {
     "name": "stdout",
     "output_type": "stream",
     "text": [
      "Random Forest:\n",
      "Accuracy: 0.9999019671916868\n",
      "F1 score: 0.9999020865710775\n",
      "              precision    recall  f1-score   support\n",
      "\n",
      "           0       1.00      1.00      1.00       602\n",
      "           1       1.00      1.00      1.00     30000\n",
      "\n",
      "    accuracy                           1.00     30602\n",
      "   macro avg       1.00      1.00      1.00     30602\n",
      "weighted avg       1.00      1.00      1.00     30602\n",
      "\n",
      "\n",
      "\n",
      "Support Vector Machine:\n",
      "Accuracy: 0.9998039343833737\n",
      "F1 score: 0.9998044106922115\n",
      "              precision    recall  f1-score   support\n",
      "\n",
      "           0       0.99      1.00      1.00       602\n",
      "           1       1.00      1.00      1.00     30000\n",
      "\n",
      "    accuracy                           1.00     30602\n",
      "   macro avg       1.00      1.00      1.00     30602\n",
      "weighted avg       1.00      1.00      1.00     30602\n",
      "\n",
      "\n",
      "\n"
     ]
    },
    {
     "name": "stderr",
     "output_type": "stream",
     "text": [
      "/tmp/ipykernel_20441/3989400141.py:23: FutureWarning: The frame.append method is deprecated and will be removed from pandas in a future version. Use pandas.concat instead.\n",
      "  model_comparison = model_comparison.append({\"Model\": name, \"Accuracy\": accuracy, \"F1 Score\": f1}, ignore_index=True)\n"
     ]
    },
    {
     "data": {
      "text/html": [
       "<div>\n",
       "<style scoped>\n",
       "    .dataframe tbody tr th:only-of-type {\n",
       "        vertical-align: middle;\n",
       "    }\n",
       "\n",
       "    .dataframe tbody tr th {\n",
       "        vertical-align: top;\n",
       "    }\n",
       "\n",
       "    .dataframe thead th {\n",
       "        text-align: right;\n",
       "    }\n",
       "</style>\n",
       "<table border=\"1\" class=\"dataframe\">\n",
       "  <thead>\n",
       "    <tr style=\"text-align: right;\">\n",
       "      <th></th>\n",
       "      <th>Model</th>\n",
       "      <th>Accuracy</th>\n",
       "      <th>F1 Score</th>\n",
       "    </tr>\n",
       "  </thead>\n",
       "  <tbody>\n",
       "    <tr>\n",
       "      <th>0</th>\n",
       "      <td>Logistic Regression</td>\n",
       "      <td>0.999902</td>\n",
       "      <td>0.999902</td>\n",
       "    </tr>\n",
       "    <tr>\n",
       "      <th>1</th>\n",
       "      <td>Random Forest</td>\n",
       "      <td>0.999902</td>\n",
       "      <td>0.999902</td>\n",
       "    </tr>\n",
       "    <tr>\n",
       "      <th>2</th>\n",
       "      <td>Support Vector Machine</td>\n",
       "      <td>0.999804</td>\n",
       "      <td>0.999804</td>\n",
       "    </tr>\n",
       "  </tbody>\n",
       "</table>\n",
       "</div>"
      ],
      "text/plain": [
       "                    Model  Accuracy  F1 Score\n",
       "0     Logistic Regression  0.999902  0.999902\n",
       "1           Random Forest  0.999902  0.999902\n",
       "2  Support Vector Machine  0.999804  0.999804"
      ]
     },
     "execution_count": 17,
     "metadata": {},
     "output_type": "execute_result"
    }
   ],
   "source": [
    "import pandas as pd\n",
    "from sklearn.metrics import accuracy_score, f1_score, classification_report\n",
    "\n",
    "# Create an empty DataFrame with the desired columns\n",
    "model_comparison = pd.DataFrame(columns=[\"Model\", \"Accuracy\", \"F1 Score\"])\n",
    "\n",
    "# Train and evaluate machine learning models\n",
    "models = {\n",
    "    \"Logistic Regression\": LogisticRegression(max_iter=1000),\n",
    "    \"Random Forest\": RandomForestClassifier(),\n",
    "    \"Support Vector Machine\": SVC()\n",
    "}\n",
    "\n",
    "for name, model in models.items():\n",
    "    model.fit(X_train, y_train)\n",
    "    y_pred = model.predict(X_test)\n",
    "\n",
    "    # Calculate metrics\n",
    "    accuracy = accuracy_score(y_test, y_pred)\n",
    "    f1 = f1_score(y_test, y_pred, average='weighted')\n",
    "\n",
    "    # Append the metrics to the DataFrame\n",
    "    model_comparison = model_comparison.append({\"Model\": name, \"Accuracy\": accuracy, \"F1 Score\": f1}, ignore_index=True)\n",
    "\n",
    "    print(f\"{name}:\")\n",
    "    print(f\"Accuracy: {accuracy}\")\n",
    "    print(f\"F1 score: {f1}\")\n",
    "    print(classification_report(y_test, y_pred))\n",
    "    print(\"\\n\")\n",
    "\n",
    "# Display the comparison DataFrame\n",
    "model_comparison"
   ]
  },
  {
   "cell_type": "code",
   "execution_count": 18,
   "metadata": {
    "colab": {
     "base_uri": "https://localhost:8080/",
     "height": 424
    },
    "executionInfo": {
     "elapsed": 23,
     "status": "ok",
     "timestamp": 1699952436557,
     "user": {
      "displayName": "Farog Fayz",
      "userId": "10363686322394617612"
     },
     "user_tz": -120
    },
    "id": "T-BFrAk1k8GR",
    "outputId": "1e8efaf4-24e8-48ec-beb8-70e6effee121"
   },
   "outputs": [
    {
     "data": {
      "text/html": [
       "<div>\n",
       "<style scoped>\n",
       "    .dataframe tbody tr th:only-of-type {\n",
       "        vertical-align: middle;\n",
       "    }\n",
       "\n",
       "    .dataframe tbody tr th {\n",
       "        vertical-align: top;\n",
       "    }\n",
       "\n",
       "    .dataframe thead th {\n",
       "        text-align: right;\n",
       "    }\n",
       "</style>\n",
       "<table border=\"1\" class=\"dataframe\">\n",
       "  <thead>\n",
       "    <tr style=\"text-align: right;\">\n",
       "      <th></th>\n",
       "      <th>Feature</th>\n",
       "      <th>Importance</th>\n",
       "    </tr>\n",
       "  </thead>\n",
       "  <tbody>\n",
       "    <tr>\n",
       "      <th>12</th>\n",
       "      <td>Fwd Packet Length Min</td>\n",
       "      <td>1.142426e-01</td>\n",
       "    </tr>\n",
       "    <tr>\n",
       "      <th>58</th>\n",
       "      <td>Avg Fwd Segment Size</td>\n",
       "      <td>1.121453e-01</td>\n",
       "    </tr>\n",
       "    <tr>\n",
       "      <th>43</th>\n",
       "      <td>Min Packet Length</td>\n",
       "      <td>1.010758e-01</td>\n",
       "    </tr>\n",
       "    <tr>\n",
       "      <th>0</th>\n",
       "      <td>Source IP</td>\n",
       "      <td>8.452206e-02</td>\n",
       "    </tr>\n",
       "    <tr>\n",
       "      <th>13</th>\n",
       "      <td>Fwd Packet Length Mean</td>\n",
       "      <td>8.276261e-02</td>\n",
       "    </tr>\n",
       "    <tr>\n",
       "      <th>...</th>\n",
       "      <td>...</td>\n",
       "      <td>...</td>\n",
       "    </tr>\n",
       "    <tr>\n",
       "      <th>77</th>\n",
       "      <td>Active Max</td>\n",
       "      <td>1.677085e-05</td>\n",
       "    </tr>\n",
       "    <tr>\n",
       "      <th>49</th>\n",
       "      <td>SYN Flag Count</td>\n",
       "      <td>1.563056e-05</td>\n",
       "    </tr>\n",
       "    <tr>\n",
       "      <th>76</th>\n",
       "      <td>Active Std</td>\n",
       "      <td>3.647574e-06</td>\n",
       "    </tr>\n",
       "    <tr>\n",
       "      <th>81</th>\n",
       "      <td>Idle Max</td>\n",
       "      <td>3.075296e-06</td>\n",
       "    </tr>\n",
       "    <tr>\n",
       "      <th>52</th>\n",
       "      <td>ACK Flag Count</td>\n",
       "      <td>8.467478e-07</td>\n",
       "    </tr>\n",
       "  </tbody>\n",
       "</table>\n",
       "<p>68 rows × 2 columns</p>\n",
       "</div>"
      ],
      "text/plain": [
       "                    Feature    Importance\n",
       "12    Fwd Packet Length Min  1.142426e-01\n",
       "58     Avg Fwd Segment Size  1.121453e-01\n",
       "43        Min Packet Length  1.010758e-01\n",
       "0                 Source IP  8.452206e-02\n",
       "13   Fwd Packet Length Mean  8.276261e-02\n",
       "..                      ...           ...\n",
       "77               Active Max  1.677085e-05\n",
       "49           SYN Flag Count  1.563056e-05\n",
       "76               Active Std  3.647574e-06\n",
       "81                 Idle Max  3.075296e-06\n",
       "52           ACK Flag Count  8.467478e-07\n",
       "\n",
       "[68 rows x 2 columns]"
      ]
     },
     "execution_count": 18,
     "metadata": {},
     "output_type": "execute_result"
    }
   ],
   "source": [
    "feature_columns = X.columns\n",
    "\n",
    "# Get the Random Forest model from the 'models' dictionary\n",
    "random_forest_model = models['Random Forest']\n",
    "\n",
    "# Get feature importances\n",
    "importances = random_forest_model.feature_importances_\n",
    "\n",
    "# Create a DataFrame with the feature names and their corresponding importances\n",
    "feature_importances = pd.DataFrame({'Feature': feature_columns, 'Importance': importances})\n",
    "\n",
    "# Sort the DataFrame by importance in descending order\n",
    "feature_importances = feature_importances.sort_values(by='Importance', ascending=False)\n",
    "\n",
    "# Display the feature importances DataFrame\n",
    "# Filter the DataFrame to show only features with non-zero importance\n",
    "non_zero_importances = feature_importances[feature_importances['Importance'] > 0]\n",
    "\n",
    "# Display the filtered DataFrame\n",
    "non_zero_importances\n"
   ]
  },
  {
   "cell_type": "code",
   "execution_count": 19,
   "metadata": {
    "colab": {
     "base_uri": "https://localhost:8080/",
     "height": 333
    },
    "executionInfo": {
     "elapsed": 458,
     "status": "ok",
     "timestamp": 1699952436996,
     "user": {
      "displayName": "Farog Fayz",
      "userId": "10363686322394617612"
     },
     "user_tz": -120
    },
    "id": "Rp7wReGM1cJO",
    "outputId": "45ce681b-6895-4a2f-e606-da3ece2aca67"
   },
   "outputs": [
    {
     "data": {
      "image/png": "[encoded data removed]",
      "text/plain": [
       "<Figure size 500x300 with 2 Axes>"
      ]
     },
     "metadata": {},
     "output_type": "display_data"
    }
   ],
   "source": [
    "import seaborn as sns\n",
    "import matplotlib.pyplot as plt\n",
    "from sklearn.metrics import confusion_matrix\n",
    "\n",
    "# Choose the model you want to use, for example, Random Forest\n",
    "model = models[\"Random Forest\"]\n",
    "y_pred = model.predict(X_test)\n",
    "\n",
    "# Calculate the confusion matrix\n",
    "cm = confusion_matrix(y_test, y_pred)\n",
    "\n",
    "# Plot the confusion matrix using seaborn's heatmap\n",
    "plt.figure(figsize=(5, 3))\n",
    "sns.heatmap(cm, annot=True, fmt=\".2f\", cmap=\"Blues\", xticklabels=[\"0\", \"1\"], yticklabels=[\"0\", \"1\"])\n",
    "plt.ylabel(\"True label\")\n",
    "plt.xlabel(\"Predicted label\")\n",
    "plt.title(\"Confusion Matrix - Random Forest\")\n",
    "plt.show()\n"
   ]
  },
  {
   "cell_type": "code",
   "execution_count": null,
   "metadata": {
    "id": "o4Ygo0ir2yq5"
   },
   "outputs": [],
   "source": []
  }
 ],
 "metadata": {
  "colab": {
   "provenance": []
  },
  "kernelspec": {
   "display_name": "conda_tensorflow2_p310",
   "language": "python",
   "name": "conda_tensorflow2_p310"
  },
  "language_info": {
   "codemirror_mode": {
    "name": "ipython",
    "version": 3
   },
   "file_extension": ".py",
   "mimetype": "text/x-python",
   "name": "python",
   "nbconvert_exporter": "python",
   "pygments_lexer": "ipython3",
   "version": "3.10.13"
  }
 },
 "nbformat": 4,
 "nbformat_minor": 4
}
