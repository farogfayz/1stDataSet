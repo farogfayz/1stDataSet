{
 "cells": [
  {
   "cell_type": "code",
   "execution_count": 20,
   "metadata": {
    "colab": {
     "base_uri": "https://localhost:8080/",
     "height": 413
    },
    "executionInfo": {
     "elapsed": 5761,
     "status": "ok",
     "timestamp": 1699952396036,
     "user": {
      "displayName": "Farog Fayz",
      "userId": "10363686322394617612"
     },
     "user_tz": -120
    },
    "id": "LNyyzTo2bpi7",
    "outputId": "30ed1713-c0fa-4e2e-938e-a59274e24b37",
    "tags": []
   },
   "outputs": [
    {
     "name": "stderr",
     "output_type": "stream",
     "text": [
      "/tmp/ipykernel_12113/4063685168.py:4: DtypeWarning: Columns (85) have mixed types. Specify dtype option on import or set low_memory=False.\n",
      "  data = pd.read_csv('https://1stdataset.s3.us-east-2.amazonaws.com/CSVs/CSV-01-12/01-12/DrDoS_NTP.csv')\n"
     ]
    },
    {
     "data": {
      "text/html": [
       "<div>\n",
       "<style scoped>\n",
       "    .dataframe tbody tr th:only-of-type {\n",
       "        vertical-align: middle;\n",
       "    }\n",
       "\n",
       "    .dataframe tbody tr th {\n",
       "        vertical-align: top;\n",
       "    }\n",
       "\n",
       "    .dataframe thead th {\n",
       "        text-align: right;\n",
       "    }\n",
       "</style>\n",
       "<table border=\"1\" class=\"dataframe\">\n",
       "  <thead>\n",
       "    <tr style=\"text-align: right;\">\n",
       "      <th></th>\n",
       "      <th>Unnamed: 0</th>\n",
       "      <th>Flow ID</th>\n",
       "      <th>Source IP</th>\n",
       "      <th>Source Port</th>\n",
       "      <th>Destination IP</th>\n",
       "      <th>Destination Port</th>\n",
       "      <th>Protocol</th>\n",
       "      <th>Timestamp</th>\n",
       "      <th>Flow Duration</th>\n",
       "      <th>Total Fwd Packets</th>\n",
       "      <th>...</th>\n",
       "      <th>Active Std</th>\n",
       "      <th>Active Max</th>\n",
       "      <th>Active Min</th>\n",
       "      <th>Idle Mean</th>\n",
       "      <th>Idle Std</th>\n",
       "      <th>Idle Max</th>\n",
       "      <th>Idle Min</th>\n",
       "      <th>SimillarHTTP</th>\n",
       "      <th>Inbound</th>\n",
       "      <th>Label</th>\n",
       "    </tr>\n",
       "  </thead>\n",
       "  <tbody>\n",
       "    <tr>\n",
       "      <th>0</th>\n",
       "      <td>0</td>\n",
       "      <td>172.16.0.5-192.168.50.1-60675-80-6</td>\n",
       "      <td>172.16.0.5</td>\n",
       "      <td>60675</td>\n",
       "      <td>192.168.50.1</td>\n",
       "      <td>80</td>\n",
       "      <td>6</td>\n",
       "      <td>2018-12-01 09:17:11.183810</td>\n",
       "      <td>5220876</td>\n",
       "      <td>12</td>\n",
       "      <td>...</td>\n",
       "      <td>0.000000</td>\n",
       "      <td>0.0</td>\n",
       "      <td>0.0</td>\n",
       "      <td>0.0</td>\n",
       "      <td>0.000000</td>\n",
       "      <td>0.0</td>\n",
       "      <td>0.0</td>\n",
       "      <td>205.174.165.72/c.php</td>\n",
       "      <td>1</td>\n",
       "      <td>DrDoS_NTP</td>\n",
       "    </tr>\n",
       "    <tr>\n",
       "      <th>1</th>\n",
       "      <td>7</td>\n",
       "      <td>172.16.0.5-192.168.50.1-60676-80-6</td>\n",
       "      <td>172.16.0.5</td>\n",
       "      <td>60676</td>\n",
       "      <td>192.168.50.1</td>\n",
       "      <td>80</td>\n",
       "      <td>6</td>\n",
       "      <td>2018-12-01 09:17:11.205636</td>\n",
       "      <td>12644252</td>\n",
       "      <td>5</td>\n",
       "      <td>...</td>\n",
       "      <td>0.000000</td>\n",
       "      <td>0.0</td>\n",
       "      <td>0.0</td>\n",
       "      <td>0.0</td>\n",
       "      <td>0.000000</td>\n",
       "      <td>0.0</td>\n",
       "      <td>0.0</td>\n",
       "      <td>0</td>\n",
       "      <td>1</td>\n",
       "      <td>DrDoS_NTP</td>\n",
       "    </tr>\n",
       "    <tr>\n",
       "      <th>2</th>\n",
       "      <td>12858</td>\n",
       "      <td>192.168.50.7-65.55.163.78-50458-443-6</td>\n",
       "      <td>65.55.163.78</td>\n",
       "      <td>443</td>\n",
       "      <td>192.168.50.7</td>\n",
       "      <td>50458</td>\n",
       "      <td>6</td>\n",
       "      <td>2018-12-01 09:17:12.634569</td>\n",
       "      <td>3</td>\n",
       "      <td>2</td>\n",
       "      <td>...</td>\n",
       "      <td>0.000000</td>\n",
       "      <td>0.0</td>\n",
       "      <td>0.0</td>\n",
       "      <td>0.0</td>\n",
       "      <td>0.000000</td>\n",
       "      <td>0.0</td>\n",
       "      <td>0.0</td>\n",
       "      <td>0</td>\n",
       "      <td>1</td>\n",
       "      <td>BENIGN</td>\n",
       "    </tr>\n",
       "    <tr>\n",
       "      <th>3</th>\n",
       "      <td>10191</td>\n",
       "      <td>192.168.50.7-65.55.163.78-50465-443-6</td>\n",
       "      <td>65.55.163.78</td>\n",
       "      <td>443</td>\n",
       "      <td>192.168.50.7</td>\n",
       "      <td>50465</td>\n",
       "      <td>6</td>\n",
       "      <td>2018-12-01 09:17:13.458370</td>\n",
       "      <td>3</td>\n",
       "      <td>2</td>\n",
       "      <td>...</td>\n",
       "      <td>0.000000</td>\n",
       "      <td>0.0</td>\n",
       "      <td>0.0</td>\n",
       "      <td>0.0</td>\n",
       "      <td>0.000000</td>\n",
       "      <td>0.0</td>\n",
       "      <td>0.0</td>\n",
       "      <td>0</td>\n",
       "      <td>1</td>\n",
       "      <td>BENIGN</td>\n",
       "    </tr>\n",
       "    <tr>\n",
       "      <th>4</th>\n",
       "      <td>239</td>\n",
       "      <td>192.168.50.253-224.0.0.5-0-0-0</td>\n",
       "      <td>192.168.50.253</td>\n",
       "      <td>0</td>\n",
       "      <td>224.0.0.5</td>\n",
       "      <td>0</td>\n",
       "      <td>0</td>\n",
       "      <td>2018-12-01 09:17:13.470913</td>\n",
       "      <td>114329232</td>\n",
       "      <td>52</td>\n",
       "      <td>...</td>\n",
       "      <td>2.466441</td>\n",
       "      <td>15.0</td>\n",
       "      <td>6.0</td>\n",
       "      <td>9527428.0</td>\n",
       "      <td>248706.681286</td>\n",
       "      <td>9950741.0</td>\n",
       "      <td>9092248.0</td>\n",
       "      <td>0</td>\n",
       "      <td>0</td>\n",
       "      <td>BENIGN</td>\n",
       "    </tr>\n",
       "  </tbody>\n",
       "</table>\n",
       "<p>5 rows × 88 columns</p>\n",
       "</div>"
      ],
      "text/plain": [
       "   Unnamed: 0                                Flow ID       Source IP  \\\n",
       "0           0     172.16.0.5-192.168.50.1-60675-80-6      172.16.0.5   \n",
       "1           7     172.16.0.5-192.168.50.1-60676-80-6      172.16.0.5   \n",
       "2       12858  192.168.50.7-65.55.163.78-50458-443-6    65.55.163.78   \n",
       "3       10191  192.168.50.7-65.55.163.78-50465-443-6    65.55.163.78   \n",
       "4         239         192.168.50.253-224.0.0.5-0-0-0  192.168.50.253   \n",
       "\n",
       "    Source Port  Destination IP   Destination Port   Protocol  \\\n",
       "0         60675    192.168.50.1                 80          6   \n",
       "1         60676    192.168.50.1                 80          6   \n",
       "2           443    192.168.50.7              50458          6   \n",
       "3           443    192.168.50.7              50465          6   \n",
       "4             0       224.0.0.5                  0          0   \n",
       "\n",
       "                    Timestamp   Flow Duration   Total Fwd Packets  ...  \\\n",
       "0  2018-12-01 09:17:11.183810         5220876                  12  ...   \n",
       "1  2018-12-01 09:17:11.205636        12644252                   5  ...   \n",
       "2  2018-12-01 09:17:12.634569               3                   2  ...   \n",
       "3  2018-12-01 09:17:13.458370               3                   2  ...   \n",
       "4  2018-12-01 09:17:13.470913       114329232                  52  ...   \n",
       "\n",
       "    Active Std   Active Max   Active Min  Idle Mean       Idle Std   Idle Max  \\\n",
       "0     0.000000          0.0          0.0        0.0       0.000000        0.0   \n",
       "1     0.000000          0.0          0.0        0.0       0.000000        0.0   \n",
       "2     0.000000          0.0          0.0        0.0       0.000000        0.0   \n",
       "3     0.000000          0.0          0.0        0.0       0.000000        0.0   \n",
       "4     2.466441         15.0          6.0  9527428.0  248706.681286  9950741.0   \n",
       "\n",
       "    Idle Min          SimillarHTTP   Inbound      Label  \n",
       "0        0.0  205.174.165.72/c.php         1  DrDoS_NTP  \n",
       "1        0.0                     0         1  DrDoS_NTP  \n",
       "2        0.0                     0         1     BENIGN  \n",
       "3        0.0                     0         1     BENIGN  \n",
       "4  9092248.0                     0         0     BENIGN  \n",
       "\n",
       "[5 rows x 88 columns]"
      ]
     },
     "execution_count": 20,
     "metadata": {},
     "output_type": "execute_result"
    }
   ],
   "source": [
    "# @title\n",
    "import pandas as pd\n",
    "\n",
    "data = pd.read_csv('https://1stdataset.s3.us-east-2.amazonaws.com/CSVs/CSV-01-12/01-12/DrDoS_NTP.csv')\n",
    "data.head()"
   ]
  },
  {
   "cell_type": "code",
   "execution_count": 21,
   "metadata": {
    "colab": {
     "base_uri": "https://localhost:8080/"
    },
    "executionInfo": {
     "elapsed": 791,
     "status": "ok",
     "timestamp": 1699952396816,
     "user": {
      "displayName": "Farog Fayz",
      "userId": "10363686322394617612"
     },
     "user_tz": -120
    },
    "id": "ePTb3VxodcUB",
    "outputId": "268eaa3e-e351-4aa3-a10c-b9c24eb434d5"
   },
   "outputs": [
    {
     "name": "stdout",
     "output_type": "stream",
     "text": [
      "<class 'pandas.core.frame.DataFrame'>\n",
      "RangeIndex: 1217007 entries, 0 to 1217006\n",
      "Data columns (total 88 columns):\n",
      " #   Column                        Non-Null Count    Dtype  \n",
      "---  ------                        --------------    -----  \n",
      " 0   Unnamed: 0                    1217007 non-null  int64  \n",
      " 1   Flow ID                       1217007 non-null  object \n",
      " 2    Source IP                    1217007 non-null  object \n",
      " 3    Source Port                  1217007 non-null  int64  \n",
      " 4    Destination IP               1217007 non-null  object \n",
      " 5    Destination Port             1217007 non-null  int64  \n",
      " 6    Protocol                     1217007 non-null  int64  \n",
      " 7    Timestamp                    1217007 non-null  object \n",
      " 8    Flow Duration                1217007 non-null  int64  \n",
      " 9    Total Fwd Packets            1217007 non-null  int64  \n",
      " 10   Total Backward Packets       1217007 non-null  int64  \n",
      " 11  Total Length of Fwd Packets   1217007 non-null  float64\n",
      " 12   Total Length of Bwd Packets  1217007 non-null  float64\n",
      " 13   Fwd Packet Length Max        1217007 non-null  float64\n",
      " 14   Fwd Packet Length Min        1217007 non-null  float64\n",
      " 15   Fwd Packet Length Mean       1217007 non-null  float64\n",
      " 16   Fwd Packet Length Std        1217007 non-null  float64\n",
      " 17  Bwd Packet Length Max         1217007 non-null  float64\n",
      " 18   Bwd Packet Length Min        1217007 non-null  float64\n",
      " 19   Bwd Packet Length Mean       1217007 non-null  float64\n",
      " 20   Bwd Packet Length Std        1217007 non-null  float64\n",
      " 21  Flow Bytes/s                  1216976 non-null  float64\n",
      " 22   Flow Packets/s               1217007 non-null  float64\n",
      " 23   Flow IAT Mean                1217007 non-null  float64\n",
      " 24   Flow IAT Std                 1217007 non-null  float64\n",
      " 25   Flow IAT Max                 1217007 non-null  float64\n",
      " 26   Flow IAT Min                 1217007 non-null  float64\n",
      " 27  Fwd IAT Total                 1217007 non-null  float64\n",
      " 28   Fwd IAT Mean                 1217007 non-null  float64\n",
      " 29   Fwd IAT Std                  1217007 non-null  float64\n",
      " 30   Fwd IAT Max                  1217007 non-null  float64\n",
      " 31   Fwd IAT Min                  1217007 non-null  float64\n",
      " 32  Bwd IAT Total                 1217007 non-null  float64\n",
      " 33   Bwd IAT Mean                 1217007 non-null  float64\n",
      " 34   Bwd IAT Std                  1217007 non-null  float64\n",
      " 35   Bwd IAT Max                  1217007 non-null  float64\n",
      " 36   Bwd IAT Min                  1217007 non-null  float64\n",
      " 37  Fwd PSH Flags                 1217007 non-null  int64  \n",
      " 38   Bwd PSH Flags                1217007 non-null  int64  \n",
      " 39   Fwd URG Flags                1217007 non-null  int64  \n",
      " 40   Bwd URG Flags                1217007 non-null  int64  \n",
      " 41   Fwd Header Length            1217007 non-null  int64  \n",
      " 42   Bwd Header Length            1217007 non-null  int64  \n",
      " 43  Fwd Packets/s                 1217007 non-null  float64\n",
      " 44   Bwd Packets/s                1217007 non-null  float64\n",
      " 45   Min Packet Length            1217007 non-null  float64\n",
      " 46   Max Packet Length            1217007 non-null  float64\n",
      " 47   Packet Length Mean           1217007 non-null  float64\n",
      " 48   Packet Length Std            1217007 non-null  float64\n",
      " 49   Packet Length Variance       1217007 non-null  float64\n",
      " 50  FIN Flag Count                1217007 non-null  int64  \n",
      " 51   SYN Flag Count               1217007 non-null  int64  \n",
      " 52   RST Flag Count               1217007 non-null  int64  \n",
      " 53   PSH Flag Count               1217007 non-null  int64  \n",
      " 54   ACK Flag Count               1217007 non-null  int64  \n",
      " 55   URG Flag Count               1217007 non-null  int64  \n",
      " 56   CWE Flag Count               1217007 non-null  int64  \n",
      " 57   ECE Flag Count               1217007 non-null  int64  \n",
      " 58   Down/Up Ratio                1217007 non-null  float64\n",
      " 59   Average Packet Size          1217007 non-null  float64\n",
      " 60   Avg Fwd Segment Size         1217007 non-null  float64\n",
      " 61   Avg Bwd Segment Size         1217007 non-null  float64\n",
      " 62   Fwd Header Length.1          1217007 non-null  int64  \n",
      " 63  Fwd Avg Bytes/Bulk            1217007 non-null  int64  \n",
      " 64   Fwd Avg Packets/Bulk         1217007 non-null  int64  \n",
      " 65   Fwd Avg Bulk Rate            1217007 non-null  int64  \n",
      " 66   Bwd Avg Bytes/Bulk           1217007 non-null  int64  \n",
      " 67   Bwd Avg Packets/Bulk         1217007 non-null  int64  \n",
      " 68  Bwd Avg Bulk Rate             1217007 non-null  int64  \n",
      " 69  Subflow Fwd Packets           1217007 non-null  int64  \n",
      " 70   Subflow Fwd Bytes            1217007 non-null  int64  \n",
      " 71   Subflow Bwd Packets          1217007 non-null  int64  \n",
      " 72   Subflow Bwd Bytes            1217007 non-null  int64  \n",
      " 73  Init_Win_bytes_forward        1217007 non-null  int64  \n",
      " 74   Init_Win_bytes_backward      1217007 non-null  int64  \n",
      " 75   act_data_pkt_fwd             1217007 non-null  int64  \n",
      " 76   min_seg_size_forward         1217007 non-null  int64  \n",
      " 77  Active Mean                   1217007 non-null  float64\n",
      " 78   Active Std                   1217007 non-null  float64\n",
      " 79   Active Max                   1217007 non-null  float64\n",
      " 80   Active Min                   1217007 non-null  float64\n",
      " 81  Idle Mean                     1217007 non-null  float64\n",
      " 82   Idle Std                     1217007 non-null  float64\n",
      " 83   Idle Max                     1217007 non-null  float64\n",
      " 84   Idle Min                     1217007 non-null  float64\n",
      " 85  SimillarHTTP                  1217007 non-null  object \n",
      " 86   Inbound                      1217007 non-null  int64  \n",
      " 87   Label                        1217007 non-null  object \n",
      "dtypes: float64(45), int64(37), object(6)\n",
      "memory usage: 817.1+ MB\n"
     ]
    }
   ],
   "source": [
    "data.info()"
   ]
  },
  {
   "cell_type": "code",
   "execution_count": 22,
   "metadata": {
    "colab": {
     "base_uri": "https://localhost:8080/",
     "height": 290
    },
    "executionInfo": {
     "elapsed": 2858,
     "status": "ok",
     "timestamp": 1699952399668,
     "user": {
      "displayName": "Farog Fayz",
      "userId": "10363686322394617612"
     },
     "user_tz": -120
    },
    "id": "Z-GfV_NTdvRu",
    "outputId": "47175fbf-66a9-412b-c97a-165948efb106"
   },
   "outputs": [
    {
     "data": {
      "text/html": [
       "<div>\n",
       "<style scoped>\n",
       "    .dataframe tbody tr th:only-of-type {\n",
       "        vertical-align: middle;\n",
       "    }\n",
       "\n",
       "    .dataframe tbody tr th {\n",
       "        vertical-align: top;\n",
       "    }\n",
       "\n",
       "    .dataframe thead th {\n",
       "        text-align: right;\n",
       "    }\n",
       "</style>\n",
       "<table border=\"1\" class=\"dataframe\">\n",
       "  <thead>\n",
       "    <tr style=\"text-align: right;\">\n",
       "      <th></th>\n",
       "      <th>Unnamed: 0</th>\n",
       "      <th>Flow ID</th>\n",
       "      <th>Source IP</th>\n",
       "      <th>Source Port</th>\n",
       "      <th>Destination IP</th>\n",
       "      <th>Destination Port</th>\n",
       "      <th>Protocol</th>\n",
       "      <th>Timestamp</th>\n",
       "      <th>Flow Duration</th>\n",
       "      <th>Total Fwd Packets</th>\n",
       "      <th>...</th>\n",
       "      <th>Active Std</th>\n",
       "      <th>Active Max</th>\n",
       "      <th>Active Min</th>\n",
       "      <th>Idle Mean</th>\n",
       "      <th>Idle Std</th>\n",
       "      <th>Idle Max</th>\n",
       "      <th>Idle Min</th>\n",
       "      <th>SimillarHTTP</th>\n",
       "      <th>Inbound</th>\n",
       "      <th>Label</th>\n",
       "    </tr>\n",
       "  </thead>\n",
       "  <tbody>\n",
       "    <tr>\n",
       "      <th>0</th>\n",
       "      <td>0</td>\n",
       "      <td>172.16.0.5-192.168.50.1-60675-80-6</td>\n",
       "      <td>24</td>\n",
       "      <td>60675</td>\n",
       "      <td>146</td>\n",
       "      <td>80</td>\n",
       "      <td>6</td>\n",
       "      <td>1543655831183810000</td>\n",
       "      <td>5220876</td>\n",
       "      <td>12</td>\n",
       "      <td>...</td>\n",
       "      <td>0.000000</td>\n",
       "      <td>0.0</td>\n",
       "      <td>0.0</td>\n",
       "      <td>0.0</td>\n",
       "      <td>0.000000</td>\n",
       "      <td>0.0</td>\n",
       "      <td>0.0</td>\n",
       "      <td>205.174.165.72/c.php</td>\n",
       "      <td>1</td>\n",
       "      <td>1</td>\n",
       "    </tr>\n",
       "    <tr>\n",
       "      <th>1</th>\n",
       "      <td>7</td>\n",
       "      <td>172.16.0.5-192.168.50.1-60676-80-6</td>\n",
       "      <td>24</td>\n",
       "      <td>60676</td>\n",
       "      <td>146</td>\n",
       "      <td>80</td>\n",
       "      <td>6</td>\n",
       "      <td>1543655831205636000</td>\n",
       "      <td>12644252</td>\n",
       "      <td>5</td>\n",
       "      <td>...</td>\n",
       "      <td>0.000000</td>\n",
       "      <td>0.0</td>\n",
       "      <td>0.0</td>\n",
       "      <td>0.0</td>\n",
       "      <td>0.000000</td>\n",
       "      <td>0.0</td>\n",
       "      <td>0.0</td>\n",
       "      <td>0</td>\n",
       "      <td>1</td>\n",
       "      <td>1</td>\n",
       "    </tr>\n",
       "    <tr>\n",
       "      <th>2</th>\n",
       "      <td>12858</td>\n",
       "      <td>192.168.50.7-65.55.163.78-50458-443-6</td>\n",
       "      <td>313</td>\n",
       "      <td>443</td>\n",
       "      <td>150</td>\n",
       "      <td>50458</td>\n",
       "      <td>6</td>\n",
       "      <td>1543655832634569000</td>\n",
       "      <td>3</td>\n",
       "      <td>2</td>\n",
       "      <td>...</td>\n",
       "      <td>0.000000</td>\n",
       "      <td>0.0</td>\n",
       "      <td>0.0</td>\n",
       "      <td>0.0</td>\n",
       "      <td>0.000000</td>\n",
       "      <td>0.0</td>\n",
       "      <td>0.0</td>\n",
       "      <td>0</td>\n",
       "      <td>1</td>\n",
       "      <td>0</td>\n",
       "    </tr>\n",
       "    <tr>\n",
       "      <th>3</th>\n",
       "      <td>10191</td>\n",
       "      <td>192.168.50.7-65.55.163.78-50465-443-6</td>\n",
       "      <td>313</td>\n",
       "      <td>443</td>\n",
       "      <td>150</td>\n",
       "      <td>50465</td>\n",
       "      <td>6</td>\n",
       "      <td>1543655833458370000</td>\n",
       "      <td>3</td>\n",
       "      <td>2</td>\n",
       "      <td>...</td>\n",
       "      <td>0.000000</td>\n",
       "      <td>0.0</td>\n",
       "      <td>0.0</td>\n",
       "      <td>0.0</td>\n",
       "      <td>0.000000</td>\n",
       "      <td>0.0</td>\n",
       "      <td>0.0</td>\n",
       "      <td>0</td>\n",
       "      <td>1</td>\n",
       "      <td>0</td>\n",
       "    </tr>\n",
       "    <tr>\n",
       "      <th>4</th>\n",
       "      <td>239</td>\n",
       "      <td>192.168.50.253-224.0.0.5-0-0-0</td>\n",
       "      <td>133</td>\n",
       "      <td>0</td>\n",
       "      <td>194</td>\n",
       "      <td>0</td>\n",
       "      <td>0</td>\n",
       "      <td>1543655833470913000</td>\n",
       "      <td>114329232</td>\n",
       "      <td>52</td>\n",
       "      <td>...</td>\n",
       "      <td>2.466441</td>\n",
       "      <td>15.0</td>\n",
       "      <td>6.0</td>\n",
       "      <td>9527428.0</td>\n",
       "      <td>248706.681286</td>\n",
       "      <td>9950741.0</td>\n",
       "      <td>9092248.0</td>\n",
       "      <td>0</td>\n",
       "      <td>0</td>\n",
       "      <td>0</td>\n",
       "    </tr>\n",
       "  </tbody>\n",
       "</table>\n",
       "<p>5 rows × 88 columns</p>\n",
       "</div>"
      ],
      "text/plain": [
       "   Unnamed: 0                                Flow ID   Source IP  \\\n",
       "0           0     172.16.0.5-192.168.50.1-60675-80-6          24   \n",
       "1           7     172.16.0.5-192.168.50.1-60676-80-6          24   \n",
       "2       12858  192.168.50.7-65.55.163.78-50458-443-6         313   \n",
       "3       10191  192.168.50.7-65.55.163.78-50465-443-6         313   \n",
       "4         239         192.168.50.253-224.0.0.5-0-0-0         133   \n",
       "\n",
       "    Source Port   Destination IP   Destination Port   Protocol  \\\n",
       "0         60675              146                 80          6   \n",
       "1         60676              146                 80          6   \n",
       "2           443              150              50458          6   \n",
       "3           443              150              50465          6   \n",
       "4             0              194                  0          0   \n",
       "\n",
       "             Timestamp   Flow Duration   Total Fwd Packets  ...   Active Std  \\\n",
       "0  1543655831183810000         5220876                  12  ...     0.000000   \n",
       "1  1543655831205636000        12644252                   5  ...     0.000000   \n",
       "2  1543655832634569000               3                   2  ...     0.000000   \n",
       "3  1543655833458370000               3                   2  ...     0.000000   \n",
       "4  1543655833470913000       114329232                  52  ...     2.466441   \n",
       "\n",
       "    Active Max   Active Min  Idle Mean       Idle Std   Idle Max   Idle Min  \\\n",
       "0          0.0          0.0        0.0       0.000000        0.0        0.0   \n",
       "1          0.0          0.0        0.0       0.000000        0.0        0.0   \n",
       "2          0.0          0.0        0.0       0.000000        0.0        0.0   \n",
       "3          0.0          0.0        0.0       0.000000        0.0        0.0   \n",
       "4         15.0          6.0  9527428.0  248706.681286  9950741.0  9092248.0   \n",
       "\n",
       "           SimillarHTTP   Inbound   Label  \n",
       "0  205.174.165.72/c.php         1       1  \n",
       "1                     0         1       1  \n",
       "2                     0         1       0  \n",
       "3                     0         1       0  \n",
       "4                     0         0       0  \n",
       "\n",
       "[5 rows x 88 columns]"
      ]
     },
     "execution_count": 22,
     "metadata": {},
     "output_type": "execute_result"
    }
   ],
   "source": [
    "import pandas as pd\n",
    "import numpy as np\n",
    "from sklearn.model_selection import train_test_split\n",
    "from sklearn.preprocessing import StandardScaler, LabelEncoder\n",
    "from sklearn.metrics import classification_report, accuracy_score, f1_score\n",
    "from sklearn.linear_model import LogisticRegression\n",
    "from sklearn.ensemble import RandomForestClassifier\n",
    "from sklearn.svm import SVC\n",
    "#from imblearn.over_sampling import SMOTE\n",
    "\n",
    "\n",
    "# Pre-process the data\n",
    "# Encode categorical features (e.g., IP addresses)\n",
    "encoder = LabelEncoder()\n",
    "data[' Source IP'] = encoder.fit_transform(data[' Source IP'])\n",
    "data[' Destination IP'] = encoder.fit_transform(data[' Destination IP'])\n",
    "data[' Timestamp'] = pd.to_datetime(data[' Timestamp']).astype(np.int64)\n",
    "data[' Label'] = encoder.fit_transform(data[' Label'])\n",
    "data.head()"
   ]
  },
  {
   "cell_type": "code",
   "execution_count": 23,
   "metadata": {
    "colab": {
     "base_uri": "https://localhost:8080/",
     "height": 270
    },
    "executionInfo": {
     "elapsed": 1104,
     "status": "ok",
     "timestamp": 1699952400766,
     "user": {
      "displayName": "Farog Fayz",
      "userId": "10363686322394617612"
     },
     "user_tz": -120
    },
    "id": "wIIMf8inhO42",
    "outputId": "ae89cc88-b699-440e-fa20-aabf7c2220ed"
   },
   "outputs": [
    {
     "data": {
      "text/html": [
       "<div>\n",
       "<style scoped>\n",
       "    .dataframe tbody tr th:only-of-type {\n",
       "        vertical-align: middle;\n",
       "    }\n",
       "\n",
       "    .dataframe tbody tr th {\n",
       "        vertical-align: top;\n",
       "    }\n",
       "\n",
       "    .dataframe thead th {\n",
       "        text-align: right;\n",
       "    }\n",
       "</style>\n",
       "<table border=\"1\" class=\"dataframe\">\n",
       "  <thead>\n",
       "    <tr style=\"text-align: right;\">\n",
       "      <th></th>\n",
       "      <th>Source IP</th>\n",
       "      <th>Source Port</th>\n",
       "      <th>Destination IP</th>\n",
       "      <th>Destination Port</th>\n",
       "      <th>Protocol</th>\n",
       "      <th>Timestamp</th>\n",
       "      <th>Flow Duration</th>\n",
       "      <th>Total Fwd Packets</th>\n",
       "      <th>Total Backward Packets</th>\n",
       "      <th>Total Length of Fwd Packets</th>\n",
       "      <th>...</th>\n",
       "      <th>Active Mean</th>\n",
       "      <th>Active Std</th>\n",
       "      <th>Active Max</th>\n",
       "      <th>Active Min</th>\n",
       "      <th>Idle Mean</th>\n",
       "      <th>Idle Std</th>\n",
       "      <th>Idle Max</th>\n",
       "      <th>Idle Min</th>\n",
       "      <th>Inbound</th>\n",
       "      <th>Label</th>\n",
       "    </tr>\n",
       "  </thead>\n",
       "  <tbody>\n",
       "    <tr>\n",
       "      <th>0</th>\n",
       "      <td>135</td>\n",
       "      <td>56425</td>\n",
       "      <td>357</td>\n",
       "      <td>80</td>\n",
       "      <td>6</td>\n",
       "      <td>1543657502802986000</td>\n",
       "      <td>54754</td>\n",
       "      <td>1</td>\n",
       "      <td>2</td>\n",
       "      <td>0.0</td>\n",
       "      <td>...</td>\n",
       "      <td>0.0</td>\n",
       "      <td>0.0</td>\n",
       "      <td>0.0</td>\n",
       "      <td>0.0</td>\n",
       "      <td>0.0</td>\n",
       "      <td>0.0</td>\n",
       "      <td>0.0</td>\n",
       "      <td>0.0</td>\n",
       "      <td>0</td>\n",
       "      <td>0</td>\n",
       "    </tr>\n",
       "    <tr>\n",
       "      <th>1</th>\n",
       "      <td>24</td>\n",
       "      <td>708</td>\n",
       "      <td>146</td>\n",
       "      <td>52756</td>\n",
       "      <td>17</td>\n",
       "      <td>1543660918606445000</td>\n",
       "      <td>1136</td>\n",
       "      <td>60</td>\n",
       "      <td>0</td>\n",
       "      <td>26112.0</td>\n",
       "      <td>...</td>\n",
       "      <td>0.0</td>\n",
       "      <td>0.0</td>\n",
       "      <td>0.0</td>\n",
       "      <td>0.0</td>\n",
       "      <td>0.0</td>\n",
       "      <td>0.0</td>\n",
       "      <td>0.0</td>\n",
       "      <td>0.0</td>\n",
       "      <td>1</td>\n",
       "      <td>1</td>\n",
       "    </tr>\n",
       "    <tr>\n",
       "      <th>2</th>\n",
       "      <td>24</td>\n",
       "      <td>834</td>\n",
       "      <td>146</td>\n",
       "      <td>5309</td>\n",
       "      <td>17</td>\n",
       "      <td>1543660874876975000</td>\n",
       "      <td>404</td>\n",
       "      <td>28</td>\n",
       "      <td>0</td>\n",
       "      <td>11600.0</td>\n",
       "      <td>...</td>\n",
       "      <td>0.0</td>\n",
       "      <td>0.0</td>\n",
       "      <td>0.0</td>\n",
       "      <td>0.0</td>\n",
       "      <td>0.0</td>\n",
       "      <td>0.0</td>\n",
       "      <td>0.0</td>\n",
       "      <td>0.0</td>\n",
       "      <td>1</td>\n",
       "      <td>1</td>\n",
       "    </tr>\n",
       "    <tr>\n",
       "      <th>3</th>\n",
       "      <td>24</td>\n",
       "      <td>963</td>\n",
       "      <td>146</td>\n",
       "      <td>7324</td>\n",
       "      <td>17</td>\n",
       "      <td>1543660724990411000</td>\n",
       "      <td>3442</td>\n",
       "      <td>46</td>\n",
       "      <td>0</td>\n",
       "      <td>19808.0</td>\n",
       "      <td>...</td>\n",
       "      <td>0.0</td>\n",
       "      <td>0.0</td>\n",
       "      <td>0.0</td>\n",
       "      <td>0.0</td>\n",
       "      <td>0.0</td>\n",
       "      <td>0.0</td>\n",
       "      <td>0.0</td>\n",
       "      <td>0.0</td>\n",
       "      <td>1</td>\n",
       "      <td>1</td>\n",
       "    </tr>\n",
       "    <tr>\n",
       "      <th>4</th>\n",
       "      <td>24</td>\n",
       "      <td>514</td>\n",
       "      <td>146</td>\n",
       "      <td>44426</td>\n",
       "      <td>17</td>\n",
       "      <td>1543660902787275000</td>\n",
       "      <td>84082</td>\n",
       "      <td>156</td>\n",
       "      <td>0</td>\n",
       "      <td>68640.0</td>\n",
       "      <td>...</td>\n",
       "      <td>0.0</td>\n",
       "      <td>0.0</td>\n",
       "      <td>0.0</td>\n",
       "      <td>0.0</td>\n",
       "      <td>0.0</td>\n",
       "      <td>0.0</td>\n",
       "      <td>0.0</td>\n",
       "      <td>0.0</td>\n",
       "      <td>1</td>\n",
       "      <td>1</td>\n",
       "    </tr>\n",
       "  </tbody>\n",
       "</table>\n",
       "<p>5 rows × 85 columns</p>\n",
       "</div>"
      ],
      "text/plain": [
       "    Source IP   Source Port   Destination IP   Destination Port   Protocol  \\\n",
       "0         135         56425              357                 80          6   \n",
       "1          24           708              146              52756         17   \n",
       "2          24           834              146               5309         17   \n",
       "3          24           963              146               7324         17   \n",
       "4          24           514              146              44426         17   \n",
       "\n",
       "             Timestamp   Flow Duration   Total Fwd Packets  \\\n",
       "0  1543657502802986000           54754                   1   \n",
       "1  1543660918606445000            1136                  60   \n",
       "2  1543660874876975000             404                  28   \n",
       "3  1543660724990411000            3442                  46   \n",
       "4  1543660902787275000           84082                 156   \n",
       "\n",
       "    Total Backward Packets  Total Length of Fwd Packets  ...  Active Mean  \\\n",
       "0                        2                          0.0  ...          0.0   \n",
       "1                        0                      26112.0  ...          0.0   \n",
       "2                        0                      11600.0  ...          0.0   \n",
       "3                        0                      19808.0  ...          0.0   \n",
       "4                        0                      68640.0  ...          0.0   \n",
       "\n",
       "    Active Std   Active Max   Active Min  Idle Mean   Idle Std   Idle Max  \\\n",
       "0          0.0          0.0          0.0        0.0        0.0        0.0   \n",
       "1          0.0          0.0          0.0        0.0        0.0        0.0   \n",
       "2          0.0          0.0          0.0        0.0        0.0        0.0   \n",
       "3          0.0          0.0          0.0        0.0        0.0        0.0   \n",
       "4          0.0          0.0          0.0        0.0        0.0        0.0   \n",
       "\n",
       "    Idle Min   Inbound   Label  \n",
       "0        0.0         0       0  \n",
       "1        0.0         1       1  \n",
       "2        0.0         1       1  \n",
       "3        0.0         1       1  \n",
       "4        0.0         1       1  \n",
       "\n",
       "[5 rows x 85 columns]"
      ]
     },
     "execution_count": 23,
     "metadata": {},
     "output_type": "execute_result"
    }
   ],
   "source": [
    "# Drop unnecessary columns in the CVs's\n",
    "try:\n",
    "  data = data.drop(['Unnamed: 0', 'Flow ID', 'SimillarHTTP'], axis=1)\n",
    "except:\n",
    "  print('Columns are dropped already')\n",
    "\n",
    "# Set the desired number of majority class samples\n",
    "num_majority_samples = 100000\n",
    "\n",
    "# Get the minority class label\n",
    "minority_class = data[' Label'].value_counts().idxmin()\n",
    "\n",
    "# Separate majority and minority class samples\n",
    "majority_samples = data[data[' Label'] != minority_class]\n",
    "minority_samples = data[data[' Label'] == minority_class]\n",
    "\n",
    "# Sample the majority class samples\n",
    "majority_samples_sampled = majority_samples.sample(num_majority_samples, random_state=42)\n",
    "\n",
    "# Combine the sampled majority class samples and minority class samples\n",
    "balanced_data = pd.concat([majority_samples_sampled, minority_samples], axis=0)\n",
    "\n",
    "# Shuffle the balanced dataset\n",
    "balanced_data = balanced_data.sample(frac=1, random_state=42).reset_index(drop=True)\n",
    "\n",
    "balanced_data.head()"
   ]
  },
  {
   "cell_type": "code",
   "execution_count": 24,
   "metadata": {
    "colab": {
     "base_uri": "https://localhost:8080/"
    },
    "executionInfo": {
     "elapsed": 28,
     "status": "ok",
     "timestamp": 1699952400767,
     "user": {
      "displayName": "Farog Fayz",
      "userId": "10363686322394617612"
     },
     "user_tz": -120
    },
    "id": "s2F2L7fRilJE",
    "outputId": "74fd2d4e-7dd2-478b-f30f-e115299fb700"
   },
   "outputs": [
    {
     "data": {
      "text/plain": [
       "1    100000\n",
       "0     14365\n",
       "Name:  Label, dtype: int64"
      ]
     },
     "execution_count": 24,
     "metadata": {},
     "output_type": "execute_result"
    }
   ],
   "source": [
    "balanced_data[' Label'].value_counts()"
   ]
  },
  {
   "cell_type": "code",
   "execution_count": 25,
   "metadata": {
    "colab": {
     "base_uri": "https://localhost:8080/"
    },
    "executionInfo": {
     "elapsed": 23,
     "status": "ok",
     "timestamp": 1699952400768,
     "user": {
      "displayName": "Farog Fayz",
      "userId": "10363686322394617612"
     },
     "user_tz": -120
    },
    "id": "Lf4wpJ_6isxO",
    "outputId": "5c5b720e-10eb-46ba-d20e-fc68e98676d5"
   },
   "outputs": [
    {
     "data": {
      "text/plain": [
       "1    1202642\n",
       "0      14365\n",
       "Name:  Label, dtype: int64"
      ]
     },
     "execution_count": 25,
     "metadata": {},
     "output_type": "execute_result"
    }
   ],
   "source": [
    "data[' Label'].value_counts()"
   ]
  },
  {
   "cell_type": "code",
   "execution_count": 26,
   "metadata": {
    "colab": {
     "base_uri": "https://localhost:8080/"
    },
    "executionInfo": {
     "elapsed": 22,
     "status": "ok",
     "timestamp": 1699952400770,
     "user": {
      "displayName": "Farog Fayz",
      "userId": "10363686322394617612"
     },
     "user_tz": -120
    },
    "id": "UHppj_hyn6XF",
    "outputId": "3731a4fb-47af-4365-85aa-d1ab847f215c"
   },
   "outputs": [
    {
     "name": "stdout",
     "output_type": "stream",
     "text": [
      "Correlation between 'Inbound' and 'Label': 0.8872408442517508\n"
     ]
    }
   ],
   "source": [
    "import pandas as pd\n",
    "\n",
    "# Assuming your dataset is named 'data'\n",
    "correlation = balanced_data[' Inbound'].corr(balanced_data[' Label'])\n",
    "print(\"Correlation between 'Inbound' and 'Label':\", correlation)\n"
   ]
  },
  {
   "cell_type": "code",
   "execution_count": 27,
   "metadata": {
    "colab": {
     "base_uri": "https://localhost:8080/"
    },
    "executionInfo": {
     "elapsed": 18,
     "status": "ok",
     "timestamp": 1699952400772,
     "user": {
      "displayName": "Farog Fayz",
      "userId": "10363686322394617612"
     },
     "user_tz": -120
    },
    "id": "jk5jvQ4MoOBs",
    "outputId": "87ee3d8f-92e1-4616-9bd3-630d34dc2824"
   },
   "outputs": [
    {
     "data": {
      "text/plain": [
       "1    102412\n",
       "0     11953\n",
       "Name:  Inbound, dtype: int64"
      ]
     },
     "execution_count": 27,
     "metadata": {},
     "output_type": "execute_result"
    }
   ],
   "source": [
    "balanced_data[' Inbound'].value_counts()"
   ]
  },
  {
   "cell_type": "code",
   "execution_count": 28,
   "metadata": {
    "colab": {
     "base_uri": "https://localhost:8080/",
     "height": 564
    },
    "executionInfo": {
     "elapsed": 1016,
     "status": "ok",
     "timestamp": 1699952401773,
     "user": {
      "displayName": "Farog Fayz",
      "userId": "10363686322394617612"
     },
     "user_tz": -120
    },
    "id": "9LWbKuBpp19B",
    "outputId": "596093dd-cf63-4f20-debc-1cc09b475ec8"
   },
   "outputs": [
    {
     "data": {
      "image/png": "[encoded data removed]",
      "text/plain": [
       "<Figure size 1000x600 with 1 Axes>"
      ]
     },
     "metadata": {},
     "output_type": "display_data"
    }
   ],
   "source": [
    "import seaborn as sns\n",
    "import matplotlib.pyplot as plt\n",
    "\n",
    "# Assuming your dataframe is named 'df'\n",
    "plt.figure(figsize=(10, 6))\n",
    "sns.countplot(data=balanced_data, x=' Inbound', hue=' Label')\n",
    "plt.title('Frequency of Inbound with Label as Hue')\n",
    "plt.xlabel('Inbound')\n",
    "plt.ylabel('Count')\n",
    "plt.show()\n"
   ]
  },
  {
   "cell_type": "code",
   "execution_count": 29,
   "metadata": {
    "colab": {
     "base_uri": "https://localhost:8080/",
     "height": 564
    },
    "executionInfo": {
     "elapsed": 550,
     "status": "ok",
     "timestamp": 1699952402310,
     "user": {
      "displayName": "Farog Fayz",
      "userId": "10363686322394617612"
     },
     "user_tz": -120
    },
    "id": "8KipWztuqCCu",
    "outputId": "8a476c3c-a088-4f97-9d49-0869631eb5d0"
   },
   "outputs": [
    {
     "data": {
      "image/png": "[encoded data removed]",
      "text/plain": [
       "<Figure size 1000x600 with 1 Axes>"
      ]
     },
     "metadata": {},
     "output_type": "display_data"
    }
   ],
   "source": [
    "import seaborn as sns\n",
    "import matplotlib.pyplot as plt\n",
    "\n",
    "# Assuming your dataframe is named 'df'\n",
    "plt.figure(figsize=(10, 6))\n",
    "sns.countplot(data=balanced_data, x=' Label', hue=' Inbound')\n",
    "plt.title('Frequency of Label with Inbound as Hue')\n",
    "plt.xlabel('Label')\n",
    "plt.ylabel('Count')\n",
    "plt.show()\n"
   ]
  },
  {
   "cell_type": "code",
   "execution_count": 30,
   "metadata": {
    "colab": {
     "base_uri": "https://localhost:8080/",
     "height": 564
    },
    "executionInfo": {
     "elapsed": 464,
     "status": "ok",
     "timestamp": 1699952402768,
     "user": {
      "displayName": "Farog Fayz",
      "userId": "10363686322394617612"
     },
     "user_tz": -120
    },
    "id": "yoxvG-3cqfCK",
    "outputId": "d54cd82a-a06a-4abd-e432-793197fb43ed"
   },
   "outputs": [
    {
     "data": {
      "image/png": "[encoded data removed]",
      "text/plain": [
       "<Figure size 1000x600 with 1 Axes>"
      ]
     },
     "metadata": {},
     "output_type": "display_data"
    }
   ],
   "source": [
    "import seaborn as sns\n",
    "import matplotlib.pyplot as plt\n",
    "import numpy as np\n",
    "\n",
    "# Assuming your dataframe is named 'df'\n",
    "inbound_label_counts = balanced_data.groupby([' Inbound', ' Label']).size().reset_index(name='Count')\n",
    "total_counts = balanced_data.groupby([' Inbound']).size().reset_index(name='Total_Count')\n",
    "\n",
    "inbound_label_counts = inbound_label_counts.merge(total_counts, on=' Inbound')\n",
    "inbound_label_counts['Percentage'] = (inbound_label_counts['Count'] / inbound_label_counts['Total_Count']) * 100\n",
    "\n",
    "plt.figure(figsize=(10, 6))\n",
    "sns.barplot(data=inbound_label_counts, x=' Inbound', y='Percentage', hue=' Label')\n",
    "plt.title('Frequency of Inbound with Label as Hue (Percentage)')\n",
    "plt.xlabel('Inbound')\n",
    "plt.ylabel('Percentage')\n",
    "plt.show()\n"
   ]
  },
  {
   "cell_type": "code",
   "execution_count": 31,
   "metadata": {
    "colab": {
     "base_uri": "https://localhost:8080/",
     "height": 175
    },
    "executionInfo": {
     "elapsed": 17,
     "status": "ok",
     "timestamp": 1699952402769,
     "user": {
      "displayName": "Farog Fayz",
      "userId": "10363686322394617612"
     },
     "user_tz": -120
    },
    "id": "rjkxk3cLq77X",
    "outputId": "e8367b2e-222e-406f-fe30-fcd4f2e50f5b"
   },
   "outputs": [
    {
     "data": {
      "text/html": [
       "<div>\n",
       "<style scoped>\n",
       "    .dataframe tbody tr th:only-of-type {\n",
       "        vertical-align: middle;\n",
       "    }\n",
       "\n",
       "    .dataframe tbody tr th {\n",
       "        vertical-align: top;\n",
       "    }\n",
       "\n",
       "    .dataframe thead th {\n",
       "        text-align: right;\n",
       "    }\n",
       "</style>\n",
       "<table border=\"1\" class=\"dataframe\">\n",
       "  <thead>\n",
       "    <tr style=\"text-align: right;\">\n",
       "      <th></th>\n",
       "      <th>Inbound</th>\n",
       "      <th>Label</th>\n",
       "      <th>Count</th>\n",
       "      <th>Total_Count</th>\n",
       "      <th>Percentage</th>\n",
       "    </tr>\n",
       "  </thead>\n",
       "  <tbody>\n",
       "    <tr>\n",
       "      <th>0</th>\n",
       "      <td>0</td>\n",
       "      <td>0</td>\n",
       "      <td>11789</td>\n",
       "      <td>11953</td>\n",
       "      <td>98.62796</td>\n",
       "    </tr>\n",
       "    <tr>\n",
       "      <th>1</th>\n",
       "      <td>0</td>\n",
       "      <td>1</td>\n",
       "      <td>164</td>\n",
       "      <td>11953</td>\n",
       "      <td>1.37204</td>\n",
       "    </tr>\n",
       "    <tr>\n",
       "      <th>2</th>\n",
       "      <td>1</td>\n",
       "      <td>0</td>\n",
       "      <td>2576</td>\n",
       "      <td>102412</td>\n",
       "      <td>2.51533</td>\n",
       "    </tr>\n",
       "    <tr>\n",
       "      <th>3</th>\n",
       "      <td>1</td>\n",
       "      <td>1</td>\n",
       "      <td>99836</td>\n",
       "      <td>102412</td>\n",
       "      <td>97.48467</td>\n",
       "    </tr>\n",
       "  </tbody>\n",
       "</table>\n",
       "</div>"
      ],
      "text/plain": [
       "    Inbound   Label  Count  Total_Count  Percentage\n",
       "0         0       0  11789        11953    98.62796\n",
       "1         0       1    164        11953     1.37204\n",
       "2         1       0   2576       102412     2.51533\n",
       "3         1       1  99836       102412    97.48467"
      ]
     },
     "execution_count": 31,
     "metadata": {},
     "output_type": "execute_result"
    }
   ],
   "source": [
    "inbound_label_counts"
   ]
  },
  {
   "cell_type": "code",
   "execution_count": 32,
   "metadata": {
    "id": "r02qZDIiffV0"
   },
   "outputs": [],
   "source": [
    "\n",
    "# Split the data into train and test sets\n",
    "X = balanced_data.drop([' Inbound',' Label'], axis=1)\n",
    "y = balanced_data[' Label']\n",
    "X_train, X_test, y_train, y_test = train_test_split(X, y, test_size=0.3,stratify = y, random_state=42)\n",
    "\n"
   ]
  },
  {
   "cell_type": "code",
   "execution_count": 33,
   "metadata": {
    "colab": {
     "base_uri": "https://localhost:8080/"
    },
    "executionInfo": {
     "elapsed": 7,
     "status": "ok",
     "timestamp": 1699952403084,
     "user": {
      "displayName": "Farog Fayz",
      "userId": "10363686322394617612"
     },
     "user_tz": -120
    },
    "id": "Y2vIbHbtgpxl",
    "outputId": "3dd9a303-95dc-4a91-a190-f3894b2728cf"
   },
   "outputs": [
    {
     "data": {
      "text/plain": [
       "19"
      ]
     },
     "execution_count": 33,
     "metadata": {},
     "output_type": "execute_result"
    }
   ],
   "source": [
    "X_train.isnull().sum().sum()"
   ]
  },
  {
   "cell_type": "code",
   "execution_count": 34,
   "metadata": {
    "colab": {
     "base_uri": "https://localhost:8080/"
    },
    "executionInfo": {
     "elapsed": 319,
     "status": "ok",
     "timestamp": 1699952403398,
     "user": {
      "displayName": "Farog Fayz",
      "userId": "10363686322394617612"
     },
     "user_tz": -120
    },
    "id": "ApWxjYU2j_49",
    "outputId": "a0639944-c3d9-47fd-f138-1261a930657e"
   },
   "outputs": [
    {
     "name": "stdout",
     "output_type": "stream",
     "text": [
      "There are NaN values in the dataset.\n",
      "There are infinite values in the dataset.\n",
      "There are values too large for dtype('float64') in the dataset. Max value: inf\n",
      "There are NaN values in the dataset.\n",
      "There are infinite values in the dataset.\n",
      "There are values too large for dtype('float64') in the dataset. Max value: inf\n"
     ]
    }
   ],
   "source": [
    "import numpy as np\n",
    "\n",
    "def check_data_issues(data):\n",
    "    # Check for NaN values\n",
    "    if data.isnull().values.any():\n",
    "        print(\"There are NaN values in the dataset.\")\n",
    "\n",
    "    # Check for infinite values\n",
    "    if np.isinf(data).values.any():\n",
    "        print(\"There are infinite values in the dataset.\")\n",
    "\n",
    "    # Check for extremely large values\n",
    "    max_value = data.max().max()\n",
    "    if max_value > np.finfo(np.float64).max:\n",
    "        print(f\"There are values too large for dtype('float64') in the dataset. Max value: {max_value}\")\n",
    "\n",
    "    # Check for extremely small values\n",
    "    min_value = data.min().min()\n",
    "    if min_value < np.finfo(np.float64).min:\n",
    "        print(f\"There are values too small for dtype('float64') in the dataset. Min value: {min_value}\")\n",
    "\n",
    "# Check the training and testing data for any issues\n",
    "check_data_issues(X_train)\n",
    "check_data_issues(X_test)\n"
   ]
  },
  {
   "cell_type": "code",
   "execution_count": 35,
   "metadata": {
    "id": "GMmPRzjckl35"
   },
   "outputs": [],
   "source": [
    "# Replace infinity values with NaN\n",
    "X_train.replace([np.inf, -np.inf], np.nan, inplace=True)\n",
    "X_test.replace([np.inf, -np.inf], np.nan, inplace=True)\n",
    "\n",
    "# Impute NaN values with the mean of the corresponding column\n",
    "from sklearn.impute import SimpleImputer\n",
    "\n",
    "imputer = SimpleImputer(missing_values=np.nan, strategy='mean')\n",
    "X_train = imputer.fit_transform(X_train)\n",
    "X_test = imputer.transform(X_test)\n",
    "\n",
    "# Now, standardize the data\n",
    "scaler = StandardScaler()\n",
    "X_train = scaler.fit_transform(X_train)\n",
    "X_test = scaler.transform(X_test)\n"
   ]
  },
  {
   "cell_type": "code",
   "execution_count": 36,
   "metadata": {
    "colab": {
     "base_uri": "https://localhost:8080/",
     "height": 1000
    },
    "executionInfo": {
     "elapsed": 32847,
     "status": "ok",
     "timestamp": 1699952436554,
     "user": {
      "displayName": "Farog Fayz",
      "userId": "10363686322394617612"
     },
     "user_tz": -120
    },
    "id": "OeH-ZlcZr0gX",
    "outputId": "7a6bb373-7cd7-4865-c43f-7dfd764ba288"
   },
   "outputs": [
    {
     "name": "stderr",
     "output_type": "stream",
     "text": [
      "/tmp/ipykernel_12113/3989400141.py:23: FutureWarning: The frame.append method is deprecated and will be removed from pandas in a future version. Use pandas.concat instead.\n",
      "  model_comparison = model_comparison.append({\"Model\": name, \"Accuracy\": accuracy, \"F1 Score\": f1}, ignore_index=True)\n"
     ]
    },
    {
     "name": "stdout",
     "output_type": "stream",
     "text": [
      "Logistic Regression:\n",
      "Accuracy: 0.9983386767706208\n",
      "F1 score: 0.9983392538526517\n",
      "              precision    recall  f1-score   support\n",
      "\n",
      "           0       0.99      0.99      0.99      4310\n",
      "           1       1.00      1.00      1.00     30000\n",
      "\n",
      "    accuracy                           1.00     34310\n",
      "   macro avg       1.00      1.00      1.00     34310\n",
      "weighted avg       1.00      1.00      1.00     34310\n",
      "\n",
      "\n",
      "\n"
     ]
    },
    {
     "name": "stderr",
     "output_type": "stream",
     "text": [
      "/tmp/ipykernel_12113/3989400141.py:23: FutureWarning: The frame.append method is deprecated and will be removed from pandas in a future version. Use pandas.concat instead.\n",
      "  model_comparison = model_comparison.append({\"Model\": name, \"Accuracy\": accuracy, \"F1 Score\": f1}, ignore_index=True)\n"
     ]
    },
    {
     "name": "stdout",
     "output_type": "stream",
     "text": [
      "Random Forest:\n",
      "Accuracy: 1.0\n",
      "F1 score: 1.0\n",
      "              precision    recall  f1-score   support\n",
      "\n",
      "           0       1.00      1.00      1.00      4310\n",
      "           1       1.00      1.00      1.00     30000\n",
      "\n",
      "    accuracy                           1.00     34310\n",
      "   macro avg       1.00      1.00      1.00     34310\n",
      "weighted avg       1.00      1.00      1.00     34310\n",
      "\n",
      "\n",
      "\n",
      "Support Vector Machine:\n",
      "Accuracy: 0.9996793937627514\n",
      "F1 score: 0.999679568670891\n",
      "              precision    recall  f1-score   support\n",
      "\n",
      "           0       1.00      1.00      1.00      4310\n",
      "           1       1.00      1.00      1.00     30000\n",
      "\n",
      "    accuracy                           1.00     34310\n",
      "   macro avg       1.00      1.00      1.00     34310\n",
      "weighted avg       1.00      1.00      1.00     34310\n",
      "\n",
      "\n",
      "\n"
     ]
    },
    {
     "name": "stderr",
     "output_type": "stream",
     "text": [
      "/tmp/ipykernel_12113/3989400141.py:23: FutureWarning: The frame.append method is deprecated and will be removed from pandas in a future version. Use pandas.concat instead.\n",
      "  model_comparison = model_comparison.append({\"Model\": name, \"Accuracy\": accuracy, \"F1 Score\": f1}, ignore_index=True)\n"
     ]
    },
    {
     "data": {
      "text/html": [
       "<div>\n",
       "<style scoped>\n",
       "    .dataframe tbody tr th:only-of-type {\n",
       "        vertical-align: middle;\n",
       "    }\n",
       "\n",
       "    .dataframe tbody tr th {\n",
       "        vertical-align: top;\n",
       "    }\n",
       "\n",
       "    .dataframe thead th {\n",
       "        text-align: right;\n",
       "    }\n",
       "</style>\n",
       "<table border=\"1\" class=\"dataframe\">\n",
       "  <thead>\n",
       "    <tr style=\"text-align: right;\">\n",
       "      <th></th>\n",
       "      <th>Model</th>\n",
       "      <th>Accuracy</th>\n",
       "      <th>F1 Score</th>\n",
       "    </tr>\n",
       "  </thead>\n",
       "  <tbody>\n",
       "    <tr>\n",
       "      <th>0</th>\n",
       "      <td>Logistic Regression</td>\n",
       "      <td>0.998339</td>\n",
       "      <td>0.998339</td>\n",
       "    </tr>\n",
       "    <tr>\n",
       "      <th>1</th>\n",
       "      <td>Random Forest</td>\n",
       "      <td>1.000000</td>\n",
       "      <td>1.000000</td>\n",
       "    </tr>\n",
       "    <tr>\n",
       "      <th>2</th>\n",
       "      <td>Support Vector Machine</td>\n",
       "      <td>0.999679</td>\n",
       "      <td>0.999680</td>\n",
       "    </tr>\n",
       "  </tbody>\n",
       "</table>\n",
       "</div>"
      ],
      "text/plain": [
       "                    Model  Accuracy  F1 Score\n",
       "0     Logistic Regression  0.998339  0.998339\n",
       "1           Random Forest  1.000000  1.000000\n",
       "2  Support Vector Machine  0.999679  0.999680"
      ]
     },
     "execution_count": 36,
     "metadata": {},
     "output_type": "execute_result"
    }
   ],
   "source": [
    "import pandas as pd\n",
    "from sklearn.metrics import accuracy_score, f1_score, classification_report\n",
    "\n",
    "# Create an empty DataFrame with the desired columns\n",
    "model_comparison = pd.DataFrame(columns=[\"Model\", \"Accuracy\", \"F1 Score\"])\n",
    "\n",
    "# Train and evaluate machine learning models\n",
    "models = {\n",
    "    \"Logistic Regression\": LogisticRegression(max_iter=1000),\n",
    "    \"Random Forest\": RandomForestClassifier(),\n",
    "    \"Support Vector Machine\": SVC()\n",
    "}\n",
    "\n",
    "for name, model in models.items():\n",
    "    model.fit(X_train, y_train)\n",
    "    y_pred = model.predict(X_test)\n",
    "\n",
    "    # Calculate metrics\n",
    "    accuracy = accuracy_score(y_test, y_pred)\n",
    "    f1 = f1_score(y_test, y_pred, average='weighted')\n",
    "\n",
    "    # Append the metrics to the DataFrame\n",
    "    model_comparison = model_comparison.append({\"Model\": name, \"Accuracy\": accuracy, \"F1 Score\": f1}, ignore_index=True)\n",
    "\n",
    "    print(f\"{name}:\")\n",
    "    print(f\"Accuracy: {accuracy}\")\n",
    "    print(f\"F1 score: {f1}\")\n",
    "    print(classification_report(y_test, y_pred))\n",
    "    print(\"\\n\")\n",
    "\n",
    "# Display the comparison DataFrame\n",
    "model_comparison"
   ]
  },
  {
   "cell_type": "code",
   "execution_count": 37,
   "metadata": {
    "colab": {
     "base_uri": "https://localhost:8080/",
     "height": 424
    },
    "executionInfo": {
     "elapsed": 23,
     "status": "ok",
     "timestamp": 1699952436557,
     "user": {
      "displayName": "Farog Fayz",
      "userId": "10363686322394617612"
     },
     "user_tz": -120
    },
    "id": "T-BFrAk1k8GR",
    "outputId": "1e8efaf4-24e8-48ec-beb8-70e6effee121"
   },
   "outputs": [
    {
     "data": {
      "text/html": [
       "<div>\n",
       "<style scoped>\n",
       "    .dataframe tbody tr th:only-of-type {\n",
       "        vertical-align: middle;\n",
       "    }\n",
       "\n",
       "    .dataframe tbody tr th {\n",
       "        vertical-align: top;\n",
       "    }\n",
       "\n",
       "    .dataframe thead th {\n",
       "        text-align: right;\n",
       "    }\n",
       "</style>\n",
       "<table border=\"1\" class=\"dataframe\">\n",
       "  <thead>\n",
       "    <tr style=\"text-align: right;\">\n",
       "      <th></th>\n",
       "      <th>Feature</th>\n",
       "      <th>Importance</th>\n",
       "    </tr>\n",
       "  </thead>\n",
       "  <tbody>\n",
       "    <tr>\n",
       "      <th>0</th>\n",
       "      <td>Source IP</td>\n",
       "      <td>1.365988e-01</td>\n",
       "    </tr>\n",
       "    <tr>\n",
       "      <th>12</th>\n",
       "      <td>Fwd Packet Length Min</td>\n",
       "      <td>1.231258e-01</td>\n",
       "    </tr>\n",
       "    <tr>\n",
       "      <th>43</th>\n",
       "      <td>Min Packet Length</td>\n",
       "      <td>1.111931e-01</td>\n",
       "    </tr>\n",
       "    <tr>\n",
       "      <th>57</th>\n",
       "      <td>Average Packet Size</td>\n",
       "      <td>8.678500e-02</td>\n",
       "    </tr>\n",
       "    <tr>\n",
       "      <th>2</th>\n",
       "      <td>Destination IP</td>\n",
       "      <td>6.994691e-02</td>\n",
       "    </tr>\n",
       "    <tr>\n",
       "      <th>...</th>\n",
       "      <td>...</td>\n",
       "      <td>...</td>\n",
       "    </tr>\n",
       "    <tr>\n",
       "      <th>79</th>\n",
       "      <td>Idle Mean</td>\n",
       "      <td>2.519354e-05</td>\n",
       "    </tr>\n",
       "    <tr>\n",
       "      <th>49</th>\n",
       "      <td>SYN Flag Count</td>\n",
       "      <td>6.872808e-06</td>\n",
       "    </tr>\n",
       "    <tr>\n",
       "      <th>76</th>\n",
       "      <td>Active Std</td>\n",
       "      <td>5.945668e-06</td>\n",
       "    </tr>\n",
       "    <tr>\n",
       "      <th>39</th>\n",
       "      <td>Fwd Header Length</td>\n",
       "      <td>1.727363e-06</td>\n",
       "    </tr>\n",
       "    <tr>\n",
       "      <th>60</th>\n",
       "      <td>Fwd Header Length.1</td>\n",
       "      <td>2.815002e-10</td>\n",
       "    </tr>\n",
       "  </tbody>\n",
       "</table>\n",
       "<p>71 rows × 2 columns</p>\n",
       "</div>"
      ],
      "text/plain": [
       "                   Feature    Importance\n",
       "0                Source IP  1.365988e-01\n",
       "12   Fwd Packet Length Min  1.231258e-01\n",
       "43       Min Packet Length  1.111931e-01\n",
       "57     Average Packet Size  8.678500e-02\n",
       "2           Destination IP  6.994691e-02\n",
       "..                     ...           ...\n",
       "79               Idle Mean  2.519354e-05\n",
       "49          SYN Flag Count  6.872808e-06\n",
       "76              Active Std  5.945668e-06\n",
       "39       Fwd Header Length  1.727363e-06\n",
       "60     Fwd Header Length.1  2.815002e-10\n",
       "\n",
       "[71 rows x 2 columns]"
      ]
     },
     "execution_count": 37,
     "metadata": {},
     "output_type": "execute_result"
    }
   ],
   "source": [
    "feature_columns = X.columns\n",
    "\n",
    "# Get the Random Forest model from the 'models' dictionary\n",
    "random_forest_model = models['Random Forest']\n",
    "\n",
    "# Get feature importances\n",
    "importances = random_forest_model.feature_importances_\n",
    "\n",
    "# Create a DataFrame with the feature names and their corresponding importances\n",
    "feature_importances = pd.DataFrame({'Feature': feature_columns, 'Importance': importances})\n",
    "\n",
    "# Sort the DataFrame by importance in descending order\n",
    "feature_importances = feature_importances.sort_values(by='Importance', ascending=False)\n",
    "\n",
    "# Display the feature importances DataFrame\n",
    "# Filter the DataFrame to show only features with non-zero importance\n",
    "non_zero_importances = feature_importances[feature_importances['Importance'] > 0]\n",
    "\n",
    "# Display the filtered DataFrame\n",
    "non_zero_importances\n"
   ]
  },
  {
   "cell_type": "code",
   "execution_count": 38,
   "metadata": {
    "colab": {
     "base_uri": "https://localhost:8080/",
     "height": 333
    },
    "executionInfo": {
     "elapsed": 458,
     "status": "ok",
     "timestamp": 1699952436996,
     "user": {
      "displayName": "Farog Fayz",
      "userId": "10363686322394617612"
     },
     "user_tz": -120
    },
    "id": "Rp7wReGM1cJO",
    "outputId": "45ce681b-6895-4a2f-e606-da3ece2aca67"
   },
   "outputs": [
    {
     "data": {
      "image/png": "[encoded data removed]",
      "text/plain": [
       "<Figure size 500x300 with 2 Axes>"
      ]
     },
     "metadata": {},
     "output_type": "display_data"
    }
   ],
   "source": [
    "import seaborn as sns\n",
    "import matplotlib.pyplot as plt\n",
    "from sklearn.metrics import confusion_matrix\n",
    "\n",
    "# Choose the model you want to use, for example, Random Forest\n",
    "model = models[\"Random Forest\"]\n",
    "y_pred = model.predict(X_test)\n",
    "\n",
    "# Calculate the confusion matrix\n",
    "cm = confusion_matrix(y_test, y_pred)\n",
    "\n",
    "# Plot the confusion matrix using seaborn's heatmap\n",
    "plt.figure(figsize=(5, 3))\n",
    "sns.heatmap(cm, annot=True, fmt=\".2f\", cmap=\"Blues\", xticklabels=[\"0\", \"1\"], yticklabels=[\"0\", \"1\"])\n",
    "plt.ylabel(\"True label\")\n",
    "plt.xlabel(\"Predicted label\")\n",
    "plt.title(\"Confusion Matrix - Random Forest\")\n",
    "plt.show()\n"
   ]
  },
  {
   "cell_type": "code",
   "execution_count": null,
   "metadata": {
    "id": "o4Ygo0ir2yq5"
   },
   "outputs": [],
   "source": []
  }
 ],
 "metadata": {
  "colab": {
   "provenance": []
  },
  "kernelspec": {
   "display_name": "conda_tensorflow2_p310",
   "language": "python",
   "name": "conda_tensorflow2_p310"
  },
  "language_info": {
   "codemirror_mode": {
    "name": "ipython",
    "version": 3
   },
   "file_extension": ".py",
   "mimetype": "text/x-python",
   "name": "python",
   "nbconvert_exporter": "python",
   "pygments_lexer": "ipython3",
   "version": "3.10.13"
  }
 },
 "nbformat": 4,
 "nbformat_minor": 4
}
