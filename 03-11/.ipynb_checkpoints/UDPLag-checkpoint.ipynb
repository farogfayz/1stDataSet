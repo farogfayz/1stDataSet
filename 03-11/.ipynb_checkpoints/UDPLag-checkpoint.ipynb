{
 "cells": [
  {
   "cell_type": "code",
   "execution_count": 1,
   "metadata": {
    "colab": {
     "base_uri": "https://localhost:8080/",
     "height": 413
    },
    "executionInfo": {
     "elapsed": 5761,
     "status": "ok",
     "timestamp": 1699952396036,
     "user": {
      "displayName": "Farog Fayz",
      "userId": "10363686322394617612"
     },
     "user_tz": -120
    },
    "id": "LNyyzTo2bpi7",
    "outputId": "30ed1713-c0fa-4e2e-938e-a59274e24b37",
    "tags": []
   },
   "outputs": [
    {
     "name": "stderr",
     "output_type": "stream",
     "text": [
      "/tmp/ipykernel_8772/1089132998.py:4: DtypeWarning: Columns (85) have mixed types. Specify dtype option on import or set low_memory=False.\n",
      "  data = pd.read_csv('https://1stdataset.s3.us-east-2.amazonaws.com/CSVs/CSV-03-11/03-11/UDPLag.csv')\n"
     ]
    },
    {
     "data": {
      "text/html": [
       "<div>\n",
       "<style scoped>\n",
       "    .dataframe tbody tr th:only-of-type {\n",
       "        vertical-align: middle;\n",
       "    }\n",
       "\n",
       "    .dataframe tbody tr th {\n",
       "        vertical-align: top;\n",
       "    }\n",
       "\n",
       "    .dataframe thead th {\n",
       "        text-align: right;\n",
       "    }\n",
       "</style>\n",
       "<table border=\"1\" class=\"dataframe\">\n",
       "  <thead>\n",
       "    <tr style=\"text-align: right;\">\n",
       "      <th></th>\n",
       "      <th>Unnamed: 0</th>\n",
       "      <th>Flow ID</th>\n",
       "      <th>Source IP</th>\n",
       "      <th>Source Port</th>\n",
       "      <th>Destination IP</th>\n",
       "      <th>Destination Port</th>\n",
       "      <th>Protocol</th>\n",
       "      <th>Timestamp</th>\n",
       "      <th>Flow Duration</th>\n",
       "      <th>Total Fwd Packets</th>\n",
       "      <th>...</th>\n",
       "      <th>Active Std</th>\n",
       "      <th>Active Max</th>\n",
       "      <th>Active Min</th>\n",
       "      <th>Idle Mean</th>\n",
       "      <th>Idle Std</th>\n",
       "      <th>Idle Max</th>\n",
       "      <th>Idle Min</th>\n",
       "      <th>SimillarHTTP</th>\n",
       "      <th>Inbound</th>\n",
       "      <th>Label</th>\n",
       "    </tr>\n",
       "  </thead>\n",
       "  <tbody>\n",
       "    <tr>\n",
       "      <th>0</th>\n",
       "      <td>50880</td>\n",
       "      <td>172.16.0.5-192.168.50.4-35468-49856-17</td>\n",
       "      <td>172.16.0.5</td>\n",
       "      <td>35468</td>\n",
       "      <td>192.168.50.4</td>\n",
       "      <td>49856</td>\n",
       "      <td>17</td>\n",
       "      <td>2018-11-03 11:01:43.652742</td>\n",
       "      <td>47</td>\n",
       "      <td>2</td>\n",
       "      <td>...</td>\n",
       "      <td>0.0</td>\n",
       "      <td>0.0</td>\n",
       "      <td>0.0</td>\n",
       "      <td>0.0</td>\n",
       "      <td>0.0</td>\n",
       "      <td>0.0</td>\n",
       "      <td>0.0</td>\n",
       "      <td>0</td>\n",
       "      <td>1</td>\n",
       "      <td>UDP</td>\n",
       "    </tr>\n",
       "    <tr>\n",
       "      <th>1</th>\n",
       "      <td>83164</td>\n",
       "      <td>172.16.0.5-192.168.50.4-44167-44225-17</td>\n",
       "      <td>172.16.0.5</td>\n",
       "      <td>44167</td>\n",
       "      <td>192.168.50.4</td>\n",
       "      <td>44225</td>\n",
       "      <td>17</td>\n",
       "      <td>2018-11-03 11:01:43.653107</td>\n",
       "      <td>2</td>\n",
       "      <td>2</td>\n",
       "      <td>...</td>\n",
       "      <td>0.0</td>\n",
       "      <td>0.0</td>\n",
       "      <td>0.0</td>\n",
       "      <td>0.0</td>\n",
       "      <td>0.0</td>\n",
       "      <td>0.0</td>\n",
       "      <td>0.0</td>\n",
       "      <td>0</td>\n",
       "      <td>1</td>\n",
       "      <td>UDP</td>\n",
       "    </tr>\n",
       "    <tr>\n",
       "      <th>2</th>\n",
       "      <td>49389</td>\n",
       "      <td>172.16.0.5-192.168.50.4-36215-28771-17</td>\n",
       "      <td>172.16.0.5</td>\n",
       "      <td>36215</td>\n",
       "      <td>192.168.50.4</td>\n",
       "      <td>28771</td>\n",
       "      <td>17</td>\n",
       "      <td>2018-11-03 11:01:43.653383</td>\n",
       "      <td>2</td>\n",
       "      <td>2</td>\n",
       "      <td>...</td>\n",
       "      <td>0.0</td>\n",
       "      <td>0.0</td>\n",
       "      <td>0.0</td>\n",
       "      <td>0.0</td>\n",
       "      <td>0.0</td>\n",
       "      <td>0.0</td>\n",
       "      <td>0.0</td>\n",
       "      <td>0</td>\n",
       "      <td>1</td>\n",
       "      <td>UDP</td>\n",
       "    </tr>\n",
       "    <tr>\n",
       "      <th>3</th>\n",
       "      <td>34687</td>\n",
       "      <td>172.16.0.5-192.168.50.4-44168-43679-17</td>\n",
       "      <td>172.16.0.5</td>\n",
       "      <td>44168</td>\n",
       "      <td>192.168.50.4</td>\n",
       "      <td>43679</td>\n",
       "      <td>17</td>\n",
       "      <td>2018-11-03 11:01:43.653386</td>\n",
       "      <td>2</td>\n",
       "      <td>2</td>\n",
       "      <td>...</td>\n",
       "      <td>0.0</td>\n",
       "      <td>0.0</td>\n",
       "      <td>0.0</td>\n",
       "      <td>0.0</td>\n",
       "      <td>0.0</td>\n",
       "      <td>0.0</td>\n",
       "      <td>0.0</td>\n",
       "      <td>0</td>\n",
       "      <td>1</td>\n",
       "      <td>UDP</td>\n",
       "    </tr>\n",
       "    <tr>\n",
       "      <th>4</th>\n",
       "      <td>87466</td>\n",
       "      <td>172.16.0.5-192.168.50.4-52334-44960-17</td>\n",
       "      <td>172.16.0.5</td>\n",
       "      <td>52334</td>\n",
       "      <td>192.168.50.4</td>\n",
       "      <td>44960</td>\n",
       "      <td>17</td>\n",
       "      <td>2018-11-03 11:01:43.653387</td>\n",
       "      <td>880701</td>\n",
       "      <td>18</td>\n",
       "      <td>...</td>\n",
       "      <td>0.0</td>\n",
       "      <td>0.0</td>\n",
       "      <td>0.0</td>\n",
       "      <td>0.0</td>\n",
       "      <td>0.0</td>\n",
       "      <td>0.0</td>\n",
       "      <td>0.0</td>\n",
       "      <td>0</td>\n",
       "      <td>1</td>\n",
       "      <td>UDP</td>\n",
       "    </tr>\n",
       "  </tbody>\n",
       "</table>\n",
       "<p>5 rows × 88 columns</p>\n",
       "</div>"
      ],
      "text/plain": [
       "   Unnamed: 0                                 Flow ID   Source IP  \\\n",
       "0       50880  172.16.0.5-192.168.50.4-35468-49856-17  172.16.0.5   \n",
       "1       83164  172.16.0.5-192.168.50.4-44167-44225-17  172.16.0.5   \n",
       "2       49389  172.16.0.5-192.168.50.4-36215-28771-17  172.16.0.5   \n",
       "3       34687  172.16.0.5-192.168.50.4-44168-43679-17  172.16.0.5   \n",
       "4       87466  172.16.0.5-192.168.50.4-52334-44960-17  172.16.0.5   \n",
       "\n",
       "    Source Port  Destination IP   Destination Port   Protocol  \\\n",
       "0         35468    192.168.50.4              49856         17   \n",
       "1         44167    192.168.50.4              44225         17   \n",
       "2         36215    192.168.50.4              28771         17   \n",
       "3         44168    192.168.50.4              43679         17   \n",
       "4         52334    192.168.50.4              44960         17   \n",
       "\n",
       "                    Timestamp   Flow Duration   Total Fwd Packets  ...  \\\n",
       "0  2018-11-03 11:01:43.652742              47                   2  ...   \n",
       "1  2018-11-03 11:01:43.653107               2                   2  ...   \n",
       "2  2018-11-03 11:01:43.653383               2                   2  ...   \n",
       "3  2018-11-03 11:01:43.653386               2                   2  ...   \n",
       "4  2018-11-03 11:01:43.653387          880701                  18  ...   \n",
       "\n",
       "    Active Std   Active Max   Active Min  Idle Mean   Idle Std   Idle Max  \\\n",
       "0          0.0          0.0          0.0        0.0        0.0        0.0   \n",
       "1          0.0          0.0          0.0        0.0        0.0        0.0   \n",
       "2          0.0          0.0          0.0        0.0        0.0        0.0   \n",
       "3          0.0          0.0          0.0        0.0        0.0        0.0   \n",
       "4          0.0          0.0          0.0        0.0        0.0        0.0   \n",
       "\n",
       "    Idle Min  SimillarHTTP   Inbound   Label  \n",
       "0        0.0             0         1     UDP  \n",
       "1        0.0             0         1     UDP  \n",
       "2        0.0             0         1     UDP  \n",
       "3        0.0             0         1     UDP  \n",
       "4        0.0             0         1     UDP  \n",
       "\n",
       "[5 rows x 88 columns]"
      ]
     },
     "execution_count": 1,
     "metadata": {},
     "output_type": "execute_result"
    }
   ],
   "source": [
    "# @title\n",
    "import pandas as pd\n",
    "\n",
    "data = pd.read_csv('https://1stdataset.s3.us-east-2.amazonaws.com/CSVs/CSV-03-11/03-11/UDPLag.csv')\n",
    "data.head()"
   ]
  },
  {
   "cell_type": "code",
   "execution_count": 2,
   "metadata": {
    "colab": {
     "base_uri": "https://localhost:8080/"
    },
    "executionInfo": {
     "elapsed": 791,
     "status": "ok",
     "timestamp": 1699952396816,
     "user": {
      "displayName": "Farog Fayz",
      "userId": "10363686322394617612"
     },
     "user_tz": -120
    },
    "id": "ePTb3VxodcUB",
    "outputId": "268eaa3e-e351-4aa3-a10c-b9c24eb434d5"
   },
   "outputs": [
    {
     "name": "stdout",
     "output_type": "stream",
     "text": [
      "<class 'pandas.core.frame.DataFrame'>\n",
      "RangeIndex: 725165 entries, 0 to 725164\n",
      "Data columns (total 88 columns):\n",
      " #   Column                        Non-Null Count   Dtype  \n",
      "---  ------                        --------------   -----  \n",
      " 0   Unnamed: 0                    725165 non-null  int64  \n",
      " 1   Flow ID                       725165 non-null  object \n",
      " 2    Source IP                    725165 non-null  object \n",
      " 3    Source Port                  725165 non-null  int64  \n",
      " 4    Destination IP               725165 non-null  object \n",
      " 5    Destination Port             725165 non-null  int64  \n",
      " 6    Protocol                     725165 non-null  int64  \n",
      " 7    Timestamp                    725165 non-null  object \n",
      " 8    Flow Duration                725165 non-null  int64  \n",
      " 9    Total Fwd Packets            725165 non-null  int64  \n",
      " 10   Total Backward Packets       725165 non-null  int64  \n",
      " 11  Total Length of Fwd Packets   725165 non-null  float64\n",
      " 12   Total Length of Bwd Packets  725165 non-null  float64\n",
      " 13   Fwd Packet Length Max        725165 non-null  float64\n",
      " 14   Fwd Packet Length Min        725165 non-null  float64\n",
      " 15   Fwd Packet Length Mean       725165 non-null  float64\n",
      " 16   Fwd Packet Length Std        725165 non-null  float64\n",
      " 17  Bwd Packet Length Max         725165 non-null  float64\n",
      " 18   Bwd Packet Length Min        725165 non-null  float64\n",
      " 19   Bwd Packet Length Mean       725165 non-null  float64\n",
      " 20   Bwd Packet Length Std        725165 non-null  float64\n",
      " 21  Flow Bytes/s                  725162 non-null  float64\n",
      " 22   Flow Packets/s               725165 non-null  float64\n",
      " 23   Flow IAT Mean                725165 non-null  float64\n",
      " 24   Flow IAT Std                 725165 non-null  float64\n",
      " 25   Flow IAT Max                 725165 non-null  float64\n",
      " 26   Flow IAT Min                 725165 non-null  float64\n",
      " 27  Fwd IAT Total                 725165 non-null  float64\n",
      " 28   Fwd IAT Mean                 725165 non-null  float64\n",
      " 29   Fwd IAT Std                  725165 non-null  float64\n",
      " 30   Fwd IAT Max                  725165 non-null  float64\n",
      " 31   Fwd IAT Min                  725165 non-null  float64\n",
      " 32  Bwd IAT Total                 725165 non-null  float64\n",
      " 33   Bwd IAT Mean                 725165 non-null  float64\n",
      " 34   Bwd IAT Std                  725165 non-null  float64\n",
      " 35   Bwd IAT Max                  725165 non-null  float64\n",
      " 36   Bwd IAT Min                  725165 non-null  float64\n",
      " 37  Fwd PSH Flags                 725165 non-null  int64  \n",
      " 38   Bwd PSH Flags                725165 non-null  int64  \n",
      " 39   Fwd URG Flags                725165 non-null  int64  \n",
      " 40   Bwd URG Flags                725165 non-null  int64  \n",
      " 41   Fwd Header Length            725165 non-null  int64  \n",
      " 42   Bwd Header Length            725165 non-null  int64  \n",
      " 43  Fwd Packets/s                 725165 non-null  float64\n",
      " 44   Bwd Packets/s                725165 non-null  float64\n",
      " 45   Min Packet Length            725165 non-null  float64\n",
      " 46   Max Packet Length            725165 non-null  float64\n",
      " 47   Packet Length Mean           725165 non-null  float64\n",
      " 48   Packet Length Std            725165 non-null  float64\n",
      " 49   Packet Length Variance       725165 non-null  float64\n",
      " 50  FIN Flag Count                725165 non-null  int64  \n",
      " 51   SYN Flag Count               725165 non-null  int64  \n",
      " 52   RST Flag Count               725165 non-null  int64  \n",
      " 53   PSH Flag Count               725165 non-null  int64  \n",
      " 54   ACK Flag Count               725165 non-null  int64  \n",
      " 55   URG Flag Count               725165 non-null  int64  \n",
      " 56   CWE Flag Count               725165 non-null  int64  \n",
      " 57   ECE Flag Count               725165 non-null  int64  \n",
      " 58   Down/Up Ratio                725165 non-null  float64\n",
      " 59   Average Packet Size          725165 non-null  float64\n",
      " 60   Avg Fwd Segment Size         725165 non-null  float64\n",
      " 61   Avg Bwd Segment Size         725165 non-null  float64\n",
      " 62   Fwd Header Length.1          725165 non-null  int64  \n",
      " 63  Fwd Avg Bytes/Bulk            725165 non-null  int64  \n",
      " 64   Fwd Avg Packets/Bulk         725165 non-null  int64  \n",
      " 65   Fwd Avg Bulk Rate            725165 non-null  int64  \n",
      " 66   Bwd Avg Bytes/Bulk           725165 non-null  int64  \n",
      " 67   Bwd Avg Packets/Bulk         725165 non-null  int64  \n",
      " 68  Bwd Avg Bulk Rate             725165 non-null  int64  \n",
      " 69  Subflow Fwd Packets           725165 non-null  int64  \n",
      " 70   Subflow Fwd Bytes            725165 non-null  int64  \n",
      " 71   Subflow Bwd Packets          725165 non-null  int64  \n",
      " 72   Subflow Bwd Bytes            725165 non-null  int64  \n",
      " 73  Init_Win_bytes_forward        725165 non-null  int64  \n",
      " 74   Init_Win_bytes_backward      725165 non-null  int64  \n",
      " 75   act_data_pkt_fwd             725165 non-null  int64  \n",
      " 76   min_seg_size_forward         725165 non-null  int64  \n",
      " 77  Active Mean                   725165 non-null  float64\n",
      " 78   Active Std                   725165 non-null  float64\n",
      " 79   Active Max                   725165 non-null  float64\n",
      " 80   Active Min                   725165 non-null  float64\n",
      " 81  Idle Mean                     725165 non-null  float64\n",
      " 82   Idle Std                     725165 non-null  float64\n",
      " 83   Idle Max                     725165 non-null  float64\n",
      " 84   Idle Min                     725165 non-null  float64\n",
      " 85  SimillarHTTP                  725165 non-null  object \n",
      " 86   Inbound                      725165 non-null  int64  \n",
      " 87   Label                        725165 non-null  object \n",
      "dtypes: float64(45), int64(37), object(6)\n",
      "memory usage: 486.9+ MB\n"
     ]
    }
   ],
   "source": [
    "data.info()"
   ]
  },
  {
   "cell_type": "code",
   "execution_count": 3,
   "metadata": {
    "colab": {
     "base_uri": "https://localhost:8080/",
     "height": 290
    },
    "executionInfo": {
     "elapsed": 2858,
     "status": "ok",
     "timestamp": 1699952399668,
     "user": {
      "displayName": "Farog Fayz",
      "userId": "10363686322394617612"
     },
     "user_tz": -120
    },
    "id": "Z-GfV_NTdvRu",
    "outputId": "47175fbf-66a9-412b-c97a-165948efb106"
   },
   "outputs": [
    {
     "data": {
      "text/html": [
       "<div>\n",
       "<style scoped>\n",
       "    .dataframe tbody tr th:only-of-type {\n",
       "        vertical-align: middle;\n",
       "    }\n",
       "\n",
       "    .dataframe tbody tr th {\n",
       "        vertical-align: top;\n",
       "    }\n",
       "\n",
       "    .dataframe thead th {\n",
       "        text-align: right;\n",
       "    }\n",
       "</style>\n",
       "<table border=\"1\" class=\"dataframe\">\n",
       "  <thead>\n",
       "    <tr style=\"text-align: right;\">\n",
       "      <th></th>\n",
       "      <th>Unnamed: 0</th>\n",
       "      <th>Flow ID</th>\n",
       "      <th>Source IP</th>\n",
       "      <th>Source Port</th>\n",
       "      <th>Destination IP</th>\n",
       "      <th>Destination Port</th>\n",
       "      <th>Protocol</th>\n",
       "      <th>Timestamp</th>\n",
       "      <th>Flow Duration</th>\n",
       "      <th>Total Fwd Packets</th>\n",
       "      <th>...</th>\n",
       "      <th>Active Std</th>\n",
       "      <th>Active Max</th>\n",
       "      <th>Active Min</th>\n",
       "      <th>Idle Mean</th>\n",
       "      <th>Idle Std</th>\n",
       "      <th>Idle Max</th>\n",
       "      <th>Idle Min</th>\n",
       "      <th>SimillarHTTP</th>\n",
       "      <th>Inbound</th>\n",
       "      <th>Label</th>\n",
       "    </tr>\n",
       "  </thead>\n",
       "  <tbody>\n",
       "    <tr>\n",
       "      <th>0</th>\n",
       "      <td>50880</td>\n",
       "      <td>172.16.0.5-192.168.50.4-35468-49856-17</td>\n",
       "      <td>38</td>\n",
       "      <td>35468</td>\n",
       "      <td>111</td>\n",
       "      <td>49856</td>\n",
       "      <td>17</td>\n",
       "      <td>1541242903652742000</td>\n",
       "      <td>47</td>\n",
       "      <td>2</td>\n",
       "      <td>...</td>\n",
       "      <td>0.0</td>\n",
       "      <td>0.0</td>\n",
       "      <td>0.0</td>\n",
       "      <td>0.0</td>\n",
       "      <td>0.0</td>\n",
       "      <td>0.0</td>\n",
       "      <td>0.0</td>\n",
       "      <td>0</td>\n",
       "      <td>1</td>\n",
       "      <td>2</td>\n",
       "    </tr>\n",
       "    <tr>\n",
       "      <th>1</th>\n",
       "      <td>83164</td>\n",
       "      <td>172.16.0.5-192.168.50.4-44167-44225-17</td>\n",
       "      <td>38</td>\n",
       "      <td>44167</td>\n",
       "      <td>111</td>\n",
       "      <td>44225</td>\n",
       "      <td>17</td>\n",
       "      <td>1541242903653107000</td>\n",
       "      <td>2</td>\n",
       "      <td>2</td>\n",
       "      <td>...</td>\n",
       "      <td>0.0</td>\n",
       "      <td>0.0</td>\n",
       "      <td>0.0</td>\n",
       "      <td>0.0</td>\n",
       "      <td>0.0</td>\n",
       "      <td>0.0</td>\n",
       "      <td>0.0</td>\n",
       "      <td>0</td>\n",
       "      <td>1</td>\n",
       "      <td>2</td>\n",
       "    </tr>\n",
       "    <tr>\n",
       "      <th>2</th>\n",
       "      <td>49389</td>\n",
       "      <td>172.16.0.5-192.168.50.4-36215-28771-17</td>\n",
       "      <td>38</td>\n",
       "      <td>36215</td>\n",
       "      <td>111</td>\n",
       "      <td>28771</td>\n",
       "      <td>17</td>\n",
       "      <td>1541242903653383000</td>\n",
       "      <td>2</td>\n",
       "      <td>2</td>\n",
       "      <td>...</td>\n",
       "      <td>0.0</td>\n",
       "      <td>0.0</td>\n",
       "      <td>0.0</td>\n",
       "      <td>0.0</td>\n",
       "      <td>0.0</td>\n",
       "      <td>0.0</td>\n",
       "      <td>0.0</td>\n",
       "      <td>0</td>\n",
       "      <td>1</td>\n",
       "      <td>2</td>\n",
       "    </tr>\n",
       "    <tr>\n",
       "      <th>3</th>\n",
       "      <td>34687</td>\n",
       "      <td>172.16.0.5-192.168.50.4-44168-43679-17</td>\n",
       "      <td>38</td>\n",
       "      <td>44168</td>\n",
       "      <td>111</td>\n",
       "      <td>43679</td>\n",
       "      <td>17</td>\n",
       "      <td>1541242903653386000</td>\n",
       "      <td>2</td>\n",
       "      <td>2</td>\n",
       "      <td>...</td>\n",
       "      <td>0.0</td>\n",
       "      <td>0.0</td>\n",
       "      <td>0.0</td>\n",
       "      <td>0.0</td>\n",
       "      <td>0.0</td>\n",
       "      <td>0.0</td>\n",
       "      <td>0.0</td>\n",
       "      <td>0</td>\n",
       "      <td>1</td>\n",
       "      <td>2</td>\n",
       "    </tr>\n",
       "    <tr>\n",
       "      <th>4</th>\n",
       "      <td>87466</td>\n",
       "      <td>172.16.0.5-192.168.50.4-52334-44960-17</td>\n",
       "      <td>38</td>\n",
       "      <td>52334</td>\n",
       "      <td>111</td>\n",
       "      <td>44960</td>\n",
       "      <td>17</td>\n",
       "      <td>1541242903653387000</td>\n",
       "      <td>880701</td>\n",
       "      <td>18</td>\n",
       "      <td>...</td>\n",
       "      <td>0.0</td>\n",
       "      <td>0.0</td>\n",
       "      <td>0.0</td>\n",
       "      <td>0.0</td>\n",
       "      <td>0.0</td>\n",
       "      <td>0.0</td>\n",
       "      <td>0.0</td>\n",
       "      <td>0</td>\n",
       "      <td>1</td>\n",
       "      <td>2</td>\n",
       "    </tr>\n",
       "  </tbody>\n",
       "</table>\n",
       "<p>5 rows × 88 columns</p>\n",
       "</div>"
      ],
      "text/plain": [
       "   Unnamed: 0                                 Flow ID   Source IP  \\\n",
       "0       50880  172.16.0.5-192.168.50.4-35468-49856-17          38   \n",
       "1       83164  172.16.0.5-192.168.50.4-44167-44225-17          38   \n",
       "2       49389  172.16.0.5-192.168.50.4-36215-28771-17          38   \n",
       "3       34687  172.16.0.5-192.168.50.4-44168-43679-17          38   \n",
       "4       87466  172.16.0.5-192.168.50.4-52334-44960-17          38   \n",
       "\n",
       "    Source Port   Destination IP   Destination Port   Protocol  \\\n",
       "0         35468              111              49856         17   \n",
       "1         44167              111              44225         17   \n",
       "2         36215              111              28771         17   \n",
       "3         44168              111              43679         17   \n",
       "4         52334              111              44960         17   \n",
       "\n",
       "             Timestamp   Flow Duration   Total Fwd Packets  ...   Active Std  \\\n",
       "0  1541242903652742000              47                   2  ...          0.0   \n",
       "1  1541242903653107000               2                   2  ...          0.0   \n",
       "2  1541242903653383000               2                   2  ...          0.0   \n",
       "3  1541242903653386000               2                   2  ...          0.0   \n",
       "4  1541242903653387000          880701                  18  ...          0.0   \n",
       "\n",
       "    Active Max   Active Min  Idle Mean   Idle Std   Idle Max   Idle Min  \\\n",
       "0          0.0          0.0        0.0        0.0        0.0        0.0   \n",
       "1          0.0          0.0        0.0        0.0        0.0        0.0   \n",
       "2          0.0          0.0        0.0        0.0        0.0        0.0   \n",
       "3          0.0          0.0        0.0        0.0        0.0        0.0   \n",
       "4          0.0          0.0        0.0        0.0        0.0        0.0   \n",
       "\n",
       "   SimillarHTTP   Inbound   Label  \n",
       "0             0         1       2  \n",
       "1             0         1       2  \n",
       "2             0         1       2  \n",
       "3             0         1       2  \n",
       "4             0         1       2  \n",
       "\n",
       "[5 rows x 88 columns]"
      ]
     },
     "execution_count": 3,
     "metadata": {},
     "output_type": "execute_result"
    }
   ],
   "source": [
    "import pandas as pd\n",
    "import numpy as np\n",
    "from sklearn.model_selection import train_test_split\n",
    "from sklearn.preprocessing import StandardScaler, LabelEncoder\n",
    "from sklearn.metrics import classification_report, accuracy_score, f1_score\n",
    "from sklearn.linear_model import LogisticRegression\n",
    "from sklearn.ensemble import RandomForestClassifier\n",
    "from sklearn.svm import SVC\n",
    "#from imblearn.over_sampling import SMOTE\n",
    "\n",
    "\n",
    "# Pre-process the data\n",
    "# Encode categorical features (e.g., IP addresses)\n",
    "encoder = LabelEncoder()\n",
    "data[' Source IP'] = encoder.fit_transform(data[' Source IP'])\n",
    "data[' Destination IP'] = encoder.fit_transform(data[' Destination IP'])\n",
    "data[' Timestamp'] = pd.to_datetime(data[' Timestamp']).astype(np.int64)\n",
    "data[' Label'] = encoder.fit_transform(data[' Label'])\n",
    "data.head()"
   ]
  },
  {
   "cell_type": "code",
   "execution_count": 4,
   "metadata": {
    "colab": {
     "base_uri": "https://localhost:8080/",
     "height": 270
    },
    "executionInfo": {
     "elapsed": 1104,
     "status": "ok",
     "timestamp": 1699952400766,
     "user": {
      "displayName": "Farog Fayz",
      "userId": "10363686322394617612"
     },
     "user_tz": -120
    },
    "id": "wIIMf8inhO42",
    "outputId": "ae89cc88-b699-440e-fa20-aabf7c2220ed"
   },
   "outputs": [
    {
     "data": {
      "text/html": [
       "<div>\n",
       "<style scoped>\n",
       "    .dataframe tbody tr th:only-of-type {\n",
       "        vertical-align: middle;\n",
       "    }\n",
       "\n",
       "    .dataframe tbody tr th {\n",
       "        vertical-align: top;\n",
       "    }\n",
       "\n",
       "    .dataframe thead th {\n",
       "        text-align: right;\n",
       "    }\n",
       "</style>\n",
       "<table border=\"1\" class=\"dataframe\">\n",
       "  <thead>\n",
       "    <tr style=\"text-align: right;\">\n",
       "      <th></th>\n",
       "      <th>Source IP</th>\n",
       "      <th>Source Port</th>\n",
       "      <th>Destination IP</th>\n",
       "      <th>Destination Port</th>\n",
       "      <th>Protocol</th>\n",
       "      <th>Timestamp</th>\n",
       "      <th>Flow Duration</th>\n",
       "      <th>Total Fwd Packets</th>\n",
       "      <th>Total Backward Packets</th>\n",
       "      <th>Total Length of Fwd Packets</th>\n",
       "      <th>...</th>\n",
       "      <th>Active Mean</th>\n",
       "      <th>Active Std</th>\n",
       "      <th>Active Max</th>\n",
       "      <th>Active Min</th>\n",
       "      <th>Idle Mean</th>\n",
       "      <th>Idle Std</th>\n",
       "      <th>Idle Max</th>\n",
       "      <th>Idle Min</th>\n",
       "      <th>Inbound</th>\n",
       "      <th>Label</th>\n",
       "    </tr>\n",
       "  </thead>\n",
       "  <tbody>\n",
       "    <tr>\n",
       "      <th>0</th>\n",
       "      <td>38</td>\n",
       "      <td>47090</td>\n",
       "      <td>111</td>\n",
       "      <td>1553</td>\n",
       "      <td>17</td>\n",
       "      <td>1541242945131811000</td>\n",
       "      <td>212410</td>\n",
       "      <td>6</td>\n",
       "      <td>0</td>\n",
       "      <td>2088.0</td>\n",
       "      <td>...</td>\n",
       "      <td>0.00</td>\n",
       "      <td>0.0</td>\n",
       "      <td>0.0</td>\n",
       "      <td>0.0</td>\n",
       "      <td>0.0</td>\n",
       "      <td>0.000000e+00</td>\n",
       "      <td>0.0</td>\n",
       "      <td>0.0</td>\n",
       "      <td>1</td>\n",
       "      <td>2</td>\n",
       "    </tr>\n",
       "    <tr>\n",
       "      <th>1</th>\n",
       "      <td>38</td>\n",
       "      <td>39710</td>\n",
       "      <td>111</td>\n",
       "      <td>35137</td>\n",
       "      <td>17</td>\n",
       "      <td>1541242913346293000</td>\n",
       "      <td>108937</td>\n",
       "      <td>4</td>\n",
       "      <td>0</td>\n",
       "      <td>1438.0</td>\n",
       "      <td>...</td>\n",
       "      <td>0.00</td>\n",
       "      <td>0.0</td>\n",
       "      <td>0.0</td>\n",
       "      <td>0.0</td>\n",
       "      <td>0.0</td>\n",
       "      <td>0.000000e+00</td>\n",
       "      <td>0.0</td>\n",
       "      <td>0.0</td>\n",
       "      <td>1</td>\n",
       "      <td>2</td>\n",
       "    </tr>\n",
       "    <tr>\n",
       "      <th>2</th>\n",
       "      <td>38</td>\n",
       "      <td>10583</td>\n",
       "      <td>111</td>\n",
       "      <td>33595</td>\n",
       "      <td>6</td>\n",
       "      <td>1541244583300390000</td>\n",
       "      <td>100</td>\n",
       "      <td>2</td>\n",
       "      <td>2</td>\n",
       "      <td>12.0</td>\n",
       "      <td>...</td>\n",
       "      <td>0.00</td>\n",
       "      <td>0.0</td>\n",
       "      <td>0.0</td>\n",
       "      <td>0.0</td>\n",
       "      <td>0.0</td>\n",
       "      <td>0.000000e+00</td>\n",
       "      <td>0.0</td>\n",
       "      <td>0.0</td>\n",
       "      <td>1</td>\n",
       "      <td>1</td>\n",
       "    </tr>\n",
       "    <tr>\n",
       "      <th>3</th>\n",
       "      <td>38</td>\n",
       "      <td>61417</td>\n",
       "      <td>111</td>\n",
       "      <td>2288</td>\n",
       "      <td>6</td>\n",
       "      <td>1541244564120132000</td>\n",
       "      <td>49</td>\n",
       "      <td>2</td>\n",
       "      <td>0</td>\n",
       "      <td>12.0</td>\n",
       "      <td>...</td>\n",
       "      <td>0.00</td>\n",
       "      <td>0.0</td>\n",
       "      <td>0.0</td>\n",
       "      <td>0.0</td>\n",
       "      <td>0.0</td>\n",
       "      <td>0.000000e+00</td>\n",
       "      <td>0.0</td>\n",
       "      <td>0.0</td>\n",
       "      <td>1</td>\n",
       "      <td>1</td>\n",
       "    </tr>\n",
       "    <tr>\n",
       "      <th>4</th>\n",
       "      <td>38</td>\n",
       "      <td>34959</td>\n",
       "      <td>111</td>\n",
       "      <td>34959</td>\n",
       "      <td>6</td>\n",
       "      <td>1541244559236897000</td>\n",
       "      <td>64828462</td>\n",
       "      <td>12</td>\n",
       "      <td>2</td>\n",
       "      <td>72.0</td>\n",
       "      <td>...</td>\n",
       "      <td>26.75</td>\n",
       "      <td>51.5</td>\n",
       "      <td>104.0</td>\n",
       "      <td>1.0</td>\n",
       "      <td>12965670.8</td>\n",
       "      <td>2.287947e+06</td>\n",
       "      <td>14440461.0</td>\n",
       "      <td>9004726.0</td>\n",
       "      <td>1</td>\n",
       "      <td>1</td>\n",
       "    </tr>\n",
       "  </tbody>\n",
       "</table>\n",
       "<p>5 rows × 85 columns</p>\n",
       "</div>"
      ],
      "text/plain": [
       "    Source IP   Source Port   Destination IP   Destination Port   Protocol  \\\n",
       "0          38         47090              111               1553         17   \n",
       "1          38         39710              111              35137         17   \n",
       "2          38         10583              111              33595          6   \n",
       "3          38         61417              111               2288          6   \n",
       "4          38         34959              111              34959          6   \n",
       "\n",
       "             Timestamp   Flow Duration   Total Fwd Packets  \\\n",
       "0  1541242945131811000          212410                   6   \n",
       "1  1541242913346293000          108937                   4   \n",
       "2  1541244583300390000             100                   2   \n",
       "3  1541244564120132000              49                   2   \n",
       "4  1541244559236897000        64828462                  12   \n",
       "\n",
       "    Total Backward Packets  Total Length of Fwd Packets  ...  Active Mean  \\\n",
       "0                        0                       2088.0  ...         0.00   \n",
       "1                        0                       1438.0  ...         0.00   \n",
       "2                        2                         12.0  ...         0.00   \n",
       "3                        0                         12.0  ...         0.00   \n",
       "4                        2                         72.0  ...        26.75   \n",
       "\n",
       "    Active Std   Active Max   Active Min   Idle Mean      Idle Std  \\\n",
       "0          0.0          0.0          0.0         0.0  0.000000e+00   \n",
       "1          0.0          0.0          0.0         0.0  0.000000e+00   \n",
       "2          0.0          0.0          0.0         0.0  0.000000e+00   \n",
       "3          0.0          0.0          0.0         0.0  0.000000e+00   \n",
       "4         51.5        104.0          1.0  12965670.8  2.287947e+06   \n",
       "\n",
       "     Idle Max   Idle Min   Inbound   Label  \n",
       "0         0.0        0.0         1       2  \n",
       "1         0.0        0.0         1       2  \n",
       "2         0.0        0.0         1       1  \n",
       "3         0.0        0.0         1       1  \n",
       "4  14440461.0  9004726.0         1       1  \n",
       "\n",
       "[5 rows x 85 columns]"
      ]
     },
     "execution_count": 4,
     "metadata": {},
     "output_type": "execute_result"
    }
   ],
   "source": [
    "# Drop unnecessary columns in the CVs's\n",
    "try:\n",
    "  data = data.drop(['Unnamed: 0', 'Flow ID', 'SimillarHTTP'], axis=1)\n",
    "except:\n",
    "  print('Columns are dropped already')\n",
    "\n",
    "# Set the desired number of majority class samples\n",
    "num_majority_samples = 100000\n",
    "\n",
    "# Get the minority class label\n",
    "minority_class = data[' Label'].value_counts().idxmin()\n",
    "\n",
    "# Separate majority and minority class samples\n",
    "majority_samples = data[data[' Label'] != minority_class]\n",
    "minority_samples = data[data[' Label'] == minority_class]\n",
    "\n",
    "# Sample the majority class samples\n",
    "majority_samples_sampled = majority_samples.sample(num_majority_samples, random_state=42)\n",
    "\n",
    "# Combine the sampled majority class samples and minority class samples\n",
    "balanced_data = pd.concat([majority_samples_sampled, minority_samples], axis=0)\n",
    "\n",
    "# Shuffle the balanced dataset\n",
    "balanced_data = balanced_data.sample(frac=1, random_state=42).reset_index(drop=True)\n",
    "\n",
    "balanced_data.head()"
   ]
  },
  {
   "cell_type": "code",
   "execution_count": 5,
   "metadata": {
    "colab": {
     "base_uri": "https://localhost:8080/"
    },
    "executionInfo": {
     "elapsed": 28,
     "status": "ok",
     "timestamp": 1699952400767,
     "user": {
      "displayName": "Farog Fayz",
      "userId": "10363686322394617612"
     },
     "user_tz": -120
    },
    "id": "s2F2L7fRilJE",
    "outputId": "74fd2d4e-7dd2-478b-f30f-e115299fb700"
   },
   "outputs": [
    {
     "data": {
      "text/plain": [
       "1    84026\n",
       "2    15402\n",
       "3     1873\n",
       "0      572\n",
       "Name:  Label, dtype: int64"
      ]
     },
     "execution_count": 5,
     "metadata": {},
     "output_type": "execute_result"
    }
   ],
   "source": [
    "balanced_data[' Label'].value_counts()"
   ]
  },
  {
   "cell_type": "code",
   "execution_count": 6,
   "metadata": {
    "colab": {
     "base_uri": "https://localhost:8080/"
    },
    "executionInfo": {
     "elapsed": 23,
     "status": "ok",
     "timestamp": 1699952400768,
     "user": {
      "displayName": "Farog Fayz",
      "userId": "10363686322394617612"
     },
     "user_tz": -120
    },
    "id": "Lf4wpJ_6isxO",
    "outputId": "5c5b720e-10eb-46ba-d20e-fc68e98676d5"
   },
   "outputs": [
    {
     "data": {
      "text/plain": [
       "1    606749\n",
       "2    112475\n",
       "0      4068\n",
       "3      1873\n",
       "Name:  Label, dtype: int64"
      ]
     },
     "execution_count": 6,
     "metadata": {},
     "output_type": "execute_result"
    }
   ],
   "source": [
    "data[' Label'].value_counts()"
   ]
  },
  {
   "cell_type": "code",
   "execution_count": 7,
   "metadata": {
    "colab": {
     "base_uri": "https://localhost:8080/"
    },
    "executionInfo": {
     "elapsed": 22,
     "status": "ok",
     "timestamp": 1699952400770,
     "user": {
      "displayName": "Farog Fayz",
      "userId": "10363686322394617612"
     },
     "user_tz": -120
    },
    "id": "UHppj_hyn6XF",
    "outputId": "3731a4fb-47af-4365-85aa-d1ab847f215c"
   },
   "outputs": [
    {
     "name": "stdout",
     "output_type": "stream",
     "text": [
      "Correlation between 'Inbound' and 'Label': -0.1451403520824017\n"
     ]
    }
   ],
   "source": [
    "import pandas as pd\n",
    "\n",
    "# Assuming your dataset is named 'data'\n",
    "correlation = balanced_data[' Inbound'].corr(balanced_data[' Label'])\n",
    "print(\"Correlation between 'Inbound' and 'Label':\", correlation)\n"
   ]
  },
  {
   "cell_type": "code",
   "execution_count": 8,
   "metadata": {
    "colab": {
     "base_uri": "https://localhost:8080/"
    },
    "executionInfo": {
     "elapsed": 18,
     "status": "ok",
     "timestamp": 1699952400772,
     "user": {
      "displayName": "Farog Fayz",
      "userId": "10363686322394617612"
     },
     "user_tz": -120
    },
    "id": "jk5jvQ4MoOBs",
    "outputId": "87ee3d8f-92e1-4616-9bd3-630d34dc2824"
   },
   "outputs": [
    {
     "data": {
      "text/plain": [
       "1    100740\n",
       "0      1133\n",
       "Name:  Inbound, dtype: int64"
      ]
     },
     "execution_count": 8,
     "metadata": {},
     "output_type": "execute_result"
    }
   ],
   "source": [
    "balanced_data[' Inbound'].value_counts()"
   ]
  },
  {
   "cell_type": "code",
   "execution_count": 9,
   "metadata": {
    "colab": {
     "base_uri": "https://localhost:8080/",
     "height": 564
    },
    "executionInfo": {
     "elapsed": 1016,
     "status": "ok",
     "timestamp": 1699952401773,
     "user": {
      "displayName": "Farog Fayz",
      "userId": "10363686322394617612"
     },
     "user_tz": -120
    },
    "id": "9LWbKuBpp19B",
    "outputId": "596093dd-cf63-4f20-debc-1cc09b475ec8"
   },
   "outputs": [
    {
     "data": {
      "image/png": "[encoded data removed]",
      "text/plain": [
       "<Figure size 1000x600 with 1 Axes>"
      ]
     },
     "metadata": {},
     "output_type": "display_data"
    }
   ],
   "source": [
    "import seaborn as sns\n",
    "import matplotlib.pyplot as plt\n",
    "\n",
    "# Assuming your dataframe is named 'df'\n",
    "plt.figure(figsize=(10, 6))\n",
    "sns.countplot(data=balanced_data, x=' Inbound', hue=' Label')\n",
    "plt.title('Frequency of Inbound with Label as Hue')\n",
    "plt.xlabel('Inbound')\n",
    "plt.ylabel('Count')\n",
    "plt.show()\n"
   ]
  },
  {
   "cell_type": "code",
   "execution_count": 10,
   "metadata": {
    "colab": {
     "base_uri": "https://localhost:8080/",
     "height": 564
    },
    "executionInfo": {
     "elapsed": 550,
     "status": "ok",
     "timestamp": 1699952402310,
     "user": {
      "displayName": "Farog Fayz",
      "userId": "10363686322394617612"
     },
     "user_tz": -120
    },
    "id": "8KipWztuqCCu",
    "outputId": "8a476c3c-a088-4f97-9d49-0869631eb5d0"
   },
   "outputs": [
    {
     "data": {
      "image/png": "[encoded data removed]",
      "text/plain": [
       "<Figure size 1000x600 with 1 Axes>"
      ]
     },
     "metadata": {},
     "output_type": "display_data"
    }
   ],
   "source": [
    "import seaborn as sns\n",
    "import matplotlib.pyplot as plt\n",
    "\n",
    "# Assuming your dataframe is named 'df'\n",
    "plt.figure(figsize=(10, 6))\n",
    "sns.countplot(data=balanced_data, x=' Label', hue=' Inbound')\n",
    "plt.title('Frequency of Label with Inbound as Hue')\n",
    "plt.xlabel('Label')\n",
    "plt.ylabel('Count')\n",
    "plt.show()\n"
   ]
  },
  {
   "cell_type": "code",
   "execution_count": 11,
   "metadata": {
    "colab": {
     "base_uri": "https://localhost:8080/",
     "height": 564
    },
    "executionInfo": {
     "elapsed": 464,
     "status": "ok",
     "timestamp": 1699952402768,
     "user": {
      "displayName": "Farog Fayz",
      "userId": "10363686322394617612"
     },
     "user_tz": -120
    },
    "id": "yoxvG-3cqfCK",
    "outputId": "d54cd82a-a06a-4abd-e432-793197fb43ed"
   },
   "outputs": [
    {
     "data": {
      "image/png": "[encoded data removed]",
      "text/plain": [
       "<Figure size 1000x600 with 1 Axes>"
      ]
     },
     "metadata": {},
     "output_type": "display_data"
    }
   ],
   "source": [
    "import seaborn as sns\n",
    "import matplotlib.pyplot as plt\n",
    "import numpy as np\n",
    "\n",
    "# Assuming your dataframe is named 'df'\n",
    "inbound_label_counts = balanced_data.groupby([' Inbound', ' Label']).size().reset_index(name='Count')\n",
    "total_counts = balanced_data.groupby([' Inbound']).size().reset_index(name='Total_Count')\n",
    "\n",
    "inbound_label_counts = inbound_label_counts.merge(total_counts, on=' Inbound')\n",
    "inbound_label_counts['Percentage'] = (inbound_label_counts['Count'] / inbound_label_counts['Total_Count']) * 100\n",
    "\n",
    "plt.figure(figsize=(10, 6))\n",
    "sns.barplot(data=inbound_label_counts, x=' Inbound', y='Percentage', hue=' Label')\n",
    "plt.title('Frequency of Inbound with Label as Hue (Percentage)')\n",
    "plt.xlabel('Inbound')\n",
    "plt.ylabel('Percentage')\n",
    "plt.show()\n"
   ]
  },
  {
   "cell_type": "code",
   "execution_count": 12,
   "metadata": {
    "colab": {
     "base_uri": "https://localhost:8080/",
     "height": 175
    },
    "executionInfo": {
     "elapsed": 17,
     "status": "ok",
     "timestamp": 1699952402769,
     "user": {
      "displayName": "Farog Fayz",
      "userId": "10363686322394617612"
     },
     "user_tz": -120
    },
    "id": "rjkxk3cLq77X",
    "outputId": "e8367b2e-222e-406f-fe30-fcd4f2e50f5b"
   },
   "outputs": [
    {
     "data": {
      "text/html": [
       "<div>\n",
       "<style scoped>\n",
       "    .dataframe tbody tr th:only-of-type {\n",
       "        vertical-align: middle;\n",
       "    }\n",
       "\n",
       "    .dataframe tbody tr th {\n",
       "        vertical-align: top;\n",
       "    }\n",
       "\n",
       "    .dataframe thead th {\n",
       "        text-align: right;\n",
       "    }\n",
       "</style>\n",
       "<table border=\"1\" class=\"dataframe\">\n",
       "  <thead>\n",
       "    <tr style=\"text-align: right;\">\n",
       "      <th></th>\n",
       "      <th>Inbound</th>\n",
       "      <th>Label</th>\n",
       "      <th>Count</th>\n",
       "      <th>Total_Count</th>\n",
       "      <th>Percentage</th>\n",
       "    </tr>\n",
       "  </thead>\n",
       "  <tbody>\n",
       "    <tr>\n",
       "      <th>0</th>\n",
       "      <td>0</td>\n",
       "      <td>0</td>\n",
       "      <td>433</td>\n",
       "      <td>1133</td>\n",
       "      <td>38.217123</td>\n",
       "    </tr>\n",
       "    <tr>\n",
       "      <th>1</th>\n",
       "      <td>0</td>\n",
       "      <td>1</td>\n",
       "      <td>7</td>\n",
       "      <td>1133</td>\n",
       "      <td>0.617829</td>\n",
       "    </tr>\n",
       "    <tr>\n",
       "      <th>2</th>\n",
       "      <td>0</td>\n",
       "      <td>2</td>\n",
       "      <td>58</td>\n",
       "      <td>1133</td>\n",
       "      <td>5.119153</td>\n",
       "    </tr>\n",
       "    <tr>\n",
       "      <th>3</th>\n",
       "      <td>0</td>\n",
       "      <td>3</td>\n",
       "      <td>635</td>\n",
       "      <td>1133</td>\n",
       "      <td>56.045896</td>\n",
       "    </tr>\n",
       "    <tr>\n",
       "      <th>4</th>\n",
       "      <td>1</td>\n",
       "      <td>0</td>\n",
       "      <td>139</td>\n",
       "      <td>100740</td>\n",
       "      <td>0.137979</td>\n",
       "    </tr>\n",
       "    <tr>\n",
       "      <th>5</th>\n",
       "      <td>1</td>\n",
       "      <td>1</td>\n",
       "      <td>84019</td>\n",
       "      <td>100740</td>\n",
       "      <td>83.401826</td>\n",
       "    </tr>\n",
       "    <tr>\n",
       "      <th>6</th>\n",
       "      <td>1</td>\n",
       "      <td>2</td>\n",
       "      <td>15344</td>\n",
       "      <td>100740</td>\n",
       "      <td>15.231288</td>\n",
       "    </tr>\n",
       "    <tr>\n",
       "      <th>7</th>\n",
       "      <td>1</td>\n",
       "      <td>3</td>\n",
       "      <td>1238</td>\n",
       "      <td>100740</td>\n",
       "      <td>1.228906</td>\n",
       "    </tr>\n",
       "  </tbody>\n",
       "</table>\n",
       "</div>"
      ],
      "text/plain": [
       "    Inbound   Label  Count  Total_Count  Percentage\n",
       "0         0       0    433         1133   38.217123\n",
       "1         0       1      7         1133    0.617829\n",
       "2         0       2     58         1133    5.119153\n",
       "3         0       3    635         1133   56.045896\n",
       "4         1       0    139       100740    0.137979\n",
       "5         1       1  84019       100740   83.401826\n",
       "6         1       2  15344       100740   15.231288\n",
       "7         1       3   1238       100740    1.228906"
      ]
     },
     "execution_count": 12,
     "metadata": {},
     "output_type": "execute_result"
    }
   ],
   "source": [
    "inbound_label_counts"
   ]
  },
  {
   "cell_type": "code",
   "execution_count": 13,
   "metadata": {
    "id": "r02qZDIiffV0"
   },
   "outputs": [],
   "source": [
    "\n",
    "# Split the data into train and test sets\n",
    "X = balanced_data.drop([' Inbound',' Label'], axis=1)\n",
    "y = balanced_data[' Label']\n",
    "X_train, X_test, y_train, y_test = train_test_split(X, y, test_size=0.3,stratify = y, random_state=42)\n",
    "\n"
   ]
  },
  {
   "cell_type": "code",
   "execution_count": 14,
   "metadata": {
    "colab": {
     "base_uri": "https://localhost:8080/"
    },
    "executionInfo": {
     "elapsed": 7,
     "status": "ok",
     "timestamp": 1699952403084,
     "user": {
      "displayName": "Farog Fayz",
      "userId": "10363686322394617612"
     },
     "user_tz": -120
    },
    "id": "Y2vIbHbtgpxl",
    "outputId": "3dd9a303-95dc-4a91-a190-f3894b2728cf"
   },
   "outputs": [
    {
     "data": {
      "text/plain": [
       "1"
      ]
     },
     "execution_count": 14,
     "metadata": {},
     "output_type": "execute_result"
    }
   ],
   "source": [
    "X_train.isnull().sum().sum()"
   ]
  },
  {
   "cell_type": "code",
   "execution_count": 15,
   "metadata": {
    "colab": {
     "base_uri": "https://localhost:8080/"
    },
    "executionInfo": {
     "elapsed": 319,
     "status": "ok",
     "timestamp": 1699952403398,
     "user": {
      "displayName": "Farog Fayz",
      "userId": "10363686322394617612"
     },
     "user_tz": -120
    },
    "id": "ApWxjYU2j_49",
    "outputId": "a0639944-c3d9-47fd-f138-1261a930657e"
   },
   "outputs": [
    {
     "name": "stdout",
     "output_type": "stream",
     "text": [
      "There are NaN values in the dataset.\n",
      "There are infinite values in the dataset.\n",
      "There are values too large for dtype('float64') in the dataset. Max value: inf\n",
      "There are infinite values in the dataset.\n",
      "There are values too large for dtype('float64') in the dataset. Max value: inf\n"
     ]
    }
   ],
   "source": [
    "import numpy as np\n",
    "\n",
    "def check_data_issues(data):\n",
    "    # Check for NaN values\n",
    "    if data.isnull().values.any():\n",
    "        print(\"There are NaN values in the dataset.\")\n",
    "\n",
    "    # Check for infinite values\n",
    "    if np.isinf(data).values.any():\n",
    "        print(\"There are infinite values in the dataset.\")\n",
    "\n",
    "    # Check for extremely large values\n",
    "    max_value = data.max().max()\n",
    "    if max_value > np.finfo(np.float64).max:\n",
    "        print(f\"There are values too large for dtype('float64') in the dataset. Max value: {max_value}\")\n",
    "\n",
    "    # Check for extremely small values\n",
    "    min_value = data.min().min()\n",
    "    if min_value < np.finfo(np.float64).min:\n",
    "        print(f\"There are values too small for dtype('float64') in the dataset. Min value: {min_value}\")\n",
    "\n",
    "# Check the training and testing data for any issues\n",
    "check_data_issues(X_train)\n",
    "check_data_issues(X_test)\n"
   ]
  },
  {
   "cell_type": "code",
   "execution_count": 16,
   "metadata": {
    "id": "GMmPRzjckl35"
   },
   "outputs": [],
   "source": [
    "# Replace infinity values with NaN\n",
    "X_train.replace([np.inf, -np.inf], np.nan, inplace=True)\n",
    "X_test.replace([np.inf, -np.inf], np.nan, inplace=True)\n",
    "\n",
    "# Impute NaN values with the mean of the corresponding column\n",
    "from sklearn.impute import SimpleImputer\n",
    "\n",
    "imputer = SimpleImputer(missing_values=np.nan, strategy='mean')\n",
    "X_train = imputer.fit_transform(X_train)\n",
    "X_test = imputer.transform(X_test)\n",
    "\n",
    "# Now, standardize the data\n",
    "scaler = StandardScaler()\n",
    "X_train = scaler.fit_transform(X_train)\n",
    "X_test = scaler.transform(X_test)\n"
   ]
  },
  {
   "cell_type": "code",
   "execution_count": 17,
   "metadata": {
    "colab": {
     "base_uri": "https://localhost:8080/",
     "height": 1000
    },
    "executionInfo": {
     "elapsed": 32847,
     "status": "ok",
     "timestamp": 1699952436554,
     "user": {
      "displayName": "Farog Fayz",
      "userId": "10363686322394617612"
     },
     "user_tz": -120
    },
    "id": "OeH-ZlcZr0gX",
    "outputId": "7a6bb373-7cd7-4865-c43f-7dfd764ba288"
   },
   "outputs": [
    {
     "name": "stderr",
     "output_type": "stream",
     "text": [
      "/tmp/ipykernel_8772/3989400141.py:23: FutureWarning: The frame.append method is deprecated and will be removed from pandas in a future version. Use pandas.concat instead.\n",
      "  model_comparison = model_comparison.append({\"Model\": name, \"Accuracy\": accuracy, \"F1 Score\": f1}, ignore_index=True)\n"
     ]
    },
    {
     "name": "stdout",
     "output_type": "stream",
     "text": [
      "Logistic Regression:\n",
      "Accuracy: 0.999378312937635\n",
      "F1 score: 0.9993793519071973\n",
      "              precision    recall  f1-score   support\n",
      "\n",
      "           0       0.97      0.97      0.97       171\n",
      "           1       1.00      1.00      1.00     25208\n",
      "           2       1.00      1.00      1.00      4621\n",
      "           3       0.98      0.99      0.98       562\n",
      "\n",
      "    accuracy                           1.00     30562\n",
      "   macro avg       0.99      0.99      0.99     30562\n",
      "weighted avg       1.00      1.00      1.00     30562\n",
      "\n",
      "\n",
      "\n"
     ]
    },
    {
     "name": "stderr",
     "output_type": "stream",
     "text": [
      "/tmp/ipykernel_8772/3989400141.py:23: FutureWarning: The frame.append method is deprecated and will be removed from pandas in a future version. Use pandas.concat instead.\n",
      "  model_comparison = model_comparison.append({\"Model\": name, \"Accuracy\": accuracy, \"F1 Score\": f1}, ignore_index=True)\n"
     ]
    },
    {
     "name": "stdout",
     "output_type": "stream",
     "text": [
      "Random Forest:\n",
      "Accuracy: 0.9996073555395589\n",
      "F1 score: 0.9996087894922059\n",
      "              precision    recall  f1-score   support\n",
      "\n",
      "           0       0.98      1.00      0.99       171\n",
      "           1       1.00      1.00      1.00     25208\n",
      "           2       1.00      1.00      1.00      4621\n",
      "           3       0.99      0.99      0.99       562\n",
      "\n",
      "    accuracy                           1.00     30562\n",
      "   macro avg       0.99      1.00      0.99     30562\n",
      "weighted avg       1.00      1.00      1.00     30562\n",
      "\n",
      "\n",
      "\n",
      "Support Vector Machine:\n",
      "Accuracy: 0.999149270335711\n",
      "F1 score: 0.9991562785146126\n",
      "              precision    recall  f1-score   support\n",
      "\n",
      "           0       0.95      1.00      0.97       171\n",
      "           1       1.00      1.00      1.00     25208\n",
      "           2       1.00      1.00      1.00      4621\n",
      "           3       0.97      0.99      0.98       562\n",
      "\n",
      "    accuracy                           1.00     30562\n",
      "   macro avg       0.98      1.00      0.99     30562\n",
      "weighted avg       1.00      1.00      1.00     30562\n",
      "\n",
      "\n",
      "\n"
     ]
    },
    {
     "name": "stderr",
     "output_type": "stream",
     "text": [
      "/tmp/ipykernel_8772/3989400141.py:23: FutureWarning: The frame.append method is deprecated and will be removed from pandas in a future version. Use pandas.concat instead.\n",
      "  model_comparison = model_comparison.append({\"Model\": name, \"Accuracy\": accuracy, \"F1 Score\": f1}, ignore_index=True)\n"
     ]
    },
    {
     "data": {
      "text/html": [
       "<div>\n",
       "<style scoped>\n",
       "    .dataframe tbody tr th:only-of-type {\n",
       "        vertical-align: middle;\n",
       "    }\n",
       "\n",
       "    .dataframe tbody tr th {\n",
       "        vertical-align: top;\n",
       "    }\n",
       "\n",
       "    .dataframe thead th {\n",
       "        text-align: right;\n",
       "    }\n",
       "</style>\n",
       "<table border=\"1\" class=\"dataframe\">\n",
       "  <thead>\n",
       "    <tr style=\"text-align: right;\">\n",
       "      <th></th>\n",
       "      <th>Model</th>\n",
       "      <th>Accuracy</th>\n",
       "      <th>F1 Score</th>\n",
       "    </tr>\n",
       "  </thead>\n",
       "  <tbody>\n",
       "    <tr>\n",
       "      <th>0</th>\n",
       "      <td>Logistic Regression</td>\n",
       "      <td>0.999378</td>\n",
       "      <td>0.999379</td>\n",
       "    </tr>\n",
       "    <tr>\n",
       "      <th>1</th>\n",
       "      <td>Random Forest</td>\n",
       "      <td>0.999607</td>\n",
       "      <td>0.999609</td>\n",
       "    </tr>\n",
       "    <tr>\n",
       "      <th>2</th>\n",
       "      <td>Support Vector Machine</td>\n",
       "      <td>0.999149</td>\n",
       "      <td>0.999156</td>\n",
       "    </tr>\n",
       "  </tbody>\n",
       "</table>\n",
       "</div>"
      ],
      "text/plain": [
       "                    Model  Accuracy  F1 Score\n",
       "0     Logistic Regression  0.999378  0.999379\n",
       "1           Random Forest  0.999607  0.999609\n",
       "2  Support Vector Machine  0.999149  0.999156"
      ]
     },
     "execution_count": 17,
     "metadata": {},
     "output_type": "execute_result"
    }
   ],
   "source": [
    "import pandas as pd\n",
    "from sklearn.metrics import accuracy_score, f1_score, classification_report\n",
    "\n",
    "# Create an empty DataFrame with the desired columns\n",
    "model_comparison = pd.DataFrame(columns=[\"Model\", \"Accuracy\", \"F1 Score\"])\n",
    "\n",
    "# Train and evaluate machine learning models\n",
    "models = {\n",
    "    \"Logistic Regression\": LogisticRegression(max_iter=1000),\n",
    "    \"Random Forest\": RandomForestClassifier(),\n",
    "    \"Support Vector Machine\": SVC()\n",
    "}\n",
    "\n",
    "for name, model in models.items():\n",
    "    model.fit(X_train, y_train)\n",
    "    y_pred = model.predict(X_test)\n",
    "\n",
    "    # Calculate metrics\n",
    "    accuracy = accuracy_score(y_test, y_pred)\n",
    "    f1 = f1_score(y_test, y_pred, average='weighted')\n",
    "\n",
    "    # Append the metrics to the DataFrame\n",
    "    model_comparison = model_comparison.append({\"Model\": name, \"Accuracy\": accuracy, \"F1 Score\": f1}, ignore_index=True)\n",
    "\n",
    "    print(f\"{name}:\")\n",
    "    print(f\"Accuracy: {accuracy}\")\n",
    "    print(f\"F1 score: {f1}\")\n",
    "    print(classification_report(y_test, y_pred))\n",
    "    print(\"\\n\")\n",
    "\n",
    "# Display the comparison DataFrame\n",
    "model_comparison"
   ]
  },
  {
   "cell_type": "code",
   "execution_count": 18,
   "metadata": {
    "colab": {
     "base_uri": "https://localhost:8080/",
     "height": 424
    },
    "executionInfo": {
     "elapsed": 23,
     "status": "ok",
     "timestamp": 1699952436557,
     "user": {
      "displayName": "Farog Fayz",
      "userId": "10363686322394617612"
     },
     "user_tz": -120
    },
    "id": "T-BFrAk1k8GR",
    "outputId": "1e8efaf4-24e8-48ec-beb8-70e6effee121"
   },
   "outputs": [
    {
     "data": {
      "text/html": [
       "<div>\n",
       "<style scoped>\n",
       "    .dataframe tbody tr th:only-of-type {\n",
       "        vertical-align: middle;\n",
       "    }\n",
       "\n",
       "    .dataframe tbody tr th {\n",
       "        vertical-align: top;\n",
       "    }\n",
       "\n",
       "    .dataframe thead th {\n",
       "        text-align: right;\n",
       "    }\n",
       "</style>\n",
       "<table border=\"1\" class=\"dataframe\">\n",
       "  <thead>\n",
       "    <tr style=\"text-align: right;\">\n",
       "      <th></th>\n",
       "      <th>Feature</th>\n",
       "      <th>Importance</th>\n",
       "    </tr>\n",
       "  </thead>\n",
       "  <tbody>\n",
       "    <tr>\n",
       "      <th>5</th>\n",
       "      <td>Timestamp</td>\n",
       "      <td>1.523385e-01</td>\n",
       "    </tr>\n",
       "    <tr>\n",
       "      <th>44</th>\n",
       "      <td>Max Packet Length</td>\n",
       "      <td>1.191067e-01</td>\n",
       "    </tr>\n",
       "    <tr>\n",
       "      <th>71</th>\n",
       "      <td>Init_Win_bytes_forward</td>\n",
       "      <td>1.007452e-01</td>\n",
       "    </tr>\n",
       "    <tr>\n",
       "      <th>52</th>\n",
       "      <td>ACK Flag Count</td>\n",
       "      <td>9.970727e-02</td>\n",
       "    </tr>\n",
       "    <tr>\n",
       "      <th>13</th>\n",
       "      <td>Fwd Packet Length Mean</td>\n",
       "      <td>8.021246e-02</td>\n",
       "    </tr>\n",
       "    <tr>\n",
       "      <th>...</th>\n",
       "      <td>...</td>\n",
       "      <td>...</td>\n",
       "    </tr>\n",
       "    <tr>\n",
       "      <th>79</th>\n",
       "      <td>Idle Mean</td>\n",
       "      <td>2.199928e-05</td>\n",
       "    </tr>\n",
       "    <tr>\n",
       "      <th>80</th>\n",
       "      <td>Idle Std</td>\n",
       "      <td>1.996111e-05</td>\n",
       "    </tr>\n",
       "    <tr>\n",
       "      <th>76</th>\n",
       "      <td>Active Std</td>\n",
       "      <td>1.148432e-05</td>\n",
       "    </tr>\n",
       "    <tr>\n",
       "      <th>77</th>\n",
       "      <td>Active Max</td>\n",
       "      <td>1.001874e-05</td>\n",
       "    </tr>\n",
       "    <tr>\n",
       "      <th>81</th>\n",
       "      <td>Idle Max</td>\n",
       "      <td>8.698712e-07</td>\n",
       "    </tr>\n",
       "  </tbody>\n",
       "</table>\n",
       "<p>71 rows × 2 columns</p>\n",
       "</div>"
      ],
      "text/plain": [
       "                    Feature    Importance\n",
       "5                 Timestamp  1.523385e-01\n",
       "44        Max Packet Length  1.191067e-01\n",
       "71   Init_Win_bytes_forward  1.007452e-01\n",
       "52           ACK Flag Count  9.970727e-02\n",
       "13   Fwd Packet Length Mean  8.021246e-02\n",
       "..                      ...           ...\n",
       "79                Idle Mean  2.199928e-05\n",
       "80                 Idle Std  1.996111e-05\n",
       "76               Active Std  1.148432e-05\n",
       "77               Active Max  1.001874e-05\n",
       "81                 Idle Max  8.698712e-07\n",
       "\n",
       "[71 rows x 2 columns]"
      ]
     },
     "execution_count": 18,
     "metadata": {},
     "output_type": "execute_result"
    }
   ],
   "source": [
    "feature_columns = X.columns\n",
    "\n",
    "# Get the Random Forest model from the 'models' dictionary\n",
    "random_forest_model = models['Random Forest']\n",
    "\n",
    "# Get feature importances\n",
    "importances = random_forest_model.feature_importances_\n",
    "\n",
    "# Create a DataFrame with the feature names and their corresponding importances\n",
    "feature_importances = pd.DataFrame({'Feature': feature_columns, 'Importance': importances})\n",
    "\n",
    "# Sort the DataFrame by importance in descending order\n",
    "feature_importances = feature_importances.sort_values(by='Importance', ascending=False)\n",
    "\n",
    "# Display the feature importances DataFrame\n",
    "# Filter the DataFrame to show only features with non-zero importance\n",
    "non_zero_importances = feature_importances[feature_importances['Importance'] > 0]\n",
    "\n",
    "# Display the filtered DataFrame\n",
    "non_zero_importances\n"
   ]
  },
  {
   "cell_type": "code",
   "execution_count": 19,
   "metadata": {
    "colab": {
     "base_uri": "https://localhost:8080/",
     "height": 333
    },
    "executionInfo": {
     "elapsed": 458,
     "status": "ok",
     "timestamp": 1699952436996,
     "user": {
      "displayName": "Farog Fayz",
      "userId": "10363686322394617612"
     },
     "user_tz": -120
    },
    "id": "Rp7wReGM1cJO",
    "outputId": "45ce681b-6895-4a2f-e606-da3ece2aca67"
   },
   "outputs": [
    {
     "data": {
      "image/png": "[encoded data removed]",
      "text/plain": [
       "<Figure size 500x300 with 2 Axes>"
      ]
     },
     "metadata": {},
     "output_type": "display_data"
    }
   ],
   "source": [
    "import seaborn as sns\n",
    "import matplotlib.pyplot as plt\n",
    "from sklearn.metrics import confusion_matrix\n",
    "\n",
    "# Choose the model you want to use, for example, Random Forest\n",
    "model = models[\"Random Forest\"]\n",
    "y_pred = model.predict(X_test)\n",
    "\n",
    "# Calculate the confusion matrix\n",
    "cm = confusion_matrix(y_test, y_pred)\n",
    "\n",
    "# Plot the confusion matrix using seaborn's heatmap\n",
    "plt.figure(figsize=(5, 3))\n",
    "sns.heatmap(cm, annot=True, fmt=\".2f\", cmap=\"Blues\", xticklabels=[\"0\", \"1\"], yticklabels=[\"0\", \"1\"])\n",
    "plt.ylabel(\"True label\")\n",
    "plt.xlabel(\"Predicted label\")\n",
    "plt.title(\"Confusion Matrix - Random Forest\")\n",
    "plt.show()\n"
   ]
  },
  {
   "cell_type": "code",
   "execution_count": null,
   "metadata": {
    "id": "o4Ygo0ir2yq5"
   },
   "outputs": [],
   "source": []
  }
 ],
 "metadata": {
  "colab": {
   "provenance": []
  },
  "kernelspec": {
   "display_name": "conda_tensorflow2_p310",
   "language": "python",
   "name": "conda_tensorflow2_p310"
  },
  "language_info": {
   "codemirror_mode": {
    "name": "ipython",
    "version": 3
   },
   "file_extension": ".py",
   "mimetype": "text/x-python",
   "name": "python",
   "nbconvert_exporter": "python",
   "pygments_lexer": "ipython3",
   "version": "3.10.13"
  }
 },
 "nbformat": 4,
 "nbformat_minor": 4
}
